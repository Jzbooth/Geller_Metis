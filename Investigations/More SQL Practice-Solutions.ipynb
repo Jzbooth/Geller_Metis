{
 "cells": [
  {
   "cell_type": "markdown",
   "metadata": {},
   "source": [
    "# More SQL - Solutions"
   ]
  },
  {
   "cell_type": "markdown",
   "metadata": {},
   "source": [
    "This notebook builds on what we've learned previously (in Week 4 labs) by adding a few additional concepts, as well as some example SQL Interview Questions.  We'll be focusing on queries (`SELECT` statements)."
   ]
  },
  {
   "cell_type": "markdown",
   "metadata": {},
   "source": [
    "## Example Interview Questions"
   ]
  },
  {
   "cell_type": "markdown",
   "metadata": {},
   "source": [
    "The following are two real examples of SQL interview questions:"
   ]
  },
  {
   "cell_type": "markdown",
   "metadata": {},
   "source": [
    "### Example Set 1: Customers and Orders\n",
    "\n",
    "Done in real time."
   ]
  },
  {
   "cell_type": "markdown",
   "metadata": {},
   "source": [
    "Answer the questions about the following two tables:\n",
    "\n",
    "```\n",
    "customers                              orders\n",
    "\n",
    "|---------------|---------|           |---------------|---------|\n",
    "| id            | int     |<-+        | order_id      | int     |\n",
    "| first_name    | varchar |  |-----+->| customer_id   | int     |\n",
    "| last_name     | varchar |           | order_amount  | int     |\n",
    "| zip_code      | varchar |           | order_date    | date    |\n",
    "|---------------|---------|           |---------------|---------|\n",
    "          \n",
    "``` \n",
    " \n",
    "-- TIME LIMIT 15 MINUTES (GET THROUGH AS MUCH AS YOU CAN)"
   ]
  },
  {
   "cell_type": "markdown",
   "metadata": {},
   "source": [
    "--1) Get all rows and columns from customers table"
   ]
  },
  {
   "cell_type": "markdown",
   "metadata": {},
   "source": [
    "```sql\n",
    "SELECT * \n",
    "FROM customers;\n",
    "```"
   ]
  },
  {
   "cell_type": "markdown",
   "metadata": {},
   "source": [
    "--2) Get all rows from customer table and only rows from orders table that match (Dupes are ok)"
   ]
  },
  {
   "cell_type": "markdown",
   "metadata": {},
   "source": [
    "```sql\n",
    "SELECT *\n",
    "FROM customers c\n",
    "INNER JOIN orders o ON c.id=o.customer_id;\n",
    "```"
   ]
  },
  {
   "cell_type": "markdown",
   "metadata": {},
   "source": [
    "--3) Get total order amount and total number of orders by customer name where their zip code is 98121 and order date is > 1/1/2015; if a customer has no orders results should show zero"
   ]
  },
  {
   "cell_type": "markdown",
   "metadata": {},
   "source": [
    "```sql\n",
    " select c.first_name, c.last_name, sum(order_amount),count(*)\n",
    " from customers c\n",
    " left join orders o on c.id=o.customer_id\n",
    " where c.zip_code = 98121\n",
    " and order_date > '2015-01-01' \n",
    " group by c.first_name, c.last_name;\n",
    "```"
   ]
  },
  {
   "cell_type": "markdown",
   "metadata": {},
   "source": [
    "--4) Using answer from #3, get only customers that had more than 2 orders"
   ]
  },
  {
   "cell_type": "markdown",
   "metadata": {},
   "source": [
    "```sql\n",
    "select c.first_name, c.last_name, sum(order_amount), count(order_id)\n",
    " from customers c\n",
    " left join orders o on c.id=o.customer_id\n",
    " where c.zip_code = 98121\n",
    " and order_date > '2015-01-01'\n",
    " and count(order_id)>2\n",
    " group by c.first_name, c.last_name;\n",
    "```"
   ]
  },
  {
   "cell_type": "markdown",
   "metadata": {},
   "source": [
    "--5) Using answer from #4 add in a numerical rank for each customer name ordering by the customer with the highest number of orders at the top"
   ]
  },
  {
   "cell_type": "markdown",
   "metadata": {},
   "source": [
    "```sql\n",
    "select firstname, lastname, invoices, rank( ) over ( order by invoices desc ) as rank\n",
    "from (\n",
    "\n",
    "select c.firstname, c.lastname, count(*) as invoices\n",
    "from customers c\n",
    "inner join invoices i on i.customerid = c.customerid\n",
    "group by c.firstname, c.lastname\n",
    "\n",
    ")\n",
    ";\n",
    "```"
   ]
  },
  {
   "cell_type": "markdown",
   "metadata": {},
   "source": [
    "--6) Get the total number of orders broken into the following buckets based on total order amount: <\\$5, \\$5-\\$20, >\\$20"
   ]
  },
  {
   "cell_type": "markdown",
   "metadata": {},
   "source": [
    "```sql\n",
    "SELECT amt, count(*)\n",
    "from\n",
    "\n",
    "(SELECT c.customerid, count(*), \n",
    "CASE\n",
    "     when sum(i.total) > 20 then '>$20'\n",
    "     when sum(i.total) > 5 and sum(i.total) < 20 then '$5-$20'\n",
    "     else '<$5'\n",
    "end as amt\n",
    "from customers c\n",
    "inner join invoices i on i.customerid=c.customerid\n",
    "\n",
    "group by c.customerid)\n",
    "group by amt\n",
    ";\n",
    "```"
   ]
  },
  {
   "cell_type": "markdown",
   "metadata": {},
   "source": [
    "--7) Get the second highest order amount per customer, if customer only has one order, order amount should show zero"
   ]
  },
  {
   "cell_type": "markdown",
   "metadata": {},
   "source": [
    "```sql\n",
    "select i.customerid, total as secondmax\n",
    "from invoices i\n",
    "where total < \n",
    "     (select max(total)\n",
    "      from invoices ii\n",
    "      where ii.customerid = i.customerid )\n",
    "group by customerid;\n",
    "```"
   ]
  },
  {
   "cell_type": "markdown",
   "metadata": {},
   "source": [
    "### Example Set 2: Pizza Orders\n",
    "\n",
    "Homework assignment."
   ]
  },
  {
   "cell_type": "markdown",
   "metadata": {},
   "source": [
    "Let’s say we have a database table of pizza orders.  Each row is one pizza that was ordered and let’s say that it includes these columns and this example data (the table is much larger, of course):"
   ]
  },
  {
   "cell_type": "markdown",
   "metadata": {},
   "source": [
    "| order_id (INT) | order_date (DATE) | customer_id (INT) | order_item_id (INT) | canceled (CHAR(1)) | size (CHAR(3)) | toppings (VARCHAR(1024)) |\n",
    "|:--:|:--:|:--:|:--:|:--:|:--:|:--:|\n",
    "|10001|2016-01-01|9876|1|N|XL|\n",
    "|10001|2016-01-01|9876|2|N|M|Pepperoni|\n",
    "|10001|2016-01-01|9876|3|N|L|Pineapple, Ham|\n",
    "|10003|2016-01-01|4658|1|Y|S|Black Olives, Spicy Peppers|\n",
    "|10004|2016-01-02|3356|1|N|M|Bacon, Extra Cheese|\n",
    "|10005|2016-01-03|7653|1|N|XL|Hamburger|\n",
    "|10005|2016-01-03|7653|2|N|XL|Spicy Pepperoni, Feta Cheese"
   ]
  },
  {
   "cell_type": "markdown",
   "metadata": {},
   "source": [
    "1.Write a SQL query that results in 1 row per month, with columns of:\n",
    "- Month\n",
    "- Total Orders\n",
    "- Total Pizzas Ordered\n",
    "- 1 more column for total count of each size that we sold (XL, L, M, S)"
   ]
  },
  {
   "cell_type": "markdown",
   "metadata": {},
   "source": [
    "```sql\n",
    "select pizza_totals.day_of_month, pizza_totals.total_orders, pizza_totals.total_pizzas,\n",
    " \n",
    "\t\tcount(case when pizza_totals.size = 'S' then pizza_totals.total_pizzas else null end) as S,\n",
    "        count(case when pizza_totals.size = 'M' then pizza_totals.total_pizzas else null end) as M,\n",
    "        count(case when pizza_totals.size = 'L' then pizza_totals.total_pizzas else null end) as L,\n",
    "        count(case when pizza_totals.size = 'XL' then pizza_totals.total_pizzas else null end) as XL\n",
    "\n",
    "from\n",
    "\t(select extract(day from order_date) day_of_month, count(distinct order_id) total_orders, count(order_id) total_pizzas, size\n",
    "\t\tfrom pizza_orders\n",
    "\t\twhere canceled != 'Y'\n",
    "\t\tgroup by extract(day from order_date), size\n",
    "\t\torder by extract(day from order_date)\n",
    "     ) pizza_totals\n",
    "\n",
    "group by pizza_totals.day_of_month, pizza_totals.total_orders, pizza_totals.total_pizzas\n",
    "order by day_of_month\n",
    ";\n",
    "```"
   ]
  },
  {
   "cell_type": "markdown",
   "metadata": {},
   "source": [
    "2.Write a SQL query that results in 1 row per customer and the following columns:\n",
    "- Customer_id\n",
    "- First order date\n",
    "- Total pizzas ordered in the first order\n",
    "- Whether any pizzas in the first order were canceled"
   ]
  },
  {
   "cell_type": "markdown",
   "metadata": {},
   "source": [
    "```sql\n",
    "select po.customer_id, po.order_date first_order_date, count(po.order_id) total_pizzas,\n",
    "\t(case when po.canceled = 'Y' then 'Yes' else 'No' end) were_pizzas_canceled\n",
    "from pizza_orders po\n",
    "\t\n",
    "where\n",
    "\n",
    "\tpo.order_date = (select min(po2.order_date)\n",
    "                    \tfrom pizza_orders po2\n",
    "                    \twhere po.customer_id = po2.customer_id)\n",
    "\n",
    "\n",
    "group by po.customer_id, po.order_id, po.canceled, po.order_date;\n",
    "```"
   ]
  },
  {
   "cell_type": "markdown",
   "metadata": {},
   "source": [
    "3.Write a SQL query to see how well our new Spicy Pepperoni topping is selling."
   ]
  },
  {
   "cell_type": "markdown",
   "metadata": {},
   "source": [
    "```sql\n",
    "select extract(month from order_date) as month, pizzas_spicy_pepperoni/total_pizzas_per_day as percentage_pizzas_spicy_pepperoni\n",
    "from\n",
    "(select order_date, extract(day from order_date) as day,  \n",
    "\t\tcount(distinct order_id) as total_orders_per_day,\n",
    "\t\tcount(order_id) as total_pizzas_per_day,\n",
    "\t\tsum(case when toppings like '%Spicy Pepperoni%' then 1 else 0 end) as pizzas_spicy_pepperoni\n",
    "\t\tfrom pizza_orders\n",
    "\t\tgroup by order_date,day) as pizza_orders\n",
    "group by month, percentage_pizzas_spicy_pepperoni\n",
    ";\n",
    "```"
   ]
  },
  {
   "cell_type": "markdown",
   "metadata": {},
   "source": [
    "## More references"
   ]
  },
  {
   "cell_type": "markdown",
   "metadata": {},
   "source": [
    "A slightly more advanced tutorial: https://www.tutorialspoint.com/sql/index.htm\n",
    "\n",
    "A more interactive tutorial, with different sample databases: https://community.modeanalytics.com/sql/\n",
    "\n",
    "http://sqlfiddle.com/#!9/9eecb\n",
    "\n",
    "W3Schools https://www.w3schools.com/sql/default.asp\n",
    "\n",
    "Join types: http://www.sql-join.com/sql-join-types/"
   ]
  },
  {
   "cell_type": "code",
   "execution_count": null,
   "metadata": {
    "collapsed": true
   },
   "outputs": [],
   "source": []
  }
 ],
 "metadata": {
  "kernelspec": {
   "display_name": "Python 3",
   "language": "python",
   "name": "python3"
  },
  "language_info": {
   "codemirror_mode": {
    "name": "ipython",
    "version": 3
   },
   "file_extension": ".py",
   "mimetype": "text/x-python",
   "name": "python",
   "nbconvert_exporter": "python",
   "pygments_lexer": "ipython3",
   "version": "3.6.3"
  },
  "toc": {
   "nav_menu": {},
   "number_sections": true,
   "sideBar": true,
   "skip_h1_title": false,
   "toc_cell": false,
   "toc_position": {},
   "toc_section_display": "block",
   "toc_window_display": false
  }
 },
 "nbformat": 4,
 "nbformat_minor": 2
}
