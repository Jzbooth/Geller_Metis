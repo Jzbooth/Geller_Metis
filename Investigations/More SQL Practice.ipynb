{
 "cells": [
  {
   "cell_type": "markdown",
   "metadata": {
    "slideshow": {
     "slide_type": "slide"
    }
   },
   "source": [
    "# More SQL"
   ]
  },
  {
   "cell_type": "markdown",
   "metadata": {
    "slideshow": {
     "slide_type": "-"
    }
   },
   "source": [
    "This notebook builds on what we've learned previously (in Week 4 labs) by adding a few additional concepts, as well as some example SQL Interview Questions.  We'll be focusing on queries (`SELECT` statements).\n",
    "\n",
    "**Outline**:\n",
    "- Review\n",
    "- New concepts\n",
    "- Notes on using SQL on the job\n",
    "- Example Interview Questions\n",
    "- Additional References"
   ]
  },
  {
   "cell_type": "markdown",
   "metadata": {
    "slideshow": {
     "slide_type": "slide"
    }
   },
   "source": [
    "## Reminder:\n",
    "\n",
    "We've learned the following operations already:\n",
    "\n",
    "```sql\n",
    "SELECT\n",
    "FROM\n",
    "JOIN, ON\n",
    "WHERE\n",
    "GROUP BY\n",
    "HAVING\n",
    "ORDER BY\n",
    "LIMIT\n",
    "```"
   ]
  },
  {
   "cell_type": "markdown",
   "metadata": {
    "slideshow": {
     "slide_type": "slide"
    }
   },
   "source": [
    "Some notes on each:\n",
    "\n",
    "**`SELECT`**: The columns in your final result set. Using `SELECT DISTINCT` returns the unique values for each column in your query\n",
    "\n",
    "**`FROM`**: The table that you'll be getting your data from. Or, if you're going to be using `JOIN`, the first table you'll look at.\n",
    "\n",
    "**`JOIN`**: Use this to join another table to your existing set of tables, and use `ON` to specifiy a column from each of the two tables you're joining to be used as the key.  There are four different types of `JOIN`: `INNER JOIN`, `OUTER JOIN` (or `FULL JOIN` in some flavors of SQL), `RIGHT JOIN` and `LEFT JOIN`.  This site has a good visualization explaining each: http://www.sql-join.com/sql-join-types/\n",
    "\n",
    "**`WHERE`**: Use this to extract only those rows that satisfy a certain condition. eg < , > , <> , = , <= , >= ,  `BETWEEN`, `LIKE`, `IN` (more on the last three below).  Multiple conditions can be linked together using `AND`, `OR` or `NOT`.\n",
    "\n",
    "**`GROUP BY`**: This is needed whenever you're doing an aggregation on one or more columns. NOTE: when using `GROUP BY`, you must group by all columns that are not being aggregated.\n",
    "\n",
    "**`HAVING`**: Used to return only rows of an **agregated** column that satisfy a certain condition. This is similar to `WHERE`, though `WHERE` doesn't work with aggregated columns.\n",
    "\n",
    "**`ORDER BY`**: Used to sort the resulting table according to one or more columns.  Use with `ASC` or `DESC`.\n",
    "\n",
    "**`LIMIT`**: Used to limit the number of rows returned.  Like `.head()` in pandas, though you need to specify a number of rows.\n",
    "\n",
    "\n",
    "We also learned aggregations like `MIN`, `MAX`, `COUNT`, `AVG` and `SUM`, which can be used in `SELECT`."
   ]
  },
  {
   "cell_type": "markdown",
   "metadata": {
    "slideshow": {
     "slide_type": "slide"
    }
   },
   "source": [
    "## Some new SQL concepts"
   ]
  },
  {
   "cell_type": "markdown",
   "metadata": {},
   "source": [
    "For the following examples, we'll be using two tables as follows:\n",
    "\n",
    "**Customers:**\n",
    "\n",
    "| column | type |\n",
    "| --|--|\n",
    "|id (key) | INT |\n",
    "|customer_name | STR|\n",
    "|zipcode | INT |\n",
    "| date_of_birth | DATE |\n",
    "\n",
    "**Purchases:**\n",
    "\n",
    "| column | type |\n",
    "| --|--|\n",
    "|purchase_id (key) | INT |\n",
    "|customer_id (foreign key)| INT|\n",
    "|purchase_total| INT |\n",
    "|purchase_date | DATE |"
   ]
  },
  {
   "cell_type": "markdown",
   "metadata": {},
   "source": [
    "### Data Types: Working with Strings\n",
    "\n",
    "When working with strings, it's safest to convert them to lower case to avoid leakage.  We do this using the `LOWER` keyword.\n",
    "\n",
    "#### `LIKE`\n",
    "The `LIKE` operator is used to compare strings to a specified pattern, and is used in the `WHERE` clause. You can also use `NOT LIKE` to find strings that don't follow the given pattern. \n",
    "\n",
    "There are two wildcards used with `LIKE`:\n",
    "- %: matches any string of zero or more characters\n",
    "- \\_: matches any single character\n",
    "\n",
    "Simple examples:\n",
    "```sql\n",
    "'abc' LIKE 'abc'    true\n",
    "'abc' LIKE 'a%'     true\n",
    "'abc' LIKE '_b_'    true\n",
    "'abc' LIKE 'c'      false\n",
    "```\n",
    "\n",
    "Example combining `LOWER` and `LIKE`:\n",
    "\n",
    "Find all customers with names ending with an 'a'.\n",
    "\n",
    "```sql\n",
    "SELECT customer_name, zipcode\n",
    "FROM customers\n",
    "WHERE LOWER(customer_name) LIKE '%a';\n",
    "```\n"
   ]
  },
  {
   "cell_type": "markdown",
   "metadata": {},
   "source": [
    "### Data Types: Null Values\n",
    "\n",
    "If a field in a table is optional, it's possible for rows to have a `NULL` value for that field.\n",
    "\n",
    "To check for `NULL` values in SQL, you can use `IS NULL` or `IS NOT NULL` in the `WHERE` clause.\n",
    "\n",
    "For example:\n",
    "\n",
    "Find customers that don't have their zipcode listed:\n",
    "``` sql\n",
    "SELECT customer_name AS Name, zipcode\n",
    "FROM customers\n",
    "WHERE zipcode IS NULL;\n",
    "```\n",
    "\n",
    "Find customers that do have their zipcode listed:\n",
    "``` sql\n",
    "SELECT customer_name AS Name, zipcode\n",
    "FROM customers\n",
    "WHERE zipcode IS NOT NULL;\n",
    "```"
   ]
  },
  {
   "cell_type": "markdown",
   "metadata": {},
   "source": [
    "### Data Types: Dates\n",
    "Dates are stored in PostgreSQL using the DATE data type. When working with them, DATE types have the appearance `yyyy-mm-dd`.\n",
    "\n",
    "Similar to using dates in Python, SQL supports operations like +, -, >, <, =, etc with Dates.  These comparisons are done in the `WHERE` clause.\n",
    "\n",
    "The `EXTRACT` function will return different parts of the date. eg day, month, year.\n",
    "\n",
    "For example, find customers who were born after 1980:\n",
    "```sql\n",
    "SELECT customer_name, date_of_birth,\n",
    "FROM customers\n",
    "WHERE EXTRACT(YEAR FROM date_of_birth) > 1980;\n",
    "```\n",
    "\n",
    "For more info, see: http://www.postgresqltutorial.com/postgresql-date/\n",
    "\n"
   ]
  },
  {
   "cell_type": "markdown",
   "metadata": {},
   "source": [
    "### More Comparisons\n",
    "\n",
    "#### `IN`\n",
    "\n",
    "The `IN` operator can be used in the `WHERE` clause to allow searching for multiple values.\n",
    "\n",
    "For example, find customers who live in the areas with zipcodes 98107, 98108,98109.\n",
    "```sql\n",
    "SELECT customer_name, zipcode\n",
    "FROM customers\n",
    "WHERE zipcode IN (98107,98108,98109);\n",
    "```\n",
    "\n",
    "#### `BETWEEN`\n",
    "\n",
    "The `BETWEEN` operator allows values to be within a range, and is used in the `WHERE` clause.  Begin and end values are included.\n",
    "\n",
    "Another way to write the above example is:\n",
    "```sql\n",
    "SELECT customer_name, zipcode\n",
    "FROM customers\n",
    "WHERE zipcode BETWEEN 98107 AND 98109;\n",
    "```"
   ]
  },
  {
   "cell_type": "markdown",
   "metadata": {},
   "source": [
    "### Aliases\n",
    "\n",
    "For ease of readability and presentation, it's common to use aliases in SQL queries.  They're used both in the `SELECT` and `FROM` clauses.  The `AS` keyword is optional.\n",
    "\n",
    "eg:  \n",
    "\n",
    "In the `SELECT` clause:\n",
    "\n",
    "```sql\n",
    "SELECT customer_name AS Name, date_of_birth AS Birthday\n",
    "FROM customers;\n",
    "```\n",
    "\n",
    "In both `SELECT` and `FROM` clauses:\n",
    "\n",
    "```sql\n",
    "SELECT c.customer_name AS Name, p.purchase_total AS Total\n",
    "FROM customers as c\n",
    "INNER JOIN purchases as p on c.id = p.customer_id;\n",
    "```\n",
    "\n"
   ]
  },
  {
   "cell_type": "markdown",
   "metadata": {},
   "source": [
    "### `CASE`\n",
    "\n",
    "The `CASE` statement is SQL's way of using if/then logic.  It's used in the `SELECT` statement.  You can use it to bucket values in one column according to specified conditions, or to create 'Dummy' columns.\n",
    "\n",
    "The `CASE` statement contains:\n",
    "- at least one pair of `WHEN` and `THEN` statements, (like if/then)\n",
    "- an optional `ELSE` statement\n",
    "\n",
    "Every `CASE` statement **must** end with an `END` statement.\n",
    "\n",
    "\n",
    "#### Bucketing values:\n",
    "For example, label customers born in 1980 or later as `>1980`, and those with an earlier birth year as `<1980` :\n",
    "\n",
    "```sql\n",
    "SELECT customer_name, \n",
    "    CASE\n",
    "        WHEN EXTRACT(YEAR FROM date_of_birth) >= 1980 THEN '>1980'\n",
    "        WHEN EXTRACT(YEAR FROM date_of_birth) < 1980 THEN '<1980'\n",
    "    END AS birth_year\n",
    "from customers;\n",
    "```\n",
    "\n",
    "This would return something like:\n",
    "\n",
    "| customer_name | birth_year |\n",
    "| -- | -- |\n",
    "| Joe | >1980 |\n",
    "| Sam | <1980 |\n",
    "| Jill | <1980 |\n",
    "\n",
    "\n",
    "#### Creating 'Dummy' Columns\n",
    "\n",
    "Multiple `CASE` statements in the `SELECT` statement will return multiple columns.\n",
    "\n",
    "\n",
    "For example, count the number of purchases  that were less than \\$10, and the number that were greater than or equal to \\$10:\n",
    "\n",
    "```sql\n",
    "SELECT \n",
    "    COUNT(CASE WHEN purchase_total <  10 THEN purchase_total ELSE NULL END) AS '< $10', \n",
    "    COUNT(CASE WHEN purchase_total >= 10 THEN purchase_total ELSE NULL END) AS '>= $10'\n",
    "FROM purchases;\n",
    "```\n",
    "\n",
    "This would return something like:\n",
    "\n",
    "| <\\$10 | >=\\$10 |\n",
    "| -- | -- |\n",
    "| 654 | 243 |\n",
    "\n",
    "\n",
    "\n",
    "\n",
    "This page has a really good tutorial on `CASE` statements: https://community.modeanalytics.com/sql/tutorial/sql-case/"
   ]
  },
  {
   "cell_type": "markdown",
   "metadata": {},
   "source": [
    "### Subqueries or Nested Queries\n",
    "\n",
    "#### Aggregation\n",
    "Nested Queries can be used to perform operations in multiple steps. When they're used for this purpose, the nested query goes in the `FROM` clause of the outer query.  When using nested queries for aggregation, think of it as another table.  It's important to give your nested query (eg temporary table) an Alias.\n",
    "\n",
    "For example:\n",
    "\n",
    "Find each customer's average purchase total:\n",
    "\n",
    "```sql\n",
    "SELECT c.customer_name, AVG(p.total)\n",
    "FROM \n",
    "    (SELECT customer_id, sum(purchase_total) as total\n",
    "    FROM purchases\n",
    "    GROUP BY customer_id\n",
    "    ) AS p\n",
    "INNER JOIN customers AS c on c.id = p.customer_id\n",
    "GROUP BY c.customer_name;\n",
    "```\n",
    "\n",
    "#### Conditional Logic\n",
    "Nested Queries can be used inside the outer query's `WHERE`, `JOIN` or `CASE` clause to help define conditions.\n",
    "\n",
    "For example:\n",
    "\n",
    "Find the customer (name) with the earliest date of purchase:\n",
    "\n",
    "```sql\n",
    "SELECT c.customer_name, p.purchase_date\n",
    "FROM customers c\n",
    "INNER JOIN purchases p on c.id = p.customer_id\n",
    "WHERE p.purchase_date = (SELECT MIN(purchase_date)\n",
    "                           FROM purchases ps\n",
    "                           );\n",
    "```\n",
    "\n",
    "Here's a good tutorial on Nested Queries: https://community.modeanalytics.com/sql/tutorial/sql-subqueries/"
   ]
  },
  {
   "attachments": {},
   "cell_type": "markdown",
   "metadata": {
    "heading_collapsed": true
   },
   "source": [
    "## Notes on using SQL on the job\n",
    "\n",
    "### Avoid using wildcards\n",
    "\n",
    "In companies with huge tables, leaving queries unbounded can lead to long runtimes.  For example:\n",
    "\n",
    "```sql\n",
    "SELECT *\n",
    "FROM customers;\n",
    "```\n",
    "\n",
    "If the database that you're querying is also being queried by other Analysts (or is being used in Prod), you could impact the performance of the database for others as well. \n",
    "\n",
    "Instead, if you're building your query or exploring the database, you can use `LIMIT` to only grab the first few lines. For example:\n",
    "\n",
    "```sql\n",
    "SELECT *\n",
    "FROM customers\n",
    "LIMIT 5;\n",
    "```\n",
    "\n",
    "### Schema\n",
    "\n",
    "Databases can get complicated! So if you can get your hands on the schema, it'll help you write your queries!\n",
    "\n",
    "A schema shows you relationships between tables and which elements are keys.  \n",
    "\n",
    "For example:\n",
    "\n",
    "![image.png](https://encrypted-tbn0.gstatic.com/images?q=tbn:ANd9GcS2FHna5nYGP4B8PcOwilaOYcmWxAjKxwSI0dNt-GdvyKcnkgkJew)\n",
    "\n",
    "### Visualize the result you want\n",
    "\n",
    "Finally, when starting a new query, it's really helpful to draw the table you want before you start!  That way you can visualize which tables you need to join, which aggregations you need to use, and any edge cases you might need to consider!"
   ]
  },
  {
   "cell_type": "markdown",
   "metadata": {},
   "source": [
    "## Example Interview Questions"
   ]
  },
  {
   "cell_type": "markdown",
   "metadata": {},
   "source": [
    "The following are two real examples of SQL interview questions:"
   ]
  },
  {
   "cell_type": "markdown",
   "metadata": {},
   "source": [
    "### Example Set 1: Customers and Orders\n",
    "\n",
    "Done in real time."
   ]
  },
  {
   "cell_type": "markdown",
   "metadata": {},
   "source": [
    "Answer the questions about the following two tables:\n",
    "\n",
    "```\n",
    "customers                              orders\n",
    "\n",
    "|---------------|---------|           |---------------|---------|\n",
    "| id            | int     |<-+        | order_id      | int     |\n",
    "| first_name    | varchar |  |-----+->| customer_id   | int     |\n",
    "| last_name     | varchar |           | order_amount  | int     |\n",
    "| zip_code      | varchar |           | order_date    | date    |\n",
    "|---------------|---------|           |---------------|---------|\n",
    "          \n",
    "``` \n",
    " \n",
    "-- TIME LIMIT 15 MINUTES (GET THROUGH AS MUCH AS YOU CAN)"
   ]
  },
  {
   "cell_type": "markdown",
   "metadata": {},
   "source": [
    "--1) Get all rows and columns from customers table"
   ]
  },
  {
   "cell_type": "markdown",
   "metadata": {},
   "source": [
    "--2) Get all rows from customer table and only rows from orders table that match (Dupes are ok)"
   ]
  },
  {
   "cell_type": "markdown",
   "metadata": {},
   "source": [
    "--3) Get total order amount and total number of orders by customer name where their zip code is 98121 and order date is > 1/1/2015; if a customer has no orders results should show zero"
   ]
  },
  {
   "cell_type": "markdown",
   "metadata": {},
   "source": [
    "--4) Using answer from #3, get only customers that had more than 2 orders"
   ]
  },
  {
   "cell_type": "markdown",
   "metadata": {},
   "source": [
    "--5) Using answer from #4 add in a numerical rank for each customer name ordering by the customer with the highest number of orders at the top"
   ]
  },
  {
   "cell_type": "markdown",
   "metadata": {},
   "source": [
    "--6) Get the total number of orders broken into the following buckets based on total order amount: <\\$5, \\$5 - \\$20, >\\$20"
   ]
  },
  {
   "cell_type": "markdown",
   "metadata": {},
   "source": [
    "--7) Get the second highest order amount per customer, if customer only has one order, order amount should show zero"
   ]
  },
  {
   "cell_type": "markdown",
   "metadata": {},
   "source": [
    "### Example Set 2: Pizza Orders\n",
    "\n",
    "Homework assignment."
   ]
  },
  {
   "cell_type": "markdown",
   "metadata": {},
   "source": [
    "Let’s say we have a database table of pizza orders.  Each row is one pizza that was ordered and let’s say that it includes these columns and this example data (the table is much larger, of course):"
   ]
  },
  {
   "cell_type": "markdown",
   "metadata": {},
   "source": [
    "| order_id (INT) | order_date (DATE) | customer_id (INT) | order_item_id (INT) | canceled (CHAR(1)) | size (CHAR(3)) | toppings (VARCHAR(1024)) |\n",
    "|:--:|:--:|:--:|:--:|:--:|:--:|:--:|\n",
    "|10001|2016-01-01|9876|1|N|XL|\n",
    "|10001|2016-01-01|9876|2|N|M|Pepperoni|\n",
    "|10001|2016-01-01|9876|3|N|L|Pineapple, Ham|\n",
    "|10003|2016-01-01|4658|1|Y|S|Black Olives, Spicy Peppers|\n",
    "|10004|2016-01-02|3356|1|N|M|Bacon, Extra Cheese|\n",
    "|10005|2016-01-03|7653|1|N|XL|Hamburger|\n",
    "|10005|2016-01-03|7653|2|N|XL|Spicy Pepperoni, Feta Cheese"
   ]
  },
  {
   "cell_type": "markdown",
   "metadata": {},
   "source": [
    "1.Write a SQL query that results in 1 row per month, with columns of:\n",
    "- Month\n",
    "- Total Orders\n",
    "- Total Pizzas Ordered\n",
    "- 1 more column for total count of each size that we sold (XL, L, M, S)"
   ]
  },
  {
   "cell_type": "markdown",
   "metadata": {},
   "source": [
    "2.Write a SQL query that results in 1 row per customer and the following columns:\n",
    "- Customer_id\n",
    "- First order date\n",
    "- Total pizzas ordered in the first order\n",
    "- Whether any pizzas in the first order were canceled"
   ]
  },
  {
   "cell_type": "markdown",
   "metadata": {},
   "source": [
    "3.Write a SQL query to see how well our new Spicy Pepperoni topping is selling."
   ]
  },
  {
   "cell_type": "markdown",
   "metadata": {},
   "source": [
    "## More references"
   ]
  },
  {
   "cell_type": "markdown",
   "metadata": {},
   "source": [
    "A slightly more advanced tutorial: https://www.tutorialspoint.com/sql/index.htm\n",
    "\n",
    "A more interactive tutorial, with different sample databases: https://community.modeanalytics.com/sql/\n",
    "\n",
    "http://sqlfiddle.com/#!9/9eecb\n",
    "\n",
    "W3Schools https://www.w3schools.com/sql/default.asp\n",
    "\n",
    "Join types: http://www.sql-join.com/sql-join-types/"
   ]
  },
  {
   "cell_type": "code",
   "execution_count": null,
   "metadata": {
    "collapsed": true
   },
   "outputs": [],
   "source": []
  }
 ],
 "metadata": {
  "kernelspec": {
   "display_name": "Python 3",
   "language": "python",
   "name": "python3"
  },
  "language_info": {
   "codemirror_mode": {
    "name": "ipython",
    "version": 3
   },
   "file_extension": ".py",
   "mimetype": "text/x-python",
   "name": "python",
   "nbconvert_exporter": "python",
   "pygments_lexer": "ipython3",
   "version": "3.6.3"
  },
  "toc": {
   "nav_menu": {},
   "number_sections": true,
   "sideBar": true,
   "skip_h1_title": false,
   "toc_cell": false,
   "toc_position": {},
   "toc_section_display": "block",
   "toc_window_display": false
  }
 },
 "nbformat": 4,
 "nbformat_minor": 2
}
