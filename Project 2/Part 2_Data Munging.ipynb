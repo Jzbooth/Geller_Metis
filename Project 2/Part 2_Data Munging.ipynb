{
 "cells": [
  {
   "cell_type": "markdown",
   "metadata": {},
   "source": [
    "# Part 2: Data Munging"
   ]
  },
  {
   "cell_type": "code",
   "execution_count": 36,
   "metadata": {},
   "outputs": [],
   "source": [
    "import pandas as pd\n",
    "import numpy as np\n",
    "import statsmodels.api as sm\n",
    "import statsmodels.formula.api as smf\n",
    "import patsy\n",
    "import pickle\n",
    "\n",
    "import seaborn as sns\n",
    "import matplotlib.pyplot as plt\n",
    "from sklearn.linear_model import LinearRegression\n",
    "from sklearn.linear_model import RidgeCV\n",
    "%matplotlib inline\n",
    "\n",
    "from sklearn.cross_validation import train_test_split\n",
    "from sklearn.cross_validation import KFold\n",
    "from sklearn.cross_validation import cross_val_score"
   ]
  },
  {
   "cell_type": "markdown",
   "metadata": {},
   "source": [
    "## Open Webscraped Data"
   ]
  },
  {
   "cell_type": "code",
   "execution_count": 37,
   "metadata": {},
   "outputs": [],
   "source": [
    "with open(\"countries_data_scraped.pkl\", 'rb') as picklefile: \n",
    "    countries_data = pickle.load(picklefile)"
   ]
  },
  {
   "cell_type": "code",
   "execution_count": 38,
   "metadata": {},
   "outputs": [
    {
     "data": {
      "text/html": [
       "<div>\n",
       "<style>\n",
       "    .dataframe thead tr:only-child th {\n",
       "        text-align: right;\n",
       "    }\n",
       "\n",
       "    .dataframe thead th {\n",
       "        text-align: left;\n",
       "    }\n",
       "\n",
       "    .dataframe tbody tr th {\n",
       "        vertical-align: top;\n",
       "    }\n",
       "</style>\n",
       "<table border=\"1\" class=\"dataframe\">\n",
       "  <thead>\n",
       "    <tr style=\"text-align: right;\">\n",
       "      <th></th>\n",
       "      <th>Country</th>\n",
       "      <th>url</th>\n",
       "      <th>Change in rank</th>\n",
       "      <th>Score</th>\n",
       "      <th>Change in score</th>\n",
       "      <th>GDP per capita</th>\n",
       "      <th>Social support</th>\n",
       "      <th>Healthy life expectancy</th>\n",
       "      <th>Freedom to make life choices</th>\n",
       "      <th>Generosity</th>\n",
       "      <th>...</th>\n",
       "      <th>Life_Expectancy</th>\n",
       "      <th>Fertility_Rate</th>\n",
       "      <th>Hospital_Bed_Density</th>\n",
       "      <th>Access_To_Clean_Water</th>\n",
       "      <th>Obesity_Rate</th>\n",
       "      <th>School_Life_Expectancy</th>\n",
       "      <th>GDP</th>\n",
       "      <th>GDP_per_capita</th>\n",
       "      <th>Unemployment_Rate</th>\n",
       "      <th>Electrification_Rate</th>\n",
       "    </tr>\n",
       "  </thead>\n",
       "  <tbody>\n",
       "    <tr>\n",
       "      <th>0</th>\n",
       "      <td>Afghanistan</td>\n",
       "      <td>geos/af.html</td>\n",
       "      <td>13</td>\n",
       "      <td>3.794</td>\n",
       "      <td>0.434</td>\n",
       "      <td>0.401</td>\n",
       "      <td>0.582</td>\n",
       "      <td>0.181</td>\n",
       "      <td>0.106</td>\n",
       "      <td>0.312</td>\n",
       "      <td>...</td>\n",
       "      <td>51.7</td>\n",
       "      <td>5.12</td>\n",
       "      <td>0.5</td>\n",
       "      <td>0.553</td>\n",
       "      <td>0.055</td>\n",
       "      <td>11.0</td>\n",
       "      <td>6.951000e+10</td>\n",
       "      <td>1900.0</td>\n",
       "      <td>0.350</td>\n",
       "      <td>0.430</td>\n",
       "    </tr>\n",
       "    <tr>\n",
       "      <th>2</th>\n",
       "      <td>Albania</td>\n",
       "      <td>geos/al.html</td>\n",
       "      <td>0</td>\n",
       "      <td>4.644</td>\n",
       "      <td>-0.011</td>\n",
       "      <td>0.996</td>\n",
       "      <td>0.804</td>\n",
       "      <td>0.731</td>\n",
       "      <td>0.381</td>\n",
       "      <td>0.201</td>\n",
       "      <td>...</td>\n",
       "      <td>78.5</td>\n",
       "      <td>1.51</td>\n",
       "      <td>2.6</td>\n",
       "      <td>0.836</td>\n",
       "      <td>0.217</td>\n",
       "      <td>16.0</td>\n",
       "      <td>3.587000e+10</td>\n",
       "      <td>12500.0</td>\n",
       "      <td>0.140</td>\n",
       "      <td>1.000</td>\n",
       "    </tr>\n",
       "    <tr>\n",
       "      <th>3</th>\n",
       "      <td>Algeria</td>\n",
       "      <td>geos/ag.html</td>\n",
       "      <td>-15</td>\n",
       "      <td>5.872</td>\n",
       "      <td>-0.483</td>\n",
       "      <td>1.092</td>\n",
       "      <td>1.146</td>\n",
       "      <td>0.618</td>\n",
       "      <td>0.233</td>\n",
       "      <td>0.069</td>\n",
       "      <td>...</td>\n",
       "      <td>77.0</td>\n",
       "      <td>2.70</td>\n",
       "      <td>NaN</td>\n",
       "      <td>0.836</td>\n",
       "      <td>0.274</td>\n",
       "      <td>14.0</td>\n",
       "      <td>6.293000e+11</td>\n",
       "      <td>15100.0</td>\n",
       "      <td>0.117</td>\n",
       "      <td>0.990</td>\n",
       "    </tr>\n",
       "    <tr>\n",
       "      <th>6</th>\n",
       "      <td>Angola</td>\n",
       "      <td>geos/ao.html</td>\n",
       "      <td>1</td>\n",
       "      <td>3.795</td>\n",
       "      <td>-0.071</td>\n",
       "      <td>0.858</td>\n",
       "      <td>1.104</td>\n",
       "      <td>0.050</td>\n",
       "      <td>0.000</td>\n",
       "      <td>0.098</td>\n",
       "      <td>...</td>\n",
       "      <td>60.2</td>\n",
       "      <td>6.16</td>\n",
       "      <td>NaN</td>\n",
       "      <td>0.490</td>\n",
       "      <td>0.082</td>\n",
       "      <td>10.0</td>\n",
       "      <td>1.920000e+11</td>\n",
       "      <td>6800.0</td>\n",
       "      <td>NaN</td>\n",
       "      <td>0.300</td>\n",
       "    </tr>\n",
       "    <tr>\n",
       "      <th>11</th>\n",
       "      <td>Argentina</td>\n",
       "      <td>geos/ar.html</td>\n",
       "      <td>2</td>\n",
       "      <td>6.599</td>\n",
       "      <td>-0.051</td>\n",
       "      <td>1.185</td>\n",
       "      <td>1.440</td>\n",
       "      <td>0.695</td>\n",
       "      <td>0.495</td>\n",
       "      <td>0.109</td>\n",
       "      <td>...</td>\n",
       "      <td>77.3</td>\n",
       "      <td>2.26</td>\n",
       "      <td>4.7</td>\n",
       "      <td>0.991</td>\n",
       "      <td>0.283</td>\n",
       "      <td>17.0</td>\n",
       "      <td>9.115000e+11</td>\n",
       "      <td>20700.0</td>\n",
       "      <td>0.081</td>\n",
       "      <td>0.964</td>\n",
       "    </tr>\n",
       "  </tbody>\n",
       "</table>\n",
       "<p>5 rows × 28 columns</p>\n",
       "</div>"
      ],
      "text/plain": [
       "        Country           url Change in rank  Score  Change in score  \\\n",
       "0   Afghanistan  geos/af.html             13  3.794            0.434   \n",
       "2       Albania  geos/al.html              0  4.644           -0.011   \n",
       "3       Algeria  geos/ag.html            -15  5.872           -0.483   \n",
       "6        Angola  geos/ao.html              1  3.795           -0.071   \n",
       "11    Argentina  geos/ar.html              2  6.599           -0.051   \n",
       "\n",
       "    GDP per capita  Social support  Healthy life expectancy  \\\n",
       "0            0.401           0.582                    0.181   \n",
       "2            0.996           0.804                    0.731   \n",
       "3            1.092           1.146                    0.618   \n",
       "6            0.858           1.104                    0.050   \n",
       "11           1.185           1.440                    0.695   \n",
       "\n",
       "    Freedom to make life choices  Generosity          ...           \\\n",
       "0                          0.106       0.312          ...            \n",
       "2                          0.381       0.201          ...            \n",
       "3                          0.233       0.069          ...            \n",
       "6                          0.000       0.098          ...            \n",
       "11                         0.495       0.109          ...            \n",
       "\n",
       "    Life_Expectancy  Fertility_Rate  Hospital_Bed_Density  \\\n",
       "0              51.7            5.12                   0.5   \n",
       "2              78.5            1.51                   2.6   \n",
       "3              77.0            2.70                   NaN   \n",
       "6              60.2            6.16                   NaN   \n",
       "11             77.3            2.26                   4.7   \n",
       "\n",
       "    Access_To_Clean_Water  Obesity_Rate  School_Life_Expectancy           GDP  \\\n",
       "0                   0.553         0.055                    11.0  6.951000e+10   \n",
       "2                   0.836         0.217                    16.0  3.587000e+10   \n",
       "3                   0.836         0.274                    14.0  6.293000e+11   \n",
       "6                   0.490         0.082                    10.0  1.920000e+11   \n",
       "11                  0.991         0.283                    17.0  9.115000e+11   \n",
       "\n",
       "    GDP_per_capita  Unemployment_Rate  Electrification_Rate  \n",
       "0           1900.0              0.350                 0.430  \n",
       "2          12500.0              0.140                 1.000  \n",
       "3          15100.0              0.117                 0.990  \n",
       "6           6800.0                NaN                 0.300  \n",
       "11         20700.0              0.081                 0.964  \n",
       "\n",
       "[5 rows x 28 columns]"
      ]
     },
     "execution_count": 38,
     "metadata": {},
     "output_type": "execute_result"
    }
   ],
   "source": [
    "countries_data.head()"
   ]
  },
  {
   "cell_type": "markdown",
   "metadata": {},
   "source": [
    "## Data Munging"
   ]
  },
  {
   "cell_type": "code",
   "execution_count": 39,
   "metadata": {
    "collapsed": true
   },
   "outputs": [],
   "source": [
    "countries_data = countries_data.reset_index(drop=True)"
   ]
  },
  {
   "cell_type": "code",
   "execution_count": 40,
   "metadata": {},
   "outputs": [
    {
     "name": "stdout",
     "output_type": "stream",
     "text": [
      "<class 'pandas.core.frame.DataFrame'>\n",
      "RangeIndex: 150 entries, 0 to 149\n",
      "Data columns (total 28 columns):\n",
      "Country                         150 non-null object\n",
      "url                             150 non-null object\n",
      "Change in rank                  150 non-null object\n",
      "Score                           150 non-null object\n",
      "Change in score                 150 non-null float64\n",
      "GDP per capita                  150 non-null float64\n",
      "Social support                  150 non-null float64\n",
      "Healthy life expectancy         150 non-null float64\n",
      "Freedom to make life choices    150 non-null float64\n",
      "Generosity                      150 non-null float64\n",
      "Trust                           150 non-null float64\n",
      "Residual                        150 non-null float64\n",
      "Population                      149 non-null float64\n",
      "Land_Area                       148 non-null float64\n",
      "Support_Ratio                   149 non-null float64\n",
      "Urbanization                    148 non-null float64\n",
      "Median_Mothers_Age              114 non-null float64\n",
      "Get_Median_Age                  150 non-null float64\n",
      "Life_Expectancy                 147 non-null float64\n",
      "Fertility_Rate                  148 non-null float64\n",
      "Hospital_Bed_Density            137 non-null float64\n",
      "Access_To_Clean_Water           147 non-null float64\n",
      "Obesity_Rate                    147 non-null float64\n",
      "School_Life_Expectancy          131 non-null float64\n",
      "GDP                             150 non-null float64\n",
      "GDP_per_capita                  149 non-null float64\n",
      "Unemployment_Rate               143 non-null float64\n",
      "Electrification_Rate            149 non-null float64\n",
      "dtypes: float64(24), object(4)\n",
      "memory usage: 32.9+ KB\n"
     ]
    }
   ],
   "source": [
    "countries_data.info()"
   ]
  },
  {
   "cell_type": "markdown",
   "metadata": {},
   "source": [
    "Drop a few of the columns that we know we aren't interested in.  \n",
    "\n",
    "We'll use data from the World Fact Book in place of the World Happiness Report's `GDP per capita` and `Healthy life expectancy`.\n",
    "\n",
    "`Change in score`, `Change in rank` and `Residual` were all calculated in the World Happiness Report and have weird relationships with `Score`.\n",
    "\n",
    "\n"
   ]
  },
  {
   "cell_type": "code",
   "execution_count": 41,
   "metadata": {
    "collapsed": true
   },
   "outputs": [],
   "source": [
    "countries = countries_data.drop([\"Change in score\",'Change in rank','url', 'GDP per capita','Residual', 'Healthy life expectancy'], axis = 1)"
   ]
  },
  {
   "cell_type": "markdown",
   "metadata": {},
   "source": [
    "Make sure all the entries in `Score` are numeric."
   ]
  },
  {
   "cell_type": "code",
   "execution_count": 42,
   "metadata": {
    "collapsed": true
   },
   "outputs": [],
   "source": [
    "countries['Score'] = countries['Score'].apply(pd.to_numeric)"
   ]
  },
  {
   "cell_type": "markdown",
   "metadata": {},
   "source": [
    "Create `Population Density` from `Population` and `Land_Area`."
   ]
  },
  {
   "cell_type": "code",
   "execution_count": 43,
   "metadata": {
    "collapsed": true
   },
   "outputs": [],
   "source": [
    "countries['Population Density'] = countries['Population']/countries['Land_Area']"
   ]
  },
  {
   "cell_type": "markdown",
   "metadata": {},
   "source": [
    "Look at the percentage of NaNs per column."
   ]
  },
  {
   "cell_type": "code",
   "execution_count": 44,
   "metadata": {
    "scrolled": true
   },
   "outputs": [
    {
     "data": {
      "text/plain": [
       "Country                         0.000000\n",
       "Score                           0.000000\n",
       "Social support                  0.000000\n",
       "Freedom to make life choices    0.000000\n",
       "Generosity                      0.000000\n",
       "Trust                           0.000000\n",
       "Population                      0.006667\n",
       "Land_Area                       0.013333\n",
       "Support_Ratio                   0.006667\n",
       "Urbanization                    0.013333\n",
       "Median_Mothers_Age              0.240000\n",
       "Get_Median_Age                  0.000000\n",
       "Life_Expectancy                 0.020000\n",
       "Fertility_Rate                  0.013333\n",
       "Hospital_Bed_Density            0.086667\n",
       "Access_To_Clean_Water           0.020000\n",
       "Obesity_Rate                    0.020000\n",
       "School_Life_Expectancy          0.126667\n",
       "GDP                             0.000000\n",
       "GDP_per_capita                  0.006667\n",
       "Unemployment_Rate               0.046667\n",
       "Electrification_Rate            0.006667\n",
       "Population Density              0.020000\n",
       "dtype: float64"
      ]
     },
     "execution_count": 44,
     "metadata": {},
     "output_type": "execute_result"
    }
   ],
   "source": [
    "countries.isnull().sum()/150"
   ]
  },
  {
   "cell_type": "markdown",
   "metadata": {},
   "source": [
    "Drop `Median_Mothers_Age` because 24% of the values are NaNs."
   ]
  },
  {
   "cell_type": "code",
   "execution_count": 45,
   "metadata": {
    "collapsed": true
   },
   "outputs": [],
   "source": [
    "countries = countries.drop(['Median_Mothers_Age'],axis = 1)"
   ]
  },
  {
   "cell_type": "markdown",
   "metadata": {},
   "source": [
    "Fill `NaN`s with the mean of that column."
   ]
  },
  {
   "cell_type": "code",
   "execution_count": 46,
   "metadata": {
    "collapsed": true
   },
   "outputs": [],
   "source": [
    "countries = countries.fillna(countries.mean())"
   ]
  },
  {
   "cell_type": "code",
   "execution_count": 47,
   "metadata": {
    "collapsed": true
   },
   "outputs": [],
   "source": [
    "with open('countries_data_munged.pkl', 'wb') as picklefile: # wb: write, binary\n",
    "    pickle.dump(countries, picklefile) #dump data into pickle file"
   ]
  },
  {
   "cell_type": "code",
   "execution_count": 48,
   "metadata": {},
   "outputs": [
    {
     "data": {
      "text/html": [
       "<div>\n",
       "<style>\n",
       "    .dataframe thead tr:only-child th {\n",
       "        text-align: right;\n",
       "    }\n",
       "\n",
       "    .dataframe thead th {\n",
       "        text-align: left;\n",
       "    }\n",
       "\n",
       "    .dataframe tbody tr th {\n",
       "        vertical-align: top;\n",
       "    }\n",
       "</style>\n",
       "<table border=\"1\" class=\"dataframe\">\n",
       "  <thead>\n",
       "    <tr style=\"text-align: right;\">\n",
       "      <th></th>\n",
       "      <th>Country</th>\n",
       "      <th>Score</th>\n",
       "      <th>Social support</th>\n",
       "      <th>Freedom to make life choices</th>\n",
       "      <th>Generosity</th>\n",
       "      <th>Trust</th>\n",
       "      <th>Population</th>\n",
       "      <th>Land_Area</th>\n",
       "      <th>Support_Ratio</th>\n",
       "      <th>Urbanization</th>\n",
       "      <th>...</th>\n",
       "      <th>Fertility_Rate</th>\n",
       "      <th>Hospital_Bed_Density</th>\n",
       "      <th>Access_To_Clean_Water</th>\n",
       "      <th>Obesity_Rate</th>\n",
       "      <th>School_Life_Expectancy</th>\n",
       "      <th>GDP</th>\n",
       "      <th>GDP_per_capita</th>\n",
       "      <th>Unemployment_Rate</th>\n",
       "      <th>Electrification_Rate</th>\n",
       "      <th>Population Density</th>\n",
       "    </tr>\n",
       "  </thead>\n",
       "  <tbody>\n",
       "    <tr>\n",
       "      <th>0</th>\n",
       "      <td>Afghanistan</td>\n",
       "      <td>3.794</td>\n",
       "      <td>0.582</td>\n",
       "      <td>0.106</td>\n",
       "      <td>0.312</td>\n",
       "      <td>0.061</td>\n",
       "      <td>34124811.0</td>\n",
       "      <td>652230.0</td>\n",
       "      <td>21.2</td>\n",
       "      <td>0.276</td>\n",
       "      <td>...</td>\n",
       "      <td>5.12</td>\n",
       "      <td>0.500000</td>\n",
       "      <td>0.553</td>\n",
       "      <td>0.055</td>\n",
       "      <td>11.0</td>\n",
       "      <td>6.951000e+10</td>\n",
       "      <td>1900.0</td>\n",
       "      <td>0.350000</td>\n",
       "      <td>0.430</td>\n",
       "      <td>52.320211</td>\n",
       "    </tr>\n",
       "    <tr>\n",
       "      <th>1</th>\n",
       "      <td>Albania</td>\n",
       "      <td>4.644</td>\n",
       "      <td>0.804</td>\n",
       "      <td>0.381</td>\n",
       "      <td>0.201</td>\n",
       "      <td>0.040</td>\n",
       "      <td>3047987.0</td>\n",
       "      <td>27398.0</td>\n",
       "      <td>5.5</td>\n",
       "      <td>0.593</td>\n",
       "      <td>...</td>\n",
       "      <td>1.51</td>\n",
       "      <td>2.600000</td>\n",
       "      <td>0.836</td>\n",
       "      <td>0.217</td>\n",
       "      <td>16.0</td>\n",
       "      <td>3.587000e+10</td>\n",
       "      <td>12500.0</td>\n",
       "      <td>0.140000</td>\n",
       "      <td>1.000</td>\n",
       "      <td>111.248522</td>\n",
       "    </tr>\n",
       "    <tr>\n",
       "      <th>2</th>\n",
       "      <td>Algeria</td>\n",
       "      <td>5.872</td>\n",
       "      <td>1.146</td>\n",
       "      <td>0.233</td>\n",
       "      <td>0.069</td>\n",
       "      <td>0.146</td>\n",
       "      <td>40969443.0</td>\n",
       "      <td>2381741.0</td>\n",
       "      <td>11.2</td>\n",
       "      <td>0.719</td>\n",
       "      <td>...</td>\n",
       "      <td>2.70</td>\n",
       "      <td>3.089781</td>\n",
       "      <td>0.836</td>\n",
       "      <td>0.274</td>\n",
       "      <td>14.0</td>\n",
       "      <td>6.293000e+11</td>\n",
       "      <td>15100.0</td>\n",
       "      <td>0.117000</td>\n",
       "      <td>0.990</td>\n",
       "      <td>17.201469</td>\n",
       "    </tr>\n",
       "    <tr>\n",
       "      <th>3</th>\n",
       "      <td>Angola</td>\n",
       "      <td>3.795</td>\n",
       "      <td>1.104</td>\n",
       "      <td>0.000</td>\n",
       "      <td>0.098</td>\n",
       "      <td>0.070</td>\n",
       "      <td>29310273.0</td>\n",
       "      <td>1246700.0</td>\n",
       "      <td>21.9</td>\n",
       "      <td>0.456</td>\n",
       "      <td>...</td>\n",
       "      <td>6.16</td>\n",
       "      <td>3.089781</td>\n",
       "      <td>0.490</td>\n",
       "      <td>0.082</td>\n",
       "      <td>10.0</td>\n",
       "      <td>1.920000e+11</td>\n",
       "      <td>6800.0</td>\n",
       "      <td>0.112098</td>\n",
       "      <td>0.300</td>\n",
       "      <td>23.510286</td>\n",
       "    </tr>\n",
       "    <tr>\n",
       "      <th>4</th>\n",
       "      <td>Argentina</td>\n",
       "      <td>6.599</td>\n",
       "      <td>1.440</td>\n",
       "      <td>0.495</td>\n",
       "      <td>0.109</td>\n",
       "      <td>0.060</td>\n",
       "      <td>44293293.0</td>\n",
       "      <td>2736690.0</td>\n",
       "      <td>5.8</td>\n",
       "      <td>0.920</td>\n",
       "      <td>...</td>\n",
       "      <td>2.26</td>\n",
       "      <td>4.700000</td>\n",
       "      <td>0.991</td>\n",
       "      <td>0.283</td>\n",
       "      <td>17.0</td>\n",
       "      <td>9.115000e+11</td>\n",
       "      <td>20700.0</td>\n",
       "      <td>0.081000</td>\n",
       "      <td>0.964</td>\n",
       "      <td>16.184987</td>\n",
       "    </tr>\n",
       "  </tbody>\n",
       "</table>\n",
       "<p>5 rows × 22 columns</p>\n",
       "</div>"
      ],
      "text/plain": [
       "       Country  Score  Social support  Freedom to make life choices  \\\n",
       "0  Afghanistan  3.794           0.582                         0.106   \n",
       "1      Albania  4.644           0.804                         0.381   \n",
       "2      Algeria  5.872           1.146                         0.233   \n",
       "3       Angola  3.795           1.104                         0.000   \n",
       "4    Argentina  6.599           1.440                         0.495   \n",
       "\n",
       "   Generosity  Trust  Population  Land_Area  Support_Ratio  Urbanization  \\\n",
       "0       0.312  0.061  34124811.0   652230.0           21.2         0.276   \n",
       "1       0.201  0.040   3047987.0    27398.0            5.5         0.593   \n",
       "2       0.069  0.146  40969443.0  2381741.0           11.2         0.719   \n",
       "3       0.098  0.070  29310273.0  1246700.0           21.9         0.456   \n",
       "4       0.109  0.060  44293293.0  2736690.0            5.8         0.920   \n",
       "\n",
       "          ...          Fertility_Rate  Hospital_Bed_Density  \\\n",
       "0         ...                    5.12              0.500000   \n",
       "1         ...                    1.51              2.600000   \n",
       "2         ...                    2.70              3.089781   \n",
       "3         ...                    6.16              3.089781   \n",
       "4         ...                    2.26              4.700000   \n",
       "\n",
       "   Access_To_Clean_Water  Obesity_Rate  School_Life_Expectancy           GDP  \\\n",
       "0                  0.553         0.055                    11.0  6.951000e+10   \n",
       "1                  0.836         0.217                    16.0  3.587000e+10   \n",
       "2                  0.836         0.274                    14.0  6.293000e+11   \n",
       "3                  0.490         0.082                    10.0  1.920000e+11   \n",
       "4                  0.991         0.283                    17.0  9.115000e+11   \n",
       "\n",
       "   GDP_per_capita  Unemployment_Rate  Electrification_Rate  Population Density  \n",
       "0          1900.0           0.350000                 0.430           52.320211  \n",
       "1         12500.0           0.140000                 1.000          111.248522  \n",
       "2         15100.0           0.117000                 0.990           17.201469  \n",
       "3          6800.0           0.112098                 0.300           23.510286  \n",
       "4         20700.0           0.081000                 0.964           16.184987  \n",
       "\n",
       "[5 rows x 22 columns]"
      ]
     },
     "execution_count": 48,
     "metadata": {},
     "output_type": "execute_result"
    }
   ],
   "source": [
    "countries.head()"
   ]
  },
  {
   "cell_type": "code",
   "execution_count": null,
   "metadata": {
    "collapsed": true
   },
   "outputs": [],
   "source": []
  }
 ],
 "metadata": {
  "kernelspec": {
   "display_name": "Python 3",
   "language": "python",
   "name": "python3"
  },
  "language_info": {
   "codemirror_mode": {
    "name": "ipython",
    "version": 3
   },
   "file_extension": ".py",
   "mimetype": "text/x-python",
   "name": "python",
   "nbconvert_exporter": "python",
   "pygments_lexer": "ipython3",
   "version": "3.6.3"
  },
  "toc": {
   "nav_menu": {},
   "number_sections": true,
   "sideBar": true,
   "skip_h1_title": false,
   "toc_cell": false,
   "toc_position": {},
   "toc_section_display": "block",
   "toc_window_display": false
  }
 },
 "nbformat": 4,
 "nbformat_minor": 2
}
