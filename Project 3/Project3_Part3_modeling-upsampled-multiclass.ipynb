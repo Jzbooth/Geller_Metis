{
 "cells": [
  {
   "cell_type": "markdown",
   "metadata": {},
   "source": [
    "# Project 3: Part 3 Modeling"
   ]
  },
  {
   "cell_type": "code",
   "execution_count": 1,
   "metadata": {
    "scrolled": true
   },
   "outputs": [
    {
     "name": "stderr",
     "output_type": "stream",
     "text": [
      "/Users/emilygeller/anaconda3/lib/python3.6/site-packages/sklearn/cross_validation.py:41: DeprecationWarning: This module was deprecated in version 0.18 in favor of the model_selection module into which all the refactored classes and functions are moved. Also note that the interface of the new CV iterators are different from that of this module. This module will be removed in 0.20.\n",
      "  \"This module will be removed in 0.20.\", DeprecationWarning)\n"
     ]
    }
   ],
   "source": [
    "import pandas as pd\n",
    "import matplotlib.pyplot as plt\n",
    "from patsy import dmatrix\n",
    "import datetime as dt\n",
    "import numpy as np\n",
    "import pickle\n",
    "from tqdm import tqdm\n",
    "\n",
    "%matplotlib inline\n",
    "\n",
    "from sklearn import metrics\n",
    "\n",
    "import seaborn as sns\n",
    "from sklearn.cross_validation import train_test_split\n",
    "from sklearn import preprocessing\n",
    "from sklearn.model_selection import cross_val_score\n",
    "from sklearn import cross_validation"
   ]
  },
  {
   "cell_type": "code",
   "execution_count": 2,
   "metadata": {
    "collapsed": true
   },
   "outputs": [],
   "source": [
    "from sklearn.tree import DecisionTreeClassifier\n",
    "from sklearn.svm import LinearSVC\n",
    "from sklearn.svm import SVC\n",
    "from sklearn.ensemble import RandomForestClassifier\n",
    "from sklearn.linear_model import LogisticRegression\n",
    "from sklearn import naive_bayes\n",
    "from sklearn.neighbors import KNeighborsClassifier\n",
    "from sklearn.utils import resample\n",
    "from sklearn.metrics import roc_curve, auc"
   ]
  },
  {
   "cell_type": "code",
   "execution_count": 34,
   "metadata": {
    "collapsed": true
   },
   "outputs": [],
   "source": [
    "with open(\"users_multiclass.pkl\", 'rb') as picklefile: \n",
    "    users = pickle.load(picklefile)"
   ]
  },
  {
   "cell_type": "code",
   "execution_count": 36,
   "metadata": {},
   "outputs": [],
   "source": [
    "y = users.country_destination\n",
    "users = users.drop('country_destination', axis = 1)"
   ]
  },
  {
   "cell_type": "code",
   "execution_count": 39,
   "metadata": {},
   "outputs": [
    {
     "data": {
      "text/plain": [
       "US       62376\n",
       "other    10094\n",
       "FR        5023\n",
       "IT        2835\n",
       "GB        2324\n",
       "ES        2249\n",
       "CA        1428\n",
       "DE        1061\n",
       "NL         762\n",
       "AU         539\n",
       "PT         217\n",
       "Name: country_destination, dtype: int64"
      ]
     },
     "execution_count": 39,
     "metadata": {},
     "output_type": "execute_result"
    }
   ],
   "source": [
    "y.value_counts()"
   ]
  },
  {
   "cell_type": "code",
   "execution_count": 50,
   "metadata": {},
   "outputs": [
    {
     "data": {
      "text/plain": [
       "NA       63804\n",
       "EU       12147\n",
       "other    10094\n",
       "GB_AU     2863\n",
       "Name: country_destination, dtype: int64"
      ]
     },
     "execution_count": 50,
     "metadata": {},
     "output_type": "execute_result"
    }
   ],
   "source": [
    "y = y.replace('FR','EU')\n",
    "y = y.replace('IT','EU')\n",
    "y = y.replace('ES','EU')\n",
    "y = y.replace('DE','EU')\n",
    "y = y.replace('NL','EU')\n",
    "y = y.replace('PT','EU')\n",
    "y = y.replace('US','NA')\n",
    "y = y.replace('CA','NA')\n",
    "y = y.replace('GB','GB_AU')\n",
    "y = y.replace('AU','GB_AU')\n",
    "y.value_counts()"
   ]
  },
  {
   "cell_type": "code",
   "execution_count": 29,
   "metadata": {},
   "outputs": [
    {
     "ename": "AttributeError",
     "evalue": "'DataFrame' object has no attribute 'US'",
     "output_type": "error",
     "traceback": [
      "\u001b[0;31m---------------------------------------------------------------------------\u001b[0m",
      "\u001b[0;31mAttributeError\u001b[0m                            Traceback (most recent call last)",
      "\u001b[0;32m<ipython-input-29-316459fae4bd>\u001b[0m in \u001b[0;36m<module>\u001b[0;34m()\u001b[0m\n\u001b[1;32m      1\u001b[0m \u001b[0;31m# Separate majority and minority classes\u001b[0m\u001b[0;34m\u001b[0m\u001b[0;34m\u001b[0m\u001b[0m\n\u001b[0;32m----> 2\u001b[0;31m \u001b[0musers_majority\u001b[0m \u001b[0;34m=\u001b[0m \u001b[0musers\u001b[0m\u001b[0;34m[\u001b[0m\u001b[0musers\u001b[0m\u001b[0;34m.\u001b[0m\u001b[0mUS\u001b[0m\u001b[0;34m==\u001b[0m\u001b[0;36m1\u001b[0m\u001b[0;34m]\u001b[0m\u001b[0;34m\u001b[0m\u001b[0m\n\u001b[0m\u001b[1;32m      3\u001b[0m \u001b[0musers_minority\u001b[0m \u001b[0;34m=\u001b[0m \u001b[0musers\u001b[0m\u001b[0;34m[\u001b[0m\u001b[0musers\u001b[0m\u001b[0;34m.\u001b[0m\u001b[0mUS\u001b[0m\u001b[0;34m==\u001b[0m\u001b[0;36m0\u001b[0m\u001b[0;34m]\u001b[0m\u001b[0;34m\u001b[0m\u001b[0m\n\u001b[1;32m      4\u001b[0m \u001b[0;34m\u001b[0m\u001b[0m\n\u001b[1;32m      5\u001b[0m \u001b[0;31m# Upsample minority class\u001b[0m\u001b[0;34m\u001b[0m\u001b[0;34m\u001b[0m\u001b[0m\n",
      "\u001b[0;32m~/anaconda3/lib/python3.6/site-packages/pandas/core/generic.py\u001b[0m in \u001b[0;36m__getattr__\u001b[0;34m(self, name)\u001b[0m\n\u001b[1;32m   3079\u001b[0m             \u001b[0;32mif\u001b[0m \u001b[0mname\u001b[0m \u001b[0;32min\u001b[0m \u001b[0mself\u001b[0m\u001b[0;34m.\u001b[0m\u001b[0m_info_axis\u001b[0m\u001b[0;34m:\u001b[0m\u001b[0;34m\u001b[0m\u001b[0m\n\u001b[1;32m   3080\u001b[0m                 \u001b[0;32mreturn\u001b[0m \u001b[0mself\u001b[0m\u001b[0;34m[\u001b[0m\u001b[0mname\u001b[0m\u001b[0;34m]\u001b[0m\u001b[0;34m\u001b[0m\u001b[0m\n\u001b[0;32m-> 3081\u001b[0;31m             \u001b[0;32mreturn\u001b[0m \u001b[0mobject\u001b[0m\u001b[0;34m.\u001b[0m\u001b[0m__getattribute__\u001b[0m\u001b[0;34m(\u001b[0m\u001b[0mself\u001b[0m\u001b[0;34m,\u001b[0m \u001b[0mname\u001b[0m\u001b[0;34m)\u001b[0m\u001b[0;34m\u001b[0m\u001b[0m\n\u001b[0m\u001b[1;32m   3082\u001b[0m \u001b[0;34m\u001b[0m\u001b[0m\n\u001b[1;32m   3083\u001b[0m     \u001b[0;32mdef\u001b[0m \u001b[0m__setattr__\u001b[0m\u001b[0;34m(\u001b[0m\u001b[0mself\u001b[0m\u001b[0;34m,\u001b[0m \u001b[0mname\u001b[0m\u001b[0;34m,\u001b[0m \u001b[0mvalue\u001b[0m\u001b[0;34m)\u001b[0m\u001b[0;34m:\u001b[0m\u001b[0;34m\u001b[0m\u001b[0m\n",
      "\u001b[0;31mAttributeError\u001b[0m: 'DataFrame' object has no attribute 'US'"
     ]
    }
   ],
   "source": [
    "# Separate majority and minority classes\n",
    "users_majority = users[users.US==1]\n",
    "users_minority = users[users.US==0]\n",
    " \n",
    "# Upsample minority class\n",
    "users_minority_upsampled = resample(users_minority, \n",
    "                                 replace=True,     # sample with replacement\n",
    "                                 n_samples=62376,    # to match majority class\n",
    "                                 random_state=123) # reproducible results\n",
    " \n",
    "# Combine majority class with upsampled minority class\n",
    "users_upsampled = pd.concat([users_majority, users_minority_upsampled])\n",
    " \n",
    "# Display new class counts\n",
    "users_upsampled.US.value_counts()\n",
    "# 1    576\n",
    "# 0    576\n",
    "# Name: balance, dtype: int64"
   ]
  },
  {
   "cell_type": "code",
   "execution_count": 23,
   "metadata": {
    "collapsed": true
   },
   "outputs": [],
   "source": [
    "y = users_upsampled['US']\n",
    "users = users_upsampled.drop('US', axis = 1)"
   ]
  },
  {
   "cell_type": "code",
   "execution_count": 51,
   "metadata": {
    "collapsed": true
   },
   "outputs": [],
   "source": [
    "users = users.drop('id',axis = 1)"
   ]
  },
  {
   "cell_type": "code",
   "execution_count": 52,
   "metadata": {
    "collapsed": true
   },
   "outputs": [],
   "source": [
    "xtrain, xtest, ytrain, ytest = train_test_split(users, y, test_size=0.2,stratify = y)#, random_state = 1234)"
   ]
  },
  {
   "cell_type": "code",
   "execution_count": 26,
   "metadata": {
    "collapsed": true
   },
   "outputs": [],
   "source": [
    "#y = users['US']\n",
    "#users = users.drop('US', axis = 1)"
   ]
  },
  {
   "cell_type": "code",
   "execution_count": 27,
   "metadata": {
    "collapsed": true
   },
   "outputs": [],
   "source": [
    "#users = users.drop('id',axis = 1)"
   ]
  },
  {
   "cell_type": "code",
   "execution_count": 28,
   "metadata": {
    "collapsed": true,
    "scrolled": true
   },
   "outputs": [],
   "source": [
    "#users.shape"
   ]
  },
  {
   "cell_type": "code",
   "execution_count": 29,
   "metadata": {},
   "outputs": [
    {
     "data": {
      "text/plain": [
       "0    1\n",
       "2    1\n",
       "3    1\n",
       "4    1\n",
       "5    1\n",
       "Name: US, dtype: uint8"
      ]
     },
     "execution_count": 29,
     "metadata": {},
     "output_type": "execute_result"
    }
   ],
   "source": [
    "y.head()"
   ]
  },
  {
   "cell_type": "code",
   "execution_count": 30,
   "metadata": {
    "collapsed": true
   },
   "outputs": [],
   "source": [
    "#xtrain, xtest, ytrain, ytest = train_test_split(users.iloc[:,:], y, test_size=0.2,stratify = y)#, random_state = 1234)"
   ]
  },
  {
   "cell_type": "code",
   "execution_count": 31,
   "metadata": {
    "scrolled": true
   },
   "outputs": [
    {
     "data": {
      "text/html": [
       "<div>\n",
       "<style>\n",
       "    .dataframe thead tr:only-child th {\n",
       "        text-align: right;\n",
       "    }\n",
       "\n",
       "    .dataframe thead th {\n",
       "        text-align: left;\n",
       "    }\n",
       "\n",
       "    .dataframe tbody tr th {\n",
       "        vertical-align: top;\n",
       "    }\n",
       "</style>\n",
       "<table border=\"1\" class=\"dataframe\">\n",
       "  <thead>\n",
       "    <tr style=\"text-align: right;\">\n",
       "      <th></th>\n",
       "      <th>gender_FEMALE</th>\n",
       "      <th>gender_MALE</th>\n",
       "      <th>gender_OTHER</th>\n",
       "      <th>signup_method_facebook</th>\n",
       "      <th>signup_method_google</th>\n",
       "      <th>signup_app_Moweb</th>\n",
       "      <th>signup_app_Web</th>\n",
       "      <th>signup_app_iOS</th>\n",
       "      <th>first_device_type_Android Tablet</th>\n",
       "      <th>first_device_type_Desktop (Other)</th>\n",
       "      <th>...</th>\n",
       "      <th>langues_en</th>\n",
       "      <th>diff_account_to_first_active</th>\n",
       "      <th>diff_account_to_first_booking</th>\n",
       "      <th>age</th>\n",
       "      <th>total_sessions</th>\n",
       "      <th>total_sessions_on_mac</th>\n",
       "      <th>total_sessions_on_windows</th>\n",
       "      <th>total_sessions_on_iphone</th>\n",
       "      <th>total_sessions_on_android</th>\n",
       "      <th>no_age_entered</th>\n",
       "    </tr>\n",
       "  </thead>\n",
       "  <tbody>\n",
       "    <tr>\n",
       "      <th>84475</th>\n",
       "      <td>1</td>\n",
       "      <td>0</td>\n",
       "      <td>0</td>\n",
       "      <td>0</td>\n",
       "      <td>0</td>\n",
       "      <td>0</td>\n",
       "      <td>1</td>\n",
       "      <td>0</td>\n",
       "      <td>0</td>\n",
       "      <td>0</td>\n",
       "      <td>...</td>\n",
       "      <td>1</td>\n",
       "      <td>0</td>\n",
       "      <td>5</td>\n",
       "      <td>43.0</td>\n",
       "      <td>62.0</td>\n",
       "      <td>0.0</td>\n",
       "      <td>62.0</td>\n",
       "      <td>0.0</td>\n",
       "      <td>0.0</td>\n",
       "      <td>0</td>\n",
       "    </tr>\n",
       "    <tr>\n",
       "      <th>15400</th>\n",
       "      <td>1</td>\n",
       "      <td>0</td>\n",
       "      <td>0</td>\n",
       "      <td>0</td>\n",
       "      <td>0</td>\n",
       "      <td>0</td>\n",
       "      <td>1</td>\n",
       "      <td>0</td>\n",
       "      <td>0</td>\n",
       "      <td>0</td>\n",
       "      <td>...</td>\n",
       "      <td>1</td>\n",
       "      <td>0</td>\n",
       "      <td>6</td>\n",
       "      <td>24.0</td>\n",
       "      <td>0.0</td>\n",
       "      <td>0.0</td>\n",
       "      <td>0.0</td>\n",
       "      <td>0.0</td>\n",
       "      <td>0.0</td>\n",
       "      <td>0</td>\n",
       "    </tr>\n",
       "    <tr>\n",
       "      <th>22233</th>\n",
       "      <td>0</td>\n",
       "      <td>1</td>\n",
       "      <td>0</td>\n",
       "      <td>1</td>\n",
       "      <td>0</td>\n",
       "      <td>0</td>\n",
       "      <td>1</td>\n",
       "      <td>0</td>\n",
       "      <td>0</td>\n",
       "      <td>0</td>\n",
       "      <td>...</td>\n",
       "      <td>1</td>\n",
       "      <td>0</td>\n",
       "      <td>314</td>\n",
       "      <td>49.0</td>\n",
       "      <td>0.0</td>\n",
       "      <td>0.0</td>\n",
       "      <td>0.0</td>\n",
       "      <td>0.0</td>\n",
       "      <td>0.0</td>\n",
       "      <td>0</td>\n",
       "    </tr>\n",
       "    <tr>\n",
       "      <th>53487</th>\n",
       "      <td>0</td>\n",
       "      <td>1</td>\n",
       "      <td>0</td>\n",
       "      <td>0</td>\n",
       "      <td>0</td>\n",
       "      <td>0</td>\n",
       "      <td>1</td>\n",
       "      <td>0</td>\n",
       "      <td>0</td>\n",
       "      <td>0</td>\n",
       "      <td>...</td>\n",
       "      <td>1</td>\n",
       "      <td>0</td>\n",
       "      <td>4</td>\n",
       "      <td>45.0</td>\n",
       "      <td>0.0</td>\n",
       "      <td>0.0</td>\n",
       "      <td>0.0</td>\n",
       "      <td>0.0</td>\n",
       "      <td>0.0</td>\n",
       "      <td>0</td>\n",
       "    </tr>\n",
       "    <tr>\n",
       "      <th>55509</th>\n",
       "      <td>0</td>\n",
       "      <td>1</td>\n",
       "      <td>0</td>\n",
       "      <td>0</td>\n",
       "      <td>0</td>\n",
       "      <td>0</td>\n",
       "      <td>1</td>\n",
       "      <td>0</td>\n",
       "      <td>0</td>\n",
       "      <td>0</td>\n",
       "      <td>...</td>\n",
       "      <td>0</td>\n",
       "      <td>0</td>\n",
       "      <td>1</td>\n",
       "      <td>43.0</td>\n",
       "      <td>0.0</td>\n",
       "      <td>0.0</td>\n",
       "      <td>0.0</td>\n",
       "      <td>0.0</td>\n",
       "      <td>0.0</td>\n",
       "      <td>0</td>\n",
       "    </tr>\n",
       "  </tbody>\n",
       "</table>\n",
       "<p>5 rows × 94 columns</p>\n",
       "</div>"
      ],
      "text/plain": [
       "       gender_FEMALE  gender_MALE  gender_OTHER  signup_method_facebook  \\\n",
       "84475              1            0             0                       0   \n",
       "15400              1            0             0                       0   \n",
       "22233              0            1             0                       1   \n",
       "53487              0            1             0                       0   \n",
       "55509              0            1             0                       0   \n",
       "\n",
       "       signup_method_google  signup_app_Moweb  signup_app_Web  signup_app_iOS  \\\n",
       "84475                     0                 0               1               0   \n",
       "15400                     0                 0               1               0   \n",
       "22233                     0                 0               1               0   \n",
       "53487                     0                 0               1               0   \n",
       "55509                     0                 0               1               0   \n",
       "\n",
       "       first_device_type_Android Tablet  first_device_type_Desktop (Other)  \\\n",
       "84475                                 0                                  0   \n",
       "15400                                 0                                  0   \n",
       "22233                                 0                                  0   \n",
       "53487                                 0                                  0   \n",
       "55509                                 0                                  0   \n",
       "\n",
       "            ...        langues_en  diff_account_to_first_active  \\\n",
       "84475       ...                 1                             0   \n",
       "15400       ...                 1                             0   \n",
       "22233       ...                 1                             0   \n",
       "53487       ...                 1                             0   \n",
       "55509       ...                 0                             0   \n",
       "\n",
       "       diff_account_to_first_booking   age  total_sessions  \\\n",
       "84475                              5  43.0            62.0   \n",
       "15400                              6  24.0             0.0   \n",
       "22233                            314  49.0             0.0   \n",
       "53487                              4  45.0             0.0   \n",
       "55509                              1  43.0             0.0   \n",
       "\n",
       "       total_sessions_on_mac  total_sessions_on_windows  \\\n",
       "84475                    0.0                       62.0   \n",
       "15400                    0.0                        0.0   \n",
       "22233                    0.0                        0.0   \n",
       "53487                    0.0                        0.0   \n",
       "55509                    0.0                        0.0   \n",
       "\n",
       "       total_sessions_on_iphone  total_sessions_on_android  no_age_entered  \n",
       "84475                       0.0                        0.0               0  \n",
       "15400                       0.0                        0.0               0  \n",
       "22233                       0.0                        0.0               0  \n",
       "53487                       0.0                        0.0               0  \n",
       "55509                       0.0                        0.0               0  \n",
       "\n",
       "[5 rows x 94 columns]"
      ]
     },
     "execution_count": 31,
     "metadata": {},
     "output_type": "execute_result"
    }
   ],
   "source": [
    "xtrain.head()"
   ]
  },
  {
   "cell_type": "markdown",
   "metadata": {},
   "source": [
    "## KNN"
   ]
  },
  {
   "cell_type": "code",
   "execution_count": 32,
   "metadata": {
    "collapsed": true
   },
   "outputs": [],
   "source": [
    "normalizer = preprocessing.Normalizer()\n",
    "users_norm = normalizer.fit_transform(users)"
   ]
  },
  {
   "cell_type": "code",
   "execution_count": 33,
   "metadata": {
    "collapsed": true
   },
   "outputs": [],
   "source": [
    "xtrain_norm, xtest_norm, ytrain_norm, ytest_norm = train_test_split(users_norm, y, test_size=0.2,stratify = y)#, random_state = 1234)"
   ]
  },
  {
   "cell_type": "code",
   "execution_count": 34,
   "metadata": {},
   "outputs": [
    {
     "name": "stderr",
     "output_type": "stream",
     "text": [
      "\n",
      "  0%|          | 0/30 [00:00<?, ?it/s]\u001b[A\n",
      "Exception in thread Thread-4:\n",
      "Traceback (most recent call last):\n",
      "  File \"/Users/emilygeller/anaconda3/lib/python3.6/threading.py\", line 916, in _bootstrap_inner\n",
      "    self.run()\n",
      "  File \"/Users/emilygeller/anaconda3/lib/python3.6/site-packages/tqdm/_tqdm.py\", line 144, in run\n",
      "    for instance in self.tqdm_cls._instances:\n",
      "  File \"/Users/emilygeller/anaconda3/lib/python3.6/_weakrefset.py\", line 60, in __iter__\n",
      "    for itemref in self.data:\n",
      "RuntimeError: Set changed size during iteration\n",
      "\n",
      "100%|██████████| 30/30 [16:03<00:00, 32.13s/it]"
     ]
    },
    {
     "name": "stdout",
     "output_type": "stream",
     "text": [
      "[0.74422206709025618, 0.74174617269164811, 0.71959078785978492, 0.69772629259802077, 0.6777704398858635, 0.66439985453433315, 0.65491468027430311, 0.64781595573320416, 0.64085946500246405, 0.63729905466592052, 0.63141457650793731, 0.62745502225997352, 0.62413698830813269, 0.62088747228345764, 0.61828349228113166, 0.61578586477218633, 0.61229103927637252, 0.60951033840685542, 0.60787111574865027, 0.60534336386784482, 0.60336487016996476, 0.60227124977752877, 0.60111689232906351, 0.60053285795701694, 0.59969402093703272, 0.59942042790293626, 0.59926070801429732, 0.59790444627632955, 0.59769879932998415, 0.59758640397177809]\n"
     ]
    },
    {
     "name": "stderr",
     "output_type": "stream",
     "text": [
      "\n"
     ]
    }
   ],
   "source": [
    "k_range = list(range(1,31))\n",
    "k_auc = []\n",
    "for k in tqdm(k_range):\n",
    "    knn = KNeighborsClassifier(n_neighbors = k)\n",
    "    knn.fit(xtrain_norm, ytrain_norm)\n",
    "    y_score = knn.predict_proba(xtest_norm)[:,1]\n",
    "    fpr, tpr,_ = roc_curve(ytest_norm, y_score)\n",
    "    roc_auc = auc(fpr, tpr)\n",
    "    k_auc.append(roc_auc)\n",
    "print(k_auc)"
   ]
  },
  {
   "cell_type": "code",
   "execution_count": 35,
   "metadata": {},
   "outputs": [
    {
     "data": {
      "image/png": "[encoded data removed]",
      "text/plain": [
       "<matplotlib.figure.Figure at 0x1a1e66ee10>"
      ]
     },
     "metadata": {},
     "output_type": "display_data"
    }
   ],
   "source": [
    "plt.plot(k_range, k_auc)\n",
    "plt.savefig('knn_k_auc')"
   ]
  },
  {
   "cell_type": "code",
   "execution_count": 36,
   "metadata": {},
   "outputs": [
    {
     "data": {
      "text/plain": [
       "0"
      ]
     },
     "execution_count": 36,
     "metadata": {},
     "output_type": "execute_result"
    }
   ],
   "source": [
    "np.argmax(np.array(k_auc))"
   ]
  },
  {
   "cell_type": "code",
   "execution_count": 37,
   "metadata": {},
   "outputs": [
    {
     "name": "stdout",
     "output_type": "stream",
     "text": [
      "Accuracy: 0.581\n",
      "             precision    recall  f1-score   support\n",
      "\n",
      "          0       0.57      0.70      0.62     12475\n",
      "          1       0.61      0.47      0.53     12476\n",
      "\n",
      "avg / total       0.59      0.58      0.58     24951\n",
      "\n",
      "[[8689 3786]\n",
      " [6667 5809]]\n"
     ]
    }
   ],
   "source": [
    "knn = KNeighborsClassifier(n_neighbors=16)\n",
    "knn.fit(xtrain_norm, ytrain_norm)\n",
    "y_pred = knn.predict(xtest_norm)\n",
    "\n",
    "print(\"Accuracy: %.3f\"% metrics.accuracy_score(ytest_norm, knn.predict(xtest_norm)))\n",
    "print(metrics.classification_report(ytest_norm, knn.predict(xtest_norm)))\n",
    "print(metrics.confusion_matrix(ytest_norm,knn.predict(xtest_norm)))"
   ]
  },
  {
   "cell_type": "code",
   "execution_count": null,
   "metadata": {},
   "outputs": [
    {
     "name": "stdout",
     "output_type": "stream",
     "text": [
      "Accuracy: 0.628\n",
      "             precision    recall  f1-score   support\n",
      "\n",
      "          0       0.61      0.70      0.65     12475\n",
      "          1       0.65      0.56      0.60     12476\n",
      "\n",
      "avg / total       0.63      0.63      0.63     24951\n",
      "\n",
      "[[8719 3756]\n",
      " [5514 6962]]\n"
     ]
    }
   ],
   "source": [
    "knn5 = KNeighborsClassifier(n_neighbors=5)\n",
    "knn5.fit(xtrain_norm, ytrain_norm)\n",
    "y_pred = knn5.predict(xtest_norm)\n",
    "\n",
    "print(\"Accuracy: %.3f\"% metrics.accuracy_score(ytest_norm, knn5.predict(xtest_norm)))\n",
    "print(metrics.classification_report(ytest_norm, knn5.predict(xtest_norm)))\n",
    "print(metrics.confusion_matrix(ytest_norm,knn5.predict(xtest_norm)))"
   ]
  },
  {
   "cell_type": "markdown",
   "metadata": {},
   "source": [
    "## SVMs"
   ]
  },
  {
   "cell_type": "markdown",
   "metadata": {},
   "source": [
    "### Linear"
   ]
  },
  {
   "cell_type": "code",
   "execution_count": null,
   "metadata": {
    "collapsed": true
   },
   "outputs": [],
   "source": [
    "l_svm = SVC(kernel='linear')\n",
    "l_svm.fit(xtrain_norm, ytrain_norm)\n",
    "y_pred = l_svm.predict(xtest_norm)\n",
    "\n",
    "print(\"Accuracy: %.3f\"% metrics.accuracy_score(ytest_norm, l_svm.predict(xtest_norm)))\n",
    "print(metrics.classification_report(ytest_norm, l_svm.predict(xtest_norm)))\n",
    "print(metrics.confusion_matrix(ytest_norm,l_svm.predict(xtest_norm)))"
   ]
  },
  {
   "cell_type": "markdown",
   "metadata": {},
   "source": [
    "### RBF"
   ]
  },
  {
   "cell_type": "code",
   "execution_count": null,
   "metadata": {
    "collapsed": true
   },
   "outputs": [],
   "source": [
    "rbf_svm = SVC(kernel='rbf', gamma = 0.001)\n",
    "rbf_svm.fit(xtrain_norm, ytrain_norm)\n",
    "y_pred = svm.predict(xtest_norm)\n",
    "\n",
    "print(\"Accuracy: %.3f\"% metrics.accuracy_score(ytest_norm, rbf_svm.predict(xtest_norm)))\n",
    "print(metrics.classification_report(ytest_norm, rbf_svm.predict(xtest_norm)))\n",
    "print(metrics.confusion_matrix(ytest_norm,rbf_svm.predict(xtest_norm)))"
   ]
  },
  {
   "cell_type": "markdown",
   "metadata": {},
   "source": [
    "## Logistic Regression"
   ]
  },
  {
   "cell_type": "code",
   "execution_count": null,
   "metadata": {
    "collapsed": true
   },
   "outputs": [],
   "source": [
    "lr = LogisticRegression(class_weight = 'balanced')\n",
    "lr.fit(xtrain, ytrain)\n",
    "y_pred = lr.predict(xtest)\n",
    "\n",
    "print(\"Accuracy: %.3f\"% metrics.accuracy_score(ytest, lr.predict(xtest)))\n",
    "print(metrics.classification_report(ytest, lr.predict(xtest)))\n",
    "print(metrics.confusion_matrix(ytest,lr.predict(xtest)))\n",
    "# Needs work: print(cross_val_score(lr, xtest, ytest, cv=10, scoring='f1'))"
   ]
  },
  {
   "cell_type": "markdown",
   "metadata": {},
   "source": [
    "## Random Forests"
   ]
  },
  {
   "cell_type": "markdown",
   "metadata": {},
   "source": [
    "### Random Forests with Upsampling"
   ]
  },
  {
   "cell_type": "code",
   "execution_count": 53,
   "metadata": {},
   "outputs": [
    {
     "ename": "NameError",
     "evalue": "name 'xtrain_up' is not defined",
     "output_type": "error",
     "traceback": [
      "\u001b[0;31m---------------------------------------------------------------------------\u001b[0m",
      "\u001b[0;31mNameError\u001b[0m                                 Traceback (most recent call last)",
      "\u001b[0;32m<ipython-input-53-530ed9667fa6>\u001b[0m in \u001b[0;36m<module>\u001b[0;34m()\u001b[0m\n\u001b[1;32m      1\u001b[0m \u001b[0mrf\u001b[0m \u001b[0;34m=\u001b[0m \u001b[0mRandomForestClassifier\u001b[0m\u001b[0;34m(\u001b[0m\u001b[0mn_estimators\u001b[0m \u001b[0;34m=\u001b[0m \u001b[0;36m5\u001b[0m\u001b[0;34m)\u001b[0m\u001b[0;31m#class_weight = 'balanced')\u001b[0m\u001b[0;34m\u001b[0m\u001b[0m\n\u001b[0;32m----> 2\u001b[0;31m \u001b[0mrf\u001b[0m\u001b[0;34m.\u001b[0m\u001b[0mfit\u001b[0m\u001b[0;34m(\u001b[0m\u001b[0mxtrain_up\u001b[0m\u001b[0;34m,\u001b[0m \u001b[0mytrain_up\u001b[0m\u001b[0;34m)\u001b[0m\u001b[0;34m\u001b[0m\u001b[0m\n\u001b[0m\u001b[1;32m      3\u001b[0m \u001b[0my_pred\u001b[0m \u001b[0;34m=\u001b[0m \u001b[0mrf\u001b[0m\u001b[0;34m.\u001b[0m\u001b[0mpredict\u001b[0m\u001b[0;34m(\u001b[0m\u001b[0mxtest_up\u001b[0m\u001b[0;34m)\u001b[0m\u001b[0;34m\u001b[0m\u001b[0m\n\u001b[1;32m      4\u001b[0m \u001b[0;34m\u001b[0m\u001b[0m\n\u001b[1;32m      5\u001b[0m \u001b[0mprint\u001b[0m\u001b[0;34m(\u001b[0m\u001b[0;34m\"Accuracy: %.3f\"\u001b[0m\u001b[0;34m%\u001b[0m \u001b[0mmetrics\u001b[0m\u001b[0;34m.\u001b[0m\u001b[0maccuracy_score\u001b[0m\u001b[0;34m(\u001b[0m\u001b[0mytest_up\u001b[0m\u001b[0;34m,\u001b[0m \u001b[0mrf\u001b[0m\u001b[0;34m.\u001b[0m\u001b[0mpredict\u001b[0m\u001b[0;34m(\u001b[0m\u001b[0mxtest_up\u001b[0m\u001b[0;34m)\u001b[0m\u001b[0;34m)\u001b[0m\u001b[0;34m)\u001b[0m\u001b[0;34m\u001b[0m\u001b[0m\n",
      "\u001b[0;31mNameError\u001b[0m: name 'xtrain_up' is not defined"
     ]
    }
   ],
   "source": [
    "rf = RandomForestClassifier(n_estimators = 5)#class_weight = 'balanced')\n",
    "rf.fit(xtrain_up, ytrain_up)\n",
    "y_pred = rf.predict(xtest_up)\n",
    "\n",
    "print(\"Accuracy: %.3f\"% metrics.accuracy_score(ytest_up, rf.predict(xtest_up)))\n",
    "print(metrics.classification_report(ytest_up, rf.predict(xtest_up)))\n",
    "print(metrics.confusion_matrix(ytest_up,rf.predict(xtest_up)))"
   ]
  },
  {
   "cell_type": "code",
   "execution_count": null,
   "metadata": {
    "collapsed": true
   },
   "outputs": [],
   "source": [
    "n_range = list(range(10,100))\n",
    "n_up_auc = []\n",
    "for n in tqdm(n_range):\n",
    "    rf = RandomForestClassifier(n_estimators = n)#class_weight = 'balanced')\n",
    "    rf.fit(xtrain_up, ytrain_up)\n",
    "    y_score = rf.predict_proba(xtest_up)[:,1]\n",
    "    fpr, tpr,_ = roc_curve(ytest_up, y_score)\n",
    "    roc_auc = auc(fpr, tpr)\n",
    "    n_up_auc.append(roc_auc)\n",
    "print(n_up_auc)"
   ]
  },
  {
   "cell_type": "code",
   "execution_count": null,
   "metadata": {
    "collapsed": true,
    "scrolled": true
   },
   "outputs": [],
   "source": [
    "plt.plot(n_range, n_up_auc)\n",
    "plt.savefig('n_up_auc')"
   ]
  },
  {
   "cell_type": "code",
   "execution_count": null,
   "metadata": {
    "collapsed": true
   },
   "outputs": [],
   "source": [
    "np.argmax(np.array(n_up_auc))"
   ]
  },
  {
   "cell_type": "code",
   "execution_count": null,
   "metadata": {
    "collapsed": true
   },
   "outputs": [],
   "source": [
    "rf_64 = RandomForestClassifier(n_estimators = 64)#class_weight = 'balanced')\n",
    "rf_64.fit(xtrain_up, ytrain_up)\n",
    "y_pred = rf.predict(xtest_up)\n",
    "\n",
    "print(\"Accuracy: %.3f\"% metrics.accuracy_score(ytest_up, rf_64.predict(xtest_up)))\n",
    "print(metrics.classification_report(ytest_up, rf_64.predict(xtest_up)))\n",
    "print(metrics.confusion_matrix(ytest_up,rf_64.predict(xtest_up)))"
   ]
  },
  {
   "cell_type": "markdown",
   "metadata": {},
   "source": [
    "### Random Forests, no upsampling"
   ]
  },
  {
   "cell_type": "code",
   "execution_count": 54,
   "metadata": {},
   "outputs": [
    {
     "name": "stdout",
     "output_type": "stream",
     "text": [
      "Accuracy: 0.632\n",
      "             precision    recall  f1-score   support\n",
      "\n",
      "         EU       0.17      0.12      0.14      2429\n",
      "      GB_AU       0.04      0.02      0.02       573\n",
      "         NA       0.73      0.85      0.78     12761\n",
      "      other       0.15      0.06      0.08      2019\n",
      "\n",
      "avg / total       0.56      0.63      0.59     17782\n",
      "\n",
      "[[  292    42  1976   119]\n",
      " [   71    11   464    27]\n",
      " [ 1180   221 10810   550]\n",
      " [  209    40  1651   119]]\n"
     ]
    }
   ],
   "source": [
    "rf = RandomForestClassifier(n_estimators = 5)#class_weight = 'balanced')\n",
    "rf.fit(xtrain, ytrain)\n",
    "y_pred = rf.predict(xtest)\n",
    "\n",
    "print(\"Accuracy: %.3f\"% metrics.accuracy_score(ytest, rf.predict(xtest)))\n",
    "print(metrics.classification_report(ytest, rf.predict(xtest)))\n",
    "print(metrics.confusion_matrix(ytest,rf.predict(xtest)))"
   ]
  },
  {
   "cell_type": "code",
   "execution_count": null,
   "metadata": {
    "collapsed": true
   },
   "outputs": [],
   "source": [
    "n_range = list(range(10,100))\n",
    "n_auc = []\n",
    "for n in tqdm(n_range):\n",
    "    rf = RandomForestClassifier(n_estimators = n)#class_weight = 'balanced')\n",
    "    rf.fit(xtrain, ytrain)\n",
    "    y_score = rf.predict_proba(xtest)[:,1]\n",
    "    fpr, tpr,_ = roc_curve(ytest, y_score)\n",
    "    roc_auc = auc(fpr, tpr)\n",
    "    n_auc.append(roc_auc)\n",
    "print(n_auc)"
   ]
  },
  {
   "cell_type": "code",
   "execution_count": null,
   "metadata": {
    "collapsed": true
   },
   "outputs": [],
   "source": [
    "plt.plot(n_range, n_auc)\n",
    "plt.savefig('rf_n_auc')"
   ]
  },
  {
   "cell_type": "code",
   "execution_count": null,
   "metadata": {
    "collapsed": true
   },
   "outputs": [],
   "source": [
    "np.argmax(np.array(n_auc))"
   ]
  },
  {
   "cell_type": "code",
   "execution_count": null,
   "metadata": {
    "collapsed": true
   },
   "outputs": [],
   "source": [
    "rf_plain = RandomForestClassifier(n_estimators = 48, class_weight = 'balanced')\n",
    "rf_plain.fit(xtrain, ytrain)\n",
    "y_pred = rf_plain.predict(xtest)\n",
    "\n",
    "print(\"Accuracy: %.3f\"% metrics.accuracy_score(ytest, rf_plain.predict(xtest)))\n",
    "print(metrics.classification_report(ytest, rf_plain.predict(xtest)))\n",
    "print(metrics.confusion_matrix(ytest,rf_plain.predict(xtest)))"
   ]
  },
  {
   "cell_type": "code",
   "execution_count": null,
   "metadata": {
    "collapsed": true,
    "scrolled": true
   },
   "outputs": [],
   "source": [
    "features = pd.DataFrame()\n",
    "features['importances'] = rf.feature_importances_\n",
    "features['features'] = users.columns\n",
    "features.sort_values('importances',ascending = False)"
   ]
  },
  {
   "cell_type": "markdown",
   "metadata": {},
   "source": [
    "## Naive Bayes"
   ]
  },
  {
   "cell_type": "markdown",
   "metadata": {},
   "source": [
    "### Gaussian"
   ]
  },
  {
   "cell_type": "code",
   "execution_count": null,
   "metadata": {
    "collapsed": true
   },
   "outputs": [],
   "source": [
    "nb_g = naive_bayes.GaussianNB()\n",
    "nb_g.fit(xtrain, ytrain)\n",
    "\n",
    "print(\"Accuracy: %.3f\"% metrics.accuracy_score(ytest, nb_g.predict(xtest)))\n",
    "print(metrics.classification_report(ytest, nb_g.predict(xtest)))\n",
    "print(metrics.confusion_matrix(ytest,nb_g.predict(xtest)))"
   ]
  },
  {
   "cell_type": "markdown",
   "metadata": {},
   "source": [
    "### Bernoulli"
   ]
  },
  {
   "cell_type": "code",
   "execution_count": null,
   "metadata": {
    "collapsed": true
   },
   "outputs": [],
   "source": [
    "nb_b = naive_bayes.BernoulliNB()\n",
    "nb_b.fit(xtrain, ytrain)\n",
    "\n",
    "print(\"Accuracy: %.3f\"% metrics.accuracy_score(ytest, nb_b.predict(xtest)))\n",
    "print(metrics.classification_report(ytest, nb_b.predict(xtest)))\n",
    "print(metrics.confusion_matrix(ytest,nb_b.predict(xtest)))"
   ]
  },
  {
   "cell_type": "markdown",
   "metadata": {},
   "source": [
    "### Multinomial"
   ]
  },
  {
   "cell_type": "code",
   "execution_count": null,
   "metadata": {
    "collapsed": true
   },
   "outputs": [],
   "source": [
    "nb_m = naive_bayes.MultinomialNB()\n",
    "nb_m.fit(xtrain, ytrain)\n",
    "\n",
    "print(\"Accuracy: %.3f\"% metrics.accuracy_score(ytest, nb_m.predict(xtest)))\n",
    "print(metrics.classification_report(ytest, nb_m.predict(xtest)))\n",
    "print(metrics.confusion_matrix(ytest,nb_m.predict(xtest)))"
   ]
  },
  {
   "cell_type": "code",
   "execution_count": null,
   "metadata": {
    "collapsed": true
   },
   "outputs": [],
   "source": [
    "users"
   ]
  },
  {
   "cell_type": "code",
   "execution_count": null,
   "metadata": {
    "collapsed": true
   },
   "outputs": [],
   "source": [
    "# What about ROC ? \n",
    "\n",
    "from sklearn.metrics import roc_curve, auc\n",
    "\n",
    "xtrain, xtest, ytrain, ytest = cross_validation.train_test_split(users, y, test_size=0.2, stratify = y, random_state=1234)\n",
    "\n",
    "lr_score=lr.predict_proba(xtest)[:,1]\n",
    "nb_m_score = nb_m.predict_proba(xtest)[:,1]\n",
    "nb_b_score = nb_b.predict_proba(xtest)[:,1]\n",
    "rf_64_score = rf_64.predict_proba(xtest_up)[:,1]\n",
    "rf_plain_score = rf_plain.predict_proba(xtest)[:,1]\n",
    "knn_score = knn.predict_proba(xtest)[:,1]\n",
    "knn5_score = knn5.predict_proba(xtest)[:,1]\n",
    "#l_svm_score = l_svm.predict_proba(xtest)[:,1]\n",
    "\n",
    "lr_fpr, lr_tpr,_ = roc_curve(ytest, lr_score)\n",
    "nb_m_fpr, nb_m_tpr,_ = roc_curve(ytest, nb_m_score)\n",
    "nb_b_fpr, nb_b_tpr,_ = roc_curve(ytest, nb_b_score)\n",
    "rf_64_fpr, rf_64_tpr,_ = roc_curve(ytest_up, rf_64_score)\n",
    "rf_plain_fpr, rf_plain_tpr,_ = roc_curve(ytest, rf_plain_score)\n",
    "knn_fpr, knn_tpr,_ = roc_curve(ytest, knn_score)\n",
    "knn5_fpr, knn5_tpr,_ = roc_curve(ytest, knn5_score)\n",
    "#l_svm_fpr, l_svm_tpr,_ = roc_curve(ytest, l_svm_score)\n",
    "#roc_auc = auc(fpr, tpr)\n",
    "\n",
    "plt.figure(figsize = (10,10))\n",
    "plt.subplot(1,1,1)\n",
    "# Plotting our Baseline..\n",
    "plt.plot([0,1],[0,1])\n",
    "\n",
    "plt.plot(lr_fpr,lr_tpr, label = 'LogisticRegression')\n",
    "plt.plot(nb_m_fpr,nb_m_tpr, label = 'NaiveBayes - Multinomial')\n",
    "plt.plot(nb_b_fpr,nb_b_tpr, label = 'NaiveBayes - Bernoulli')\n",
    "plt.plot(rf_64_fpr,rf_64_tpr, label = 'RandomForrests n=64, upsampled')\n",
    "plt.plot(rf_plain_fpr,rf_plain_tpr, label = 'RandomForrests n=48')\n",
    "plt.plot(knn_fpr,knn_tpr, label = 'KNN K = 16')\n",
    "plt.plot(knn5_fpr,knn5_tpr, label = 'KNN K=5')\n",
    "#plt.plot(l_svm_fpr,l_svm_tpr, label = 'SVM-Linear')\n",
    "\n",
    "plt.legend()\n",
    "plt.grid(True)\n",
    "plt.xlabel('FPR')\n",
    "plt.ylabel('TPR')\n",
    "\n",
    "plt.savefig('RocCurve')"
   ]
  },
  {
   "cell_type": "code",
   "execution_count": null,
   "metadata": {
    "collapsed": true
   },
   "outputs": [],
   "source": []
  }
 ],
 "metadata": {
  "kernelspec": {
   "display_name": "Python 3",
   "language": "python",
   "name": "python3"
  },
  "language_info": {
   "codemirror_mode": {
    "name": "ipython",
    "version": 3
   },
   "file_extension": ".py",
   "mimetype": "text/x-python",
   "name": "python",
   "nbconvert_exporter": "python",
   "pygments_lexer": "ipython3",
   "version": "3.6.3"
  },
  "toc": {
   "nav_menu": {},
   "number_sections": true,
   "sideBar": true,
   "skip_h1_title": false,
   "toc_cell": false,
   "toc_position": {},
   "toc_section_display": "block",
   "toc_window_display": false
  }
 },
 "nbformat": 4,
 "nbformat_minor": 2
}
