{
 "cells": [
  {
   "cell_type": "markdown",
   "metadata": {},
   "source": [
    "# Project 3: Part 3 Modeling"
   ]
  },
  {
   "cell_type": "code",
   "execution_count": 14,
   "metadata": {
    "scrolled": true
   },
   "outputs": [],
   "source": [
    "import pandas as pd\n",
    "import matplotlib.pyplot as plt\n",
    "from patsy import dmatrix\n",
    "import datetime as dt\n",
    "import numpy as np\n",
    "import pickle\n",
    "from tqdm import tqdm\n",
    "\n",
    "%matplotlib inline\n",
    "\n",
    "from sklearn import metrics\n",
    "\n",
    "import seaborn as sns\n",
    "from sklearn.cross_validation import train_test_split\n",
    "from sklearn import preprocessing\n",
    "from sklearn.model_selection import cross_val_score\n",
    "from sklearn import cross_validation"
   ]
  },
  {
   "cell_type": "code",
   "execution_count": 2,
   "metadata": {
    "collapsed": true
   },
   "outputs": [],
   "source": [
    "from sklearn.tree import DecisionTreeClassifier\n",
    "from sklearn.svm import LinearSVC\n",
    "from sklearn.svm import SVC\n",
    "from sklearn.ensemble import RandomForestClassifier\n",
    "from sklearn.linear_model import LogisticRegression\n",
    "from sklearn import naive_bayes\n",
    "from sklearn.neighbors import KNeighborsClassifier"
   ]
  },
  {
   "cell_type": "code",
   "execution_count": 3,
   "metadata": {
    "collapsed": true
   },
   "outputs": [],
   "source": [
    "with open(\"users.pkl\", 'rb') as picklefile: \n",
    "    users = pickle.load(picklefile)"
   ]
  },
  {
   "cell_type": "code",
   "execution_count": 4,
   "metadata": {
    "collapsed": true
   },
   "outputs": [],
   "source": [
    "y = users['US']\n",
    "users = users.drop('US', axis = 1)"
   ]
  },
  {
   "cell_type": "code",
   "execution_count": 5,
   "metadata": {
    "collapsed": true
   },
   "outputs": [],
   "source": [
    "users = users.drop('id',axis = 1)"
   ]
  },
  {
   "cell_type": "code",
   "execution_count": 17,
   "metadata": {
    "scrolled": true
   },
   "outputs": [
    {
     "data": {
      "text/plain": [
       "(88908, 114)"
      ]
     },
     "execution_count": 17,
     "metadata": {},
     "output_type": "execute_result"
    }
   ],
   "source": [
    "users.shape"
   ]
  },
  {
   "cell_type": "code",
   "execution_count": 7,
   "metadata": {},
   "outputs": [
    {
     "data": {
      "text/plain": [
       "0    1\n",
       "1    0\n",
       "2    1\n",
       "3    1\n",
       "4    1\n",
       "Name: US, dtype: uint8"
      ]
     },
     "execution_count": 7,
     "metadata": {},
     "output_type": "execute_result"
    }
   ],
   "source": [
    "y.head()"
   ]
  },
  {
   "cell_type": "code",
   "execution_count": 8,
   "metadata": {
    "collapsed": true
   },
   "outputs": [],
   "source": [
    "xtrain, xtest, ytrain, ytest = train_test_split(users.iloc[:,:], y, test_size=0.2,stratify = y)#, random_state = 1234)"
   ]
  },
  {
   "cell_type": "code",
   "execution_count": 9,
   "metadata": {
    "scrolled": true
   },
   "outputs": [
    {
     "data": {
      "text/html": [
       "<div>\n",
       "<style>\n",
       "    .dataframe thead tr:only-child th {\n",
       "        text-align: right;\n",
       "    }\n",
       "\n",
       "    .dataframe thead th {\n",
       "        text-align: left;\n",
       "    }\n",
       "\n",
       "    .dataframe tbody tr th {\n",
       "        vertical-align: top;\n",
       "    }\n",
       "</style>\n",
       "<table border=\"1\" class=\"dataframe\">\n",
       "  <thead>\n",
       "    <tr style=\"text-align: right;\">\n",
       "      <th></th>\n",
       "      <th>gender_FEMALE</th>\n",
       "      <th>gender_MALE</th>\n",
       "      <th>gender_OTHER</th>\n",
       "      <th>language_cs</th>\n",
       "      <th>language_da</th>\n",
       "      <th>language_de</th>\n",
       "      <th>language_el</th>\n",
       "      <th>language_en</th>\n",
       "      <th>language_es</th>\n",
       "      <th>language_fi</th>\n",
       "      <th>...</th>\n",
       "      <th>first_affiliate_tracked_tracked-other</th>\n",
       "      <th>first_affiliate_tracked_untracked</th>\n",
       "      <th>diff_account_to_first_active</th>\n",
       "      <th>age</th>\n",
       "      <th>total_sessions</th>\n",
       "      <th>total_sessions_on_mac</th>\n",
       "      <th>total_sessions_on_windows</th>\n",
       "      <th>total_sessions_on_iphone</th>\n",
       "      <th>total_sessions_on_android</th>\n",
       "      <th>no_age_entered</th>\n",
       "    </tr>\n",
       "  </thead>\n",
       "  <tbody>\n",
       "    <tr>\n",
       "      <th>38</th>\n",
       "      <td>1</td>\n",
       "      <td>0</td>\n",
       "      <td>0</td>\n",
       "      <td>0</td>\n",
       "      <td>0</td>\n",
       "      <td>0</td>\n",
       "      <td>0</td>\n",
       "      <td>1</td>\n",
       "      <td>0</td>\n",
       "      <td>0</td>\n",
       "      <td>...</td>\n",
       "      <td>0</td>\n",
       "      <td>0</td>\n",
       "      <td>0</td>\n",
       "      <td>57.000000</td>\n",
       "      <td>0.0</td>\n",
       "      <td>0.0</td>\n",
       "      <td>0.0</td>\n",
       "      <td>0.0</td>\n",
       "      <td>0.0</td>\n",
       "      <td>0</td>\n",
       "    </tr>\n",
       "    <tr>\n",
       "      <th>78932</th>\n",
       "      <td>0</td>\n",
       "      <td>0</td>\n",
       "      <td>0</td>\n",
       "      <td>0</td>\n",
       "      <td>0</td>\n",
       "      <td>0</td>\n",
       "      <td>0</td>\n",
       "      <td>1</td>\n",
       "      <td>0</td>\n",
       "      <td>0</td>\n",
       "      <td>...</td>\n",
       "      <td>0</td>\n",
       "      <td>0</td>\n",
       "      <td>0</td>\n",
       "      <td>62.000000</td>\n",
       "      <td>77.0</td>\n",
       "      <td>64.0</td>\n",
       "      <td>0.0</td>\n",
       "      <td>0.0</td>\n",
       "      <td>0.0</td>\n",
       "      <td>0</td>\n",
       "    </tr>\n",
       "    <tr>\n",
       "      <th>46765</th>\n",
       "      <td>0</td>\n",
       "      <td>0</td>\n",
       "      <td>0</td>\n",
       "      <td>0</td>\n",
       "      <td>0</td>\n",
       "      <td>0</td>\n",
       "      <td>0</td>\n",
       "      <td>1</td>\n",
       "      <td>0</td>\n",
       "      <td>0</td>\n",
       "      <td>...</td>\n",
       "      <td>0</td>\n",
       "      <td>1</td>\n",
       "      <td>0</td>\n",
       "      <td>36.924928</td>\n",
       "      <td>0.0</td>\n",
       "      <td>0.0</td>\n",
       "      <td>0.0</td>\n",
       "      <td>0.0</td>\n",
       "      <td>0.0</td>\n",
       "      <td>1</td>\n",
       "    </tr>\n",
       "    <tr>\n",
       "      <th>17726</th>\n",
       "      <td>1</td>\n",
       "      <td>0</td>\n",
       "      <td>0</td>\n",
       "      <td>0</td>\n",
       "      <td>0</td>\n",
       "      <td>0</td>\n",
       "      <td>0</td>\n",
       "      <td>1</td>\n",
       "      <td>0</td>\n",
       "      <td>0</td>\n",
       "      <td>...</td>\n",
       "      <td>0</td>\n",
       "      <td>1</td>\n",
       "      <td>0</td>\n",
       "      <td>39.000000</td>\n",
       "      <td>0.0</td>\n",
       "      <td>0.0</td>\n",
       "      <td>0.0</td>\n",
       "      <td>0.0</td>\n",
       "      <td>0.0</td>\n",
       "      <td>0</td>\n",
       "    </tr>\n",
       "    <tr>\n",
       "      <th>74566</th>\n",
       "      <td>0</td>\n",
       "      <td>0</td>\n",
       "      <td>0</td>\n",
       "      <td>0</td>\n",
       "      <td>0</td>\n",
       "      <td>0</td>\n",
       "      <td>0</td>\n",
       "      <td>1</td>\n",
       "      <td>0</td>\n",
       "      <td>0</td>\n",
       "      <td>...</td>\n",
       "      <td>0</td>\n",
       "      <td>1</td>\n",
       "      <td>0</td>\n",
       "      <td>27.000000</td>\n",
       "      <td>64.0</td>\n",
       "      <td>0.0</td>\n",
       "      <td>64.0</td>\n",
       "      <td>0.0</td>\n",
       "      <td>0.0</td>\n",
       "      <td>0</td>\n",
       "    </tr>\n",
       "  </tbody>\n",
       "</table>\n",
       "<p>5 rows × 114 columns</p>\n",
       "</div>"
      ],
      "text/plain": [
       "       gender_FEMALE  gender_MALE  gender_OTHER  language_cs  language_da  \\\n",
       "38                 1            0             0            0            0   \n",
       "78932              0            0             0            0            0   \n",
       "46765              0            0             0            0            0   \n",
       "17726              1            0             0            0            0   \n",
       "74566              0            0             0            0            0   \n",
       "\n",
       "       language_de  language_el  language_en  language_es  language_fi  \\\n",
       "38               0            0            1            0            0   \n",
       "78932            0            0            1            0            0   \n",
       "46765            0            0            1            0            0   \n",
       "17726            0            0            1            0            0   \n",
       "74566            0            0            1            0            0   \n",
       "\n",
       "            ...        first_affiliate_tracked_tracked-other  \\\n",
       "38          ...                                            0   \n",
       "78932       ...                                            0   \n",
       "46765       ...                                            0   \n",
       "17726       ...                                            0   \n",
       "74566       ...                                            0   \n",
       "\n",
       "       first_affiliate_tracked_untracked  diff_account_to_first_active  \\\n",
       "38                                     0                             0   \n",
       "78932                                  0                             0   \n",
       "46765                                  1                             0   \n",
       "17726                                  1                             0   \n",
       "74566                                  1                             0   \n",
       "\n",
       "             age  total_sessions  total_sessions_on_mac  \\\n",
       "38     57.000000             0.0                    0.0   \n",
       "78932  62.000000            77.0                   64.0   \n",
       "46765  36.924928             0.0                    0.0   \n",
       "17726  39.000000             0.0                    0.0   \n",
       "74566  27.000000            64.0                    0.0   \n",
       "\n",
       "       total_sessions_on_windows  total_sessions_on_iphone  \\\n",
       "38                           0.0                       0.0   \n",
       "78932                        0.0                       0.0   \n",
       "46765                        0.0                       0.0   \n",
       "17726                        0.0                       0.0   \n",
       "74566                       64.0                       0.0   \n",
       "\n",
       "       total_sessions_on_android  no_age_entered  \n",
       "38                           0.0               0  \n",
       "78932                        0.0               0  \n",
       "46765                        0.0               1  \n",
       "17726                        0.0               0  \n",
       "74566                        0.0               0  \n",
       "\n",
       "[5 rows x 114 columns]"
      ]
     },
     "execution_count": 9,
     "metadata": {},
     "output_type": "execute_result"
    }
   ],
   "source": [
    "xtrain.head()"
   ]
  },
  {
   "cell_type": "markdown",
   "metadata": {},
   "source": [
    "## KNN"
   ]
  },
  {
   "cell_type": "code",
   "execution_count": 10,
   "metadata": {
    "collapsed": true
   },
   "outputs": [],
   "source": [
    "normalizer = preprocessing.Normalizer()\n",
    "users_norm = normalizer.fit_transform(users)"
   ]
  },
  {
   "cell_type": "code",
   "execution_count": 11,
   "metadata": {
    "collapsed": true
   },
   "outputs": [],
   "source": [
    "xtrain_norm, xtest_norm, ytrain_norm, ytest_norm = train_test_split(users_norm, y, test_size=0.2,stratify = y)#, random_state = 1234)"
   ]
  },
  {
   "cell_type": "code",
   "execution_count": 59,
   "metadata": {},
   "outputs": [
    {
     "name": "stderr",
     "output_type": "stream",
     "text": [
      "100%|██████████| 30/30 [27:38<00:00, 55.29s/it]"
     ]
    },
    {
     "name": "stdout",
     "output_type": "stream",
     "text": [
      "[0.50419819099287699, 0.50852665949951537, 0.51478406596498061, 0.52007624066674896, 0.52319276578406493, 0.52602900166264321, 0.52664740825158884, 0.52496223651372831, 0.5251972571485537, 0.52698431723065498, 0.52897678530227965, 0.52777865510557564, 0.52949720809623779, 0.53083783545987773, 0.52960298588509214, 0.53185222527210063, 0.53052967816167473, 0.52921232704716015, 0.52949514631297645, 0.52861185721735549, 0.53003906437332926, 0.52957926404910816, 0.53057570199755066, 0.52960221554848907, 0.53032170993579386, 0.52894599449511426, 0.52955746050231234, 0.53050377370531532, 0.53069925794683392, 0.52943953103115959]\n"
     ]
    },
    {
     "name": "stderr",
     "output_type": "stream",
     "text": [
      "\n"
     ]
    }
   ],
   "source": [
    "k_range = list(range(1,31))\n",
    "k_auc = []\n",
    "for k in tqdm(k_range):\n",
    "    knn = KNeighborsClassifier(n_neighbors = k)\n",
    "    knn.fit(xtrain_norm, ytrain_norm)\n",
    "    y_score = knn.predict_proba(xtest_norm)[:,1]\n",
    "    fpr, tpr,_ = roc_curve(ytest_norm, y_score)\n",
    "    roc_auc = auc(fpr, tpr)\n",
    "    k_auc.append(roc_auc)\n",
    "print(k_auc)"
   ]
  },
  {
   "cell_type": "code",
   "execution_count": 63,
   "metadata": {},
   "outputs": [
    {
     "data": {
      "image/png": "[encoded data removed]",
      "text/plain": [
       "<matplotlib.figure.Figure at 0x1a1f3450b8>"
      ]
     },
     "metadata": {},
     "output_type": "display_data"
    }
   ],
   "source": [
    "plt.plot(k_range, k_auc)\n",
    "plt.savefig('knn_k_auc')"
   ]
  },
  {
   "cell_type": "code",
   "execution_count": 61,
   "metadata": {},
   "outputs": [
    {
     "data": {
      "text/plain": [
       "15"
      ]
     },
     "execution_count": 61,
     "metadata": {},
     "output_type": "execute_result"
    }
   ],
   "source": [
    "np.argmax(np.array(k_auc))"
   ]
  },
  {
   "cell_type": "code",
   "execution_count": 69,
   "metadata": {},
   "outputs": [
    {
     "name": "stdout",
     "output_type": "stream",
     "text": [
      "Accuracy: 0.669\n",
      "             precision    recall  f1-score   support\n",
      "\n",
      "          0       0.33      0.11      0.16      5307\n",
      "          1       0.70      0.91      0.79     12475\n",
      "\n",
      "avg / total       0.59      0.67      0.60     17782\n",
      "\n",
      "[[  564  4743]\n",
      " [ 1143 11332]]\n"
     ]
    }
   ],
   "source": [
    "knn = KNeighborsClassifier(n_neighbors=16)\n",
    "knn.fit(xtrain_norm, ytrain_norm)\n",
    "y_pred = knn.predict(xtest_norm)\n",
    "\n",
    "print(\"Accuracy: %.3f\"% metrics.accuracy_score(ytest_norm, knn.predict(xtest_norm)))\n",
    "print(metrics.classification_report(ytest_norm, knn.predict(xtest_norm)))\n",
    "print(metrics.confusion_matrix(ytest_norm,knn.predict(xtest_norm)))"
   ]
  },
  {
   "cell_type": "code",
   "execution_count": 67,
   "metadata": {},
   "outputs": [
    {
     "name": "stdout",
     "output_type": "stream",
     "text": [
      "Accuracy: 0.641\n",
      "             precision    recall  f1-score   support\n",
      "\n",
      "          0       0.32      0.18      0.23      5307\n",
      "          1       0.71      0.84      0.77     12475\n",
      "\n",
      "avg / total       0.59      0.64      0.61     17782\n",
      "\n",
      "[[  943  4364]\n",
      " [ 2023 10452]]\n"
     ]
    }
   ],
   "source": [
    "knn5 = KNeighborsClassifier(n_neighbors=5)\n",
    "knn5.fit(xtrain_norm, ytrain_norm)\n",
    "y_pred = knn5.predict(xtest_norm)\n",
    "\n",
    "print(\"Accuracy: %.3f\"% metrics.accuracy_score(ytest_norm, knn5.predict(xtest_norm)))\n",
    "print(metrics.classification_report(ytest_norm, knn5.predict(xtest_norm)))\n",
    "print(metrics.confusion_matrix(ytest_norm,knn5.predict(xtest_norm)))"
   ]
  },
  {
   "cell_type": "markdown",
   "metadata": {},
   "source": [
    "## SVMs"
   ]
  },
  {
   "cell_type": "markdown",
   "metadata": {},
   "source": [
    "### Linear"
   ]
  },
  {
   "cell_type": "code",
   "execution_count": 29,
   "metadata": {},
   "outputs": [
    {
     "name": "stdout",
     "output_type": "stream",
     "text": [
      "Accuracy: 0.702\n"
     ]
    },
    {
     "name": "stderr",
     "output_type": "stream",
     "text": [
      "/Users/emilygeller/anaconda3/lib/python3.6/site-packages/sklearn/metrics/classification.py:1135: UndefinedMetricWarning: Precision and F-score are ill-defined and being set to 0.0 in labels with no predicted samples.\n",
      "  'precision', 'predicted', average, warn_for)\n"
     ]
    },
    {
     "name": "stdout",
     "output_type": "stream",
     "text": [
      "             precision    recall  f1-score   support\n",
      "\n",
      "          0       0.00      0.00      0.00      5307\n",
      "          1       0.70      1.00      0.82     12475\n",
      "\n",
      "avg / total       0.49      0.70      0.58     17782\n",
      "\n",
      "[[    0  5307]\n",
      " [    0 12475]]\n"
     ]
    }
   ],
   "source": [
    "l_svm = SVC(kernel='linear')\n",
    "l_svm.fit(xtrain_norm, ytrain_norm)\n",
    "y_pred = l_svm.predict(xtest_norm)\n",
    "\n",
    "print(\"Accuracy: %.3f\"% metrics.accuracy_score(ytest_norm, l_svm.predict(xtest_norm)))\n",
    "print(metrics.classification_report(ytest_norm, l_svm.predict(xtest_norm)))\n",
    "print(metrics.confusion_matrix(ytest_norm,l_svm.predict(xtest_norm)))"
   ]
  },
  {
   "cell_type": "markdown",
   "metadata": {},
   "source": [
    "### RBF"
   ]
  },
  {
   "cell_type": "code",
   "execution_count": null,
   "metadata": {
    "collapsed": true
   },
   "outputs": [],
   "source": [
    "rbf_svm = SVC(kernel='rbf', gamma = 0.001)\n",
    "rbf_svm.fit(xtrain_norm, ytrain_norm)\n",
    "y_pred = svm.predict(xtest_norm)\n",
    "\n",
    "print(\"Accuracy: %.3f\"% metrics.accuracy_score(ytest_norm, rbf_svm.predict(xtest_norm)))\n",
    "print(metrics.classification_report(ytest_norm, rbf_svm.predict(xtest_norm)))\n",
    "print(metrics.confusion_matrix(ytest_norm,rbf_svm.predict(xtest_norm)))"
   ]
  },
  {
   "cell_type": "markdown",
   "metadata": {},
   "source": [
    "## Logistic Regression"
   ]
  },
  {
   "cell_type": "code",
   "execution_count": 19,
   "metadata": {},
   "outputs": [
    {
     "name": "stdout",
     "output_type": "stream",
     "text": [
      "Accuracy: 0.534\n",
      "             precision    recall  f1-score   support\n",
      "\n",
      "          0       0.33      0.53      0.40      5294\n",
      "          1       0.73      0.53      0.62     12488\n",
      "\n",
      "avg / total       0.61      0.53      0.55     17782\n",
      "\n",
      "[[2812 2482]\n",
      " [5813 6675]]\n"
     ]
    }
   ],
   "source": [
    "lr = LogisticRegression(class_weight = 'balanced')\n",
    "lr.fit(xtrain, ytrain)\n",
    "y_pred = lr.predict(xtest)\n",
    "\n",
    "print(\"Accuracy: %.3f\"% metrics.accuracy_score(ytest, lr.predict(xtest)))\n",
    "print(metrics.classification_report(ytest, lr.predict(xtest)))\n",
    "print(metrics.confusion_matrix(ytest,lr.predict(xtest)))\n",
    "# Needs work: print(cross_val_score(lr, xtest, ytest, cv=10, scoring='f1'))"
   ]
  },
  {
   "cell_type": "markdown",
   "metadata": {},
   "source": [
    "## Random Forests"
   ]
  },
  {
   "cell_type": "code",
   "execution_count": 32,
   "metadata": {},
   "outputs": [
    {
     "name": "stdout",
     "output_type": "stream",
     "text": [
      "Accuracy: 0.647\n",
      "             precision    recall  f1-score   support\n",
      "\n",
      "          0       0.34      0.19      0.24      5294\n",
      "          1       0.71      0.84      0.77     12488\n",
      "\n",
      "avg / total       0.60      0.65      0.61     17782\n",
      "\n",
      "[[ 1012  4282]\n",
      " [ 1999 10489]]\n"
     ]
    }
   ],
   "source": [
    "rf = RandomForestClassifier(n_estimators = 5)#class_weight = 'balanced')\n",
    "rf.fit(xtrain, ytrain)\n",
    "y_pred = rf.predict(xtest)\n",
    "\n",
    "print(\"Accuracy: %.3f\"% metrics.accuracy_score(ytest, rf.predict(xtest)))\n",
    "print(metrics.classification_report(ytest, rf.predict(xtest)))\n",
    "print(metrics.confusion_matrix(ytest,rf.predict(xtest)))"
   ]
  },
  {
   "cell_type": "code",
   "execution_count": 50,
   "metadata": {},
   "outputs": [
    {
     "name": "stderr",
     "output_type": "stream",
     "text": [
      "100%|██████████| 90/90 [11:44<00:00,  7.83s/it]"
     ]
    },
    {
     "name": "stdout",
     "output_type": "stream",
     "text": [
      "[0.5240484283877388, 0.52583285394099222, 0.52621892158141637, 0.52422492574359858, 0.5245664020308004, 0.52504057087096778, 0.5237840567216534, 0.52351689431449966, 0.52785975632186799, 0.52878292439170016, 0.52234635616644565, 0.52897598468235585, 0.52730947361147851, 0.5297342797026211, 0.52607210137447846, 0.52766437419514722, 0.52675335984048277, 0.52507094381441088, 0.52940093362313878, 0.52694617055266901, 0.52635500235118049, 0.526294475790828, 0.52608549541900995, 0.52555035380243842, 0.52504727167472542, 0.52611051376983409, 0.52339368574337597, 0.52811424316796329, 0.52557115200823246, 0.52662272441914471, 0.52613092626344793, 0.52539016980290498, 0.52798619428712756, 0.52878867982246713, 0.52733621632263761, 0.52710116634522985, 0.52633832597162566, 0.52846772947363807, 0.52745347282541222, 0.52808079965304655, 0.52708493618172647, 0.5272252295335369, 0.5276590649804318, 0.5276889387669359, 0.52678790755105254, 0.52734595744593316, 0.52894036302806868, 0.52674887499101519, 0.53004849899575679, 0.52904383977413183, 0.5289567368882665, 0.52628519600955181, 0.52621732579180813, 0.52731693827661252, 0.52654385762277389, 0.52636913000515262, 0.5265443643426968, 0.52728582416074476, 0.5267721009146491, 0.52741492429634607, 0.52674806575173516, 0.52897106117982062, 0.52849769401594926, 0.52791595685541537, 0.52735890527441287, 0.52624357690901213, 0.52772649654510795, 0.52726091169169553, 0.52835349060144954, 0.52774818718300509, 0.52732815418177348, 0.52721321195207993, 0.52680131672155173, 0.52669317361440693, 0.52793555254676527, 0.52880447889588666, 0.52822283249115976, 0.52760290226180406, 0.5271968229659143, 0.52561880636994429, 0.52811753306597076, 0.52698822074329255, 0.52765285577062926, 0.52823665006279086, 0.52605984934051997, 0.52794351636883841, 0.5275566924300219, 0.52793785925686243, 0.52870521473186982, 0.52853822404680384]\n"
     ]
    },
    {
     "name": "stderr",
     "output_type": "stream",
     "text": [
      "\n"
     ]
    }
   ],
   "source": [
    "n_range = list(range(10,100))\n",
    "n_auc = []\n",
    "for n in tqdm(n_range):\n",
    "    rf = RandomForestClassifier(n_estimators = n)#class_weight = 'balanced')\n",
    "    rf.fit(xtrain, ytrain)\n",
    "    y_score = rf.predict_proba(xtest)[:,1]\n",
    "    fpr, tpr,_ = roc_curve(ytest, y_score)\n",
    "    roc_auc = auc(fpr, tpr)\n",
    "    n_auc.append(roc_auc)\n",
    "print(n_auc)"
   ]
  },
  {
   "cell_type": "code",
   "execution_count": 51,
   "metadata": {},
   "outputs": [
    {
     "data": {
      "image/png": "[encoded data removed]",
      "text/plain": [
       "<matplotlib.figure.Figure at 0x1a0e6bbba8>"
      ]
     },
     "metadata": {},
     "output_type": "display_data"
    }
   ],
   "source": [
    "plt.plot(n_range, n_auc)\n",
    "plt.savefig('rf_n_auc')"
   ]
  },
  {
   "cell_type": "code",
   "execution_count": 52,
   "metadata": {},
   "outputs": [
    {
     "data": {
      "text/plain": [
       "48"
      ]
     },
     "execution_count": 52,
     "metadata": {},
     "output_type": "execute_result"
    }
   ],
   "source": [
    "np.argmax(np.array(n_auc))"
   ]
  },
  {
   "cell_type": "code",
   "execution_count": 56,
   "metadata": {},
   "outputs": [
    {
     "name": "stdout",
     "output_type": "stream",
     "text": [
      "Accuracy: 0.659\n",
      "             precision    recall  f1-score   support\n",
      "\n",
      "          0       0.34      0.16      0.21      5294\n",
      "          1       0.71      0.87      0.78     12488\n",
      "\n",
      "avg / total       0.60      0.66      0.61     17782\n",
      "\n",
      "[[  828  4466]\n",
      " [ 1600 10888]]\n"
     ]
    }
   ],
   "source": [
    "rf = RandomForestClassifier(n_estimators = 48)#,class_weight = 'balanced')\n",
    "rf.fit(xtrain, ytrain)\n",
    "y_pred = rf.predict(xtest)\n",
    "\n",
    "print(\"Accuracy: %.3f\"% metrics.accuracy_score(ytest, rf.predict(xtest)))\n",
    "print(metrics.classification_report(ytest, rf.predict(xtest)))\n",
    "print(metrics.confusion_matrix(ytest,rf.predict(xtest)))"
   ]
  },
  {
   "cell_type": "code",
   "execution_count": 20,
   "metadata": {
    "scrolled": true
   },
   "outputs": [
    {
     "data": {
      "text/html": [
       "<div>\n",
       "<style>\n",
       "    .dataframe thead tr:only-child th {\n",
       "        text-align: right;\n",
       "    }\n",
       "\n",
       "    .dataframe thead th {\n",
       "        text-align: left;\n",
       "    }\n",
       "\n",
       "    .dataframe tbody tr th {\n",
       "        vertical-align: top;\n",
       "    }\n",
       "</style>\n",
       "<table border=\"1\" class=\"dataframe\">\n",
       "  <thead>\n",
       "    <tr style=\"text-align: right;\">\n",
       "      <th></th>\n",
       "      <th>importances</th>\n",
       "      <th>features</th>\n",
       "    </tr>\n",
       "  </thead>\n",
       "  <tbody>\n",
       "    <tr>\n",
       "      <th>107</th>\n",
       "      <td>0.383984</td>\n",
       "      <td>age</td>\n",
       "    </tr>\n",
       "    <tr>\n",
       "      <th>108</th>\n",
       "      <td>0.158588</td>\n",
       "      <td>total_sessions</td>\n",
       "    </tr>\n",
       "    <tr>\n",
       "      <th>109</th>\n",
       "      <td>0.071473</td>\n",
       "      <td>total_sessions_on_mac</td>\n",
       "    </tr>\n",
       "    <tr>\n",
       "      <th>110</th>\n",
       "      <td>0.059289</td>\n",
       "      <td>total_sessions_on_windows</td>\n",
       "    </tr>\n",
       "    <tr>\n",
       "      <th>111</th>\n",
       "      <td>0.032232</td>\n",
       "      <td>total_sessions_on_iphone</td>\n",
       "    </tr>\n",
       "    <tr>\n",
       "      <th>25</th>\n",
       "      <td>0.028921</td>\n",
       "      <td>signup_method_facebook</td>\n",
       "    </tr>\n",
       "    <tr>\n",
       "      <th>0</th>\n",
       "      <td>0.026714</td>\n",
       "      <td>gender_FEMALE</td>\n",
       "    </tr>\n",
       "    <tr>\n",
       "      <th>1</th>\n",
       "      <td>0.026662</td>\n",
       "      <td>gender_MALE</td>\n",
       "    </tr>\n",
       "    <tr>\n",
       "      <th>105</th>\n",
       "      <td>0.024019</td>\n",
       "      <td>first_affiliate_tracked_untracked</td>\n",
       "    </tr>\n",
       "    <tr>\n",
       "      <th>102</th>\n",
       "      <td>0.014448</td>\n",
       "      <td>first_affiliate_tracked_omg</td>\n",
       "    </tr>\n",
       "    <tr>\n",
       "      <th>49</th>\n",
       "      <td>0.011147</td>\n",
       "      <td>first_browser_Firefox</td>\n",
       "    </tr>\n",
       "    <tr>\n",
       "      <th>113</th>\n",
       "      <td>0.010891</td>\n",
       "      <td>no_age_entered</td>\n",
       "    </tr>\n",
       "    <tr>\n",
       "      <th>44</th>\n",
       "      <td>0.010722</td>\n",
       "      <td>first_browser_Chrome</td>\n",
       "    </tr>\n",
       "    <tr>\n",
       "      <th>35</th>\n",
       "      <td>0.008593</td>\n",
       "      <td>first_device_type_Windows Desktop</td>\n",
       "    </tr>\n",
       "    <tr>\n",
       "      <th>66</th>\n",
       "      <td>0.008338</td>\n",
       "      <td>first_browser_Safari</td>\n",
       "    </tr>\n",
       "    <tr>\n",
       "      <th>32</th>\n",
       "      <td>0.008198</td>\n",
       "      <td>first_device_type_Mac Desktop</td>\n",
       "    </tr>\n",
       "    <tr>\n",
       "      <th>104</th>\n",
       "      <td>0.006156</td>\n",
       "      <td>first_affiliate_tracked_tracked-other</td>\n",
       "    </tr>\n",
       "    <tr>\n",
       "      <th>7</th>\n",
       "      <td>0.006125</td>\n",
       "      <td>language_en</td>\n",
       "    </tr>\n",
       "    <tr>\n",
       "      <th>58</th>\n",
       "      <td>0.005728</td>\n",
       "      <td>first_browser_Mobile Safari</td>\n",
       "    </tr>\n",
       "    <tr>\n",
       "      <th>51</th>\n",
       "      <td>0.005322</td>\n",
       "      <td>first_browser_IE</td>\n",
       "    </tr>\n",
       "    <tr>\n",
       "      <th>81</th>\n",
       "      <td>0.004876</td>\n",
       "      <td>affiliate_channel_sem-brand</td>\n",
       "    </tr>\n",
       "    <tr>\n",
       "      <th>82</th>\n",
       "      <td>0.004619</td>\n",
       "      <td>affiliate_channel_sem-non-brand</td>\n",
       "    </tr>\n",
       "    <tr>\n",
       "      <th>91</th>\n",
       "      <td>0.004193</td>\n",
       "      <td>affiliate_provider_google</td>\n",
       "    </tr>\n",
       "    <tr>\n",
       "      <th>83</th>\n",
       "      <td>0.003949</td>\n",
       "      <td>affiliate_channel_seo</td>\n",
       "    </tr>\n",
       "    <tr>\n",
       "      <th>79</th>\n",
       "      <td>0.003883</td>\n",
       "      <td>affiliate_channel_other</td>\n",
       "    </tr>\n",
       "    <tr>\n",
       "      <th>37</th>\n",
       "      <td>0.003405</td>\n",
       "      <td>first_device_type_iPhone</td>\n",
       "    </tr>\n",
       "    <tr>\n",
       "      <th>95</th>\n",
       "      <td>0.003147</td>\n",
       "      <td>affiliate_provider_other</td>\n",
       "    </tr>\n",
       "    <tr>\n",
       "      <th>36</th>\n",
       "      <td>0.003056</td>\n",
       "      <td>first_device_type_iPad</td>\n",
       "    </tr>\n",
       "    <tr>\n",
       "      <th>28</th>\n",
       "      <td>0.003028</td>\n",
       "      <td>signup_app_Web</td>\n",
       "    </tr>\n",
       "    <tr>\n",
       "      <th>33</th>\n",
       "      <td>0.002919</td>\n",
       "      <td>first_device_type_Other/Unknown</td>\n",
       "    </tr>\n",
       "    <tr>\n",
       "      <th>...</th>\n",
       "      <td>...</td>\n",
       "      <td>...</td>\n",
       "    </tr>\n",
       "    <tr>\n",
       "      <th>57</th>\n",
       "      <td>0.000080</td>\n",
       "      <td>first_browser_Mobile Firefox</td>\n",
       "    </tr>\n",
       "    <tr>\n",
       "      <th>69</th>\n",
       "      <td>0.000075</td>\n",
       "      <td>first_browser_SiteKiosk</td>\n",
       "    </tr>\n",
       "    <tr>\n",
       "      <th>43</th>\n",
       "      <td>0.000073</td>\n",
       "      <td>first_browser_Camino</td>\n",
       "    </tr>\n",
       "    <tr>\n",
       "      <th>71</th>\n",
       "      <td>0.000066</td>\n",
       "      <td>first_browser_Sogou Explorer</td>\n",
       "    </tr>\n",
       "    <tr>\n",
       "      <th>9</th>\n",
       "      <td>0.000064</td>\n",
       "      <td>language_fi</td>\n",
       "    </tr>\n",
       "    <tr>\n",
       "      <th>53</th>\n",
       "      <td>0.000056</td>\n",
       "      <td>first_browser_IceWeasel</td>\n",
       "    </tr>\n",
       "    <tr>\n",
       "      <th>100</th>\n",
       "      <td>0.000054</td>\n",
       "      <td>first_affiliate_tracked_local ops</td>\n",
       "    </tr>\n",
       "    <tr>\n",
       "      <th>73</th>\n",
       "      <td>0.000051</td>\n",
       "      <td>first_browser_TenFourFox</td>\n",
       "    </tr>\n",
       "    <tr>\n",
       "      <th>22</th>\n",
       "      <td>0.000046</td>\n",
       "      <td>language_th</td>\n",
       "    </tr>\n",
       "    <tr>\n",
       "      <th>48</th>\n",
       "      <td>0.000036</td>\n",
       "      <td>first_browser_CoolNovo</td>\n",
       "    </tr>\n",
       "    <tr>\n",
       "      <th>41</th>\n",
       "      <td>0.000031</td>\n",
       "      <td>first_browser_Avant Browser</td>\n",
       "    </tr>\n",
       "    <tr>\n",
       "      <th>12</th>\n",
       "      <td>0.000030</td>\n",
       "      <td>language_is</td>\n",
       "    </tr>\n",
       "    <tr>\n",
       "      <th>63</th>\n",
       "      <td>0.000029</td>\n",
       "      <td>first_browser_Pale Moon</td>\n",
       "    </tr>\n",
       "    <tr>\n",
       "      <th>50</th>\n",
       "      <td>0.000026</td>\n",
       "      <td>first_browser_Googlebot</td>\n",
       "    </tr>\n",
       "    <tr>\n",
       "      <th>76</th>\n",
       "      <td>0.000024</td>\n",
       "      <td>first_browser_wOSBrowser</td>\n",
       "    </tr>\n",
       "    <tr>\n",
       "      <th>75</th>\n",
       "      <td>0.000024</td>\n",
       "      <td>first_browser_Yandex.Browser</td>\n",
       "    </tr>\n",
       "    <tr>\n",
       "      <th>52</th>\n",
       "      <td>0.000020</td>\n",
       "      <td>first_browser_IE Mobile</td>\n",
       "    </tr>\n",
       "    <tr>\n",
       "      <th>99</th>\n",
       "      <td>0.000015</td>\n",
       "      <td>affiliate_provider_yandex</td>\n",
       "    </tr>\n",
       "    <tr>\n",
       "      <th>11</th>\n",
       "      <td>0.000013</td>\n",
       "      <td>language_hu</td>\n",
       "    </tr>\n",
       "    <tr>\n",
       "      <th>60</th>\n",
       "      <td>0.000011</td>\n",
       "      <td>first_browser_NetNewsWire</td>\n",
       "    </tr>\n",
       "    <tr>\n",
       "      <th>72</th>\n",
       "      <td>0.000011</td>\n",
       "      <td>first_browser_Stainless</td>\n",
       "    </tr>\n",
       "    <tr>\n",
       "      <th>59</th>\n",
       "      <td>0.000008</td>\n",
       "      <td>first_browser_Mozilla</td>\n",
       "    </tr>\n",
       "    <tr>\n",
       "      <th>62</th>\n",
       "      <td>0.000005</td>\n",
       "      <td>first_browser_Opera Mini</td>\n",
       "    </tr>\n",
       "    <tr>\n",
       "      <th>86</th>\n",
       "      <td>0.000004</td>\n",
       "      <td>affiliate_provider_daum</td>\n",
       "    </tr>\n",
       "    <tr>\n",
       "      <th>74</th>\n",
       "      <td>0.000003</td>\n",
       "      <td>first_browser_TheWorld Browser</td>\n",
       "    </tr>\n",
       "    <tr>\n",
       "      <th>64</th>\n",
       "      <td>0.000000</td>\n",
       "      <td>first_browser_Palm Pre web browser</td>\n",
       "    </tr>\n",
       "    <tr>\n",
       "      <th>55</th>\n",
       "      <td>0.000000</td>\n",
       "      <td>first_browser_Kindle Browser</td>\n",
       "    </tr>\n",
       "    <tr>\n",
       "      <th>70</th>\n",
       "      <td>0.000000</td>\n",
       "      <td>first_browser_SlimBrowser</td>\n",
       "    </tr>\n",
       "    <tr>\n",
       "      <th>47</th>\n",
       "      <td>0.000000</td>\n",
       "      <td>first_browser_CometBird</td>\n",
       "    </tr>\n",
       "    <tr>\n",
       "      <th>112</th>\n",
       "      <td>0.000000</td>\n",
       "      <td>total_sessions_on_android</td>\n",
       "    </tr>\n",
       "  </tbody>\n",
       "</table>\n",
       "<p>114 rows × 2 columns</p>\n",
       "</div>"
      ],
      "text/plain": [
       "     importances                               features\n",
       "107     0.383984                                    age\n",
       "108     0.158588                         total_sessions\n",
       "109     0.071473                  total_sessions_on_mac\n",
       "110     0.059289              total_sessions_on_windows\n",
       "111     0.032232               total_sessions_on_iphone\n",
       "25      0.028921                 signup_method_facebook\n",
       "0       0.026714                          gender_FEMALE\n",
       "1       0.026662                            gender_MALE\n",
       "105     0.024019      first_affiliate_tracked_untracked\n",
       "102     0.014448            first_affiliate_tracked_omg\n",
       "49      0.011147                  first_browser_Firefox\n",
       "113     0.010891                         no_age_entered\n",
       "44      0.010722                   first_browser_Chrome\n",
       "35      0.008593      first_device_type_Windows Desktop\n",
       "66      0.008338                   first_browser_Safari\n",
       "32      0.008198          first_device_type_Mac Desktop\n",
       "104     0.006156  first_affiliate_tracked_tracked-other\n",
       "7       0.006125                            language_en\n",
       "58      0.005728            first_browser_Mobile Safari\n",
       "51      0.005322                       first_browser_IE\n",
       "81      0.004876            affiliate_channel_sem-brand\n",
       "82      0.004619        affiliate_channel_sem-non-brand\n",
       "91      0.004193              affiliate_provider_google\n",
       "83      0.003949                  affiliate_channel_seo\n",
       "79      0.003883                affiliate_channel_other\n",
       "37      0.003405               first_device_type_iPhone\n",
       "95      0.003147               affiliate_provider_other\n",
       "36      0.003056                 first_device_type_iPad\n",
       "28      0.003028                         signup_app_Web\n",
       "33      0.002919        first_device_type_Other/Unknown\n",
       "..           ...                                    ...\n",
       "57      0.000080           first_browser_Mobile Firefox\n",
       "69      0.000075                first_browser_SiteKiosk\n",
       "43      0.000073                   first_browser_Camino\n",
       "71      0.000066           first_browser_Sogou Explorer\n",
       "9       0.000064                            language_fi\n",
       "53      0.000056                first_browser_IceWeasel\n",
       "100     0.000054      first_affiliate_tracked_local ops\n",
       "73      0.000051               first_browser_TenFourFox\n",
       "22      0.000046                            language_th\n",
       "48      0.000036                 first_browser_CoolNovo\n",
       "41      0.000031            first_browser_Avant Browser\n",
       "12      0.000030                            language_is\n",
       "63      0.000029                first_browser_Pale Moon\n",
       "50      0.000026                first_browser_Googlebot\n",
       "76      0.000024               first_browser_wOSBrowser\n",
       "75      0.000024           first_browser_Yandex.Browser\n",
       "52      0.000020                first_browser_IE Mobile\n",
       "99      0.000015              affiliate_provider_yandex\n",
       "11      0.000013                            language_hu\n",
       "60      0.000011              first_browser_NetNewsWire\n",
       "72      0.000011                first_browser_Stainless\n",
       "59      0.000008                  first_browser_Mozilla\n",
       "62      0.000005               first_browser_Opera Mini\n",
       "86      0.000004                affiliate_provider_daum\n",
       "74      0.000003         first_browser_TheWorld Browser\n",
       "64      0.000000     first_browser_Palm Pre web browser\n",
       "55      0.000000           first_browser_Kindle Browser\n",
       "70      0.000000              first_browser_SlimBrowser\n",
       "47      0.000000                first_browser_CometBird\n",
       "112     0.000000              total_sessions_on_android\n",
       "\n",
       "[114 rows x 2 columns]"
      ]
     },
     "execution_count": 20,
     "metadata": {},
     "output_type": "execute_result"
    }
   ],
   "source": [
    "features = pd.DataFrame()\n",
    "features['importances'] = rf.feature_importances_\n",
    "features['features'] = users.columns\n",
    "features.sort_values('importances',ascending = False)"
   ]
  },
  {
   "cell_type": "markdown",
   "metadata": {},
   "source": [
    "## Naive Bayes"
   ]
  },
  {
   "cell_type": "markdown",
   "metadata": {},
   "source": [
    "### Gaussian"
   ]
  },
  {
   "cell_type": "code",
   "execution_count": 21,
   "metadata": {},
   "outputs": [
    {
     "name": "stdout",
     "output_type": "stream",
     "text": [
      "Accuracy: 0.386\n",
      "             precision    recall  f1-score   support\n",
      "\n",
      "          0       0.31      0.87      0.46      5294\n",
      "          1       0.77      0.18      0.29     12488\n",
      "\n",
      "avg / total       0.63      0.39      0.34     17782\n",
      "\n",
      "[[ 4614   680]\n",
      " [10230  2258]]\n"
     ]
    }
   ],
   "source": [
    "nb_g = naive_bayes.GaussianNB()\n",
    "nb_g.fit(xtrain, ytrain)\n",
    "\n",
    "print(\"Accuracy: %.3f\"% metrics.accuracy_score(ytest, nb_g.predict(xtest)))\n",
    "print(metrics.classification_report(ytest, nb_g.predict(xtest)))\n",
    "print(metrics.confusion_matrix(ytest,nb_g.predict(xtest)))"
   ]
  },
  {
   "cell_type": "markdown",
   "metadata": {},
   "source": [
    "### Bernoulli"
   ]
  },
  {
   "cell_type": "code",
   "execution_count": 22,
   "metadata": {},
   "outputs": [
    {
     "name": "stdout",
     "output_type": "stream",
     "text": [
      "Accuracy: 0.698\n",
      "             precision    recall  f1-score   support\n",
      "\n",
      "          0       0.38      0.02      0.04      5294\n",
      "          1       0.70      0.98      0.82     12488\n",
      "\n",
      "avg / total       0.61      0.70      0.59     17782\n",
      "\n",
      "[[  117  5177]\n",
      " [  190 12298]]\n"
     ]
    }
   ],
   "source": [
    "nb_b = naive_bayes.BernoulliNB()\n",
    "nb_b.fit(xtrain, ytrain)\n",
    "\n",
    "print(\"Accuracy: %.3f\"% metrics.accuracy_score(ytest, nb_b.predict(xtest)))\n",
    "print(metrics.classification_report(ytest, nb_b.predict(xtest)))\n",
    "print(metrics.confusion_matrix(ytest,nb_b.predict(xtest)))"
   ]
  },
  {
   "cell_type": "markdown",
   "metadata": {},
   "source": [
    "### Multinomial"
   ]
  },
  {
   "cell_type": "code",
   "execution_count": 34,
   "metadata": {},
   "outputs": [
    {
     "name": "stdout",
     "output_type": "stream",
     "text": [
      "Accuracy: 0.636\n",
      "             precision    recall  f1-score   support\n",
      "\n",
      "          0       0.32      0.20      0.24      5294\n",
      "          1       0.71      0.82      0.76     12488\n",
      "\n",
      "avg / total       0.59      0.64      0.61     17782\n",
      "\n",
      "[[ 1046  4248]\n",
      " [ 2232 10256]]\n"
     ]
    }
   ],
   "source": [
    "nb_m = naive_bayes.MultinomialNB()\n",
    "nb_m.fit(xtrain, ytrain)\n",
    "\n",
    "print(\"Accuracy: %.3f\"% metrics.accuracy_score(ytest, nb_m.predict(xtest)))\n",
    "print(metrics.classification_report(ytest, nb_m.predict(xtest)))\n",
    "print(metrics.confusion_matrix(ytest,nb_m.predict(xtest)))"
   ]
  },
  {
   "cell_type": "code",
   "execution_count": null,
   "metadata": {
    "collapsed": true
   },
   "outputs": [],
   "source": [
    "users"
   ]
  },
  {
   "cell_type": "code",
   "execution_count": 72,
   "metadata": {},
   "outputs": [
    {
     "data": {
      "image/png": "[encoded data removed]",
      "text/plain": [
       "<matplotlib.figure.Figure at 0x1a1f35ba20>"
      ]
     },
     "metadata": {},
     "output_type": "display_data"
    }
   ],
   "source": [
    "# What about ROC ? \n",
    "\n",
    "from sklearn.metrics import roc_curve, auc\n",
    "\n",
    "xtrain, xtest, ytrain, ytest = cross_validation.train_test_split(users, y, test_size=0.2, stratify = y, random_state=1234)\n",
    "\n",
    "lr_score=lr.predict_proba(xtest)[:,1]\n",
    "nb_m_score = nb_m.predict_proba(xtest)[:,1]\n",
    "nb_b_score = nb_b.predict_proba(xtest)[:,1]\n",
    "rf_score = rf.predict_proba(xtest)[:,1]\n",
    "knn_score = knn.predict_proba(xtest)[:,1]\n",
    "knn5_score = knn5.predict_proba(xtest)[:,1]\n",
    "#l_svm_score = l_svm.predict_proba(xtest)[:,1]\n",
    "\n",
    "lr_fpr, lr_tpr,_ = roc_curve(ytest, lr_score)\n",
    "nb_m_fpr, nb_m_tpr,_ = roc_curve(ytest, nb_m_score)\n",
    "nb_b_fpr, nb_b_tpr,_ = roc_curve(ytest, nb_b_score)\n",
    "rf_fpr, rf_tpr,_ = roc_curve(ytest, rf_score)\n",
    "knn_fpr, knn_tpr,_ = roc_curve(ytest, knn_score)\n",
    "knn5_fpr, knn5_tpr,_ = roc_curve(ytest, knn5_score)\n",
    "#l_svm_fpr, l_svm_tpr,_ = roc_curve(ytest, l_svm_score)\n",
    "#roc_auc = auc(fpr, tpr)\n",
    "\n",
    "plt.figure(figsize = (10,10))\n",
    "plt.subplot(1,1,1)\n",
    "# Plotting our Baseline..\n",
    "plt.plot([0,1],[0,1])\n",
    "\n",
    "plt.plot(lr_fpr,lr_tpr, label = 'LogisticRegression')\n",
    "plt.plot(nb_m_fpr,nb_m_tpr, label = 'NaiveBayes - Multinomial')\n",
    "plt.plot(nb_b_fpr,nb_b_tpr, label = 'NaiveBayes - Bernoulli')\n",
    "plt.plot(rf_fpr,rf_tpr, label = 'RandomForrests')\n",
    "plt.plot(knn_fpr,knn_tpr, label = 'KNN K = 16')\n",
    "plt.plot(knn5_fpr,knn5_tpr, label = 'KNN K=5')\n",
    "#plt.plot(l_svm_fpr,l_svm_tpr, label = 'SVM-Linear')\n",
    "\n",
    "plt.legend()\n",
    "plt.grid(True)\n",
    "plt.xlabel('FPR')\n",
    "plt.ylabel('TPR')\n",
    "\n",
    "plt.savefig('RocCurve')"
   ]
  },
  {
   "cell_type": "code",
   "execution_count": null,
   "metadata": {
    "collapsed": true
   },
   "outputs": [],
   "source": []
  }
 ],
 "metadata": {
  "kernelspec": {
   "display_name": "Python 3",
   "language": "python",
   "name": "python3"
  },
  "language_info": {
   "codemirror_mode": {
    "name": "ipython",
    "version": 3
   },
   "file_extension": ".py",
   "mimetype": "text/x-python",
   "name": "python",
   "nbconvert_exporter": "python",
   "pygments_lexer": "ipython3",
   "version": "3.6.3"
  },
  "toc": {
   "nav_menu": {},
   "number_sections": true,
   "sideBar": true,
   "skip_h1_title": false,
   "toc_cell": false,
   "toc_position": {},
   "toc_section_display": "block",
   "toc_window_display": false
  }
 },
 "nbformat": 4,
 "nbformat_minor": 2
}
