{
 "cells": [
  {
   "cell_type": "markdown",
   "metadata": {},
   "source": [
    "# Project 3: Part 3 Modeling"
   ]
  },
  {
   "cell_type": "code",
   "execution_count": 182,
   "metadata": {
    "collapsed": true,
    "scrolled": true
   },
   "outputs": [],
   "source": [
    "import pandas as pd\n",
    "import matplotlib.pyplot as plt\n",
    "from patsy import dmatrix\n",
    "import datetime as dt\n",
    "import numpy as np\n",
    "import pickle\n",
    "from tqdm import tqdm\n",
    "\n",
    "%matplotlib inline\n",
    "\n",
    "from sklearn import metrics\n",
    "\n",
    "import seaborn as sns\n",
    "from sklearn.cross_validation import train_test_split\n",
    "from sklearn import preprocessing\n",
    "from sklearn.model_selection import cross_val_score\n",
    "from sklearn import cross_validation"
   ]
  },
  {
   "cell_type": "code",
   "execution_count": 183,
   "metadata": {
    "collapsed": true
   },
   "outputs": [],
   "source": [
    "from sklearn.tree import DecisionTreeClassifier\n",
    "from sklearn.svm import LinearSVC\n",
    "from sklearn.svm import SVC\n",
    "from sklearn.ensemble import RandomForestClassifier\n",
    "from sklearn.linear_model import LogisticRegression\n",
    "from sklearn import naive_bayes\n",
    "from sklearn.neighbors import KNeighborsClassifier"
   ]
  },
  {
   "cell_type": "code",
   "execution_count": 184,
   "metadata": {
    "collapsed": true
   },
   "outputs": [],
   "source": [
    "with open(\"users.pkl\", 'rb') as picklefile: \n",
    "    users = pickle.load(picklefile)"
   ]
  },
  {
   "cell_type": "code",
   "execution_count": 185,
   "metadata": {
    "collapsed": true
   },
   "outputs": [],
   "source": [
    "y = users['US']\n",
    "users = users.drop('US', axis = 1)"
   ]
  },
  {
   "cell_type": "code",
   "execution_count": 186,
   "metadata": {
    "collapsed": true
   },
   "outputs": [],
   "source": [
    "users = users.drop('id',axis = 1)"
   ]
  },
  {
   "cell_type": "code",
   "execution_count": 187,
   "metadata": {
    "scrolled": true
   },
   "outputs": [
    {
     "data": {
      "text/plain": [
       "(88908, 17)"
      ]
     },
     "execution_count": 187,
     "metadata": {},
     "output_type": "execute_result"
    }
   ],
   "source": [
    "users.shape"
   ]
  },
  {
   "cell_type": "code",
   "execution_count": 188,
   "metadata": {},
   "outputs": [
    {
     "data": {
      "text/plain": [
       "0    1\n",
       "1    0\n",
       "2    1\n",
       "3    1\n",
       "4    1\n",
       "Name: US, dtype: uint8"
      ]
     },
     "execution_count": 188,
     "metadata": {},
     "output_type": "execute_result"
    }
   ],
   "source": [
    "y.head()"
   ]
  },
  {
   "cell_type": "code",
   "execution_count": 189,
   "metadata": {
    "collapsed": true
   },
   "outputs": [],
   "source": [
    "xtrain, xtest, ytrain, ytest = train_test_split(users.iloc[:,:], y, test_size=0.2,stratify = y)#, random_state = 1234)"
   ]
  },
  {
   "cell_type": "code",
   "execution_count": 190,
   "metadata": {
    "scrolled": true
   },
   "outputs": [
    {
     "data": {
      "text/html": [
       "<div>\n",
       "<style>\n",
       "    .dataframe thead tr:only-child th {\n",
       "        text-align: right;\n",
       "    }\n",
       "\n",
       "    .dataframe thead th {\n",
       "        text-align: left;\n",
       "    }\n",
       "\n",
       "    .dataframe tbody tr th {\n",
       "        vertical-align: top;\n",
       "    }\n",
       "</style>\n",
       "<table border=\"1\" class=\"dataframe\">\n",
       "  <thead>\n",
       "    <tr style=\"text-align: right;\">\n",
       "      <th></th>\n",
       "      <th>gender_FEMALE</th>\n",
       "      <th>gender_MALE</th>\n",
       "      <th>gender_OTHER</th>\n",
       "      <th>signup_method_facebook</th>\n",
       "      <th>signup_method_google</th>\n",
       "      <th>signup_app_Moweb</th>\n",
       "      <th>signup_app_Web</th>\n",
       "      <th>signup_app_iOS</th>\n",
       "      <th>diff_account_to_first_active</th>\n",
       "      <th>diff_account_to_first_booking</th>\n",
       "      <th>age</th>\n",
       "      <th>total_sessions</th>\n",
       "      <th>total_sessions_on_mac</th>\n",
       "      <th>total_sessions_on_windows</th>\n",
       "      <th>total_sessions_on_iphone</th>\n",
       "      <th>total_sessions_on_android</th>\n",
       "      <th>no_age_entered</th>\n",
       "    </tr>\n",
       "  </thead>\n",
       "  <tbody>\n",
       "    <tr>\n",
       "      <th>10990</th>\n",
       "      <td>0</td>\n",
       "      <td>0</td>\n",
       "      <td>0</td>\n",
       "      <td>0</td>\n",
       "      <td>0</td>\n",
       "      <td>0</td>\n",
       "      <td>1</td>\n",
       "      <td>0</td>\n",
       "      <td>1</td>\n",
       "      <td>5</td>\n",
       "      <td>26.0</td>\n",
       "      <td>0.0</td>\n",
       "      <td>0.0</td>\n",
       "      <td>0.0</td>\n",
       "      <td>0.0</td>\n",
       "      <td>0.0</td>\n",
       "      <td>0</td>\n",
       "    </tr>\n",
       "    <tr>\n",
       "      <th>50991</th>\n",
       "      <td>0</td>\n",
       "      <td>0</td>\n",
       "      <td>0</td>\n",
       "      <td>0</td>\n",
       "      <td>0</td>\n",
       "      <td>0</td>\n",
       "      <td>1</td>\n",
       "      <td>0</td>\n",
       "      <td>1</td>\n",
       "      <td>1</td>\n",
       "      <td>105.0</td>\n",
       "      <td>0.0</td>\n",
       "      <td>0.0</td>\n",
       "      <td>0.0</td>\n",
       "      <td>0.0</td>\n",
       "      <td>0.0</td>\n",
       "      <td>0</td>\n",
       "    </tr>\n",
       "    <tr>\n",
       "      <th>22707</th>\n",
       "      <td>0</td>\n",
       "      <td>1</td>\n",
       "      <td>0</td>\n",
       "      <td>0</td>\n",
       "      <td>0</td>\n",
       "      <td>0</td>\n",
       "      <td>1</td>\n",
       "      <td>0</td>\n",
       "      <td>1</td>\n",
       "      <td>0</td>\n",
       "      <td>31.0</td>\n",
       "      <td>0.0</td>\n",
       "      <td>0.0</td>\n",
       "      <td>0.0</td>\n",
       "      <td>0.0</td>\n",
       "      <td>0.0</td>\n",
       "      <td>0</td>\n",
       "    </tr>\n",
       "    <tr>\n",
       "      <th>32241</th>\n",
       "      <td>1</td>\n",
       "      <td>0</td>\n",
       "      <td>0</td>\n",
       "      <td>0</td>\n",
       "      <td>0</td>\n",
       "      <td>0</td>\n",
       "      <td>1</td>\n",
       "      <td>0</td>\n",
       "      <td>1</td>\n",
       "      <td>48</td>\n",
       "      <td>31.0</td>\n",
       "      <td>0.0</td>\n",
       "      <td>0.0</td>\n",
       "      <td>0.0</td>\n",
       "      <td>0.0</td>\n",
       "      <td>0.0</td>\n",
       "      <td>0</td>\n",
       "    </tr>\n",
       "    <tr>\n",
       "      <th>79446</th>\n",
       "      <td>1</td>\n",
       "      <td>0</td>\n",
       "      <td>0</td>\n",
       "      <td>0</td>\n",
       "      <td>0</td>\n",
       "      <td>0</td>\n",
       "      <td>1</td>\n",
       "      <td>0</td>\n",
       "      <td>1</td>\n",
       "      <td>2</td>\n",
       "      <td>35.0</td>\n",
       "      <td>10.0</td>\n",
       "      <td>10.0</td>\n",
       "      <td>0.0</td>\n",
       "      <td>0.0</td>\n",
       "      <td>0.0</td>\n",
       "      <td>0</td>\n",
       "    </tr>\n",
       "  </tbody>\n",
       "</table>\n",
       "</div>"
      ],
      "text/plain": [
       "       gender_FEMALE  gender_MALE  gender_OTHER  signup_method_facebook  \\\n",
       "10990              0            0             0                       0   \n",
       "50991              0            0             0                       0   \n",
       "22707              0            1             0                       0   \n",
       "32241              1            0             0                       0   \n",
       "79446              1            0             0                       0   \n",
       "\n",
       "       signup_method_google  signup_app_Moweb  signup_app_Web  signup_app_iOS  \\\n",
       "10990                     0                 0               1               0   \n",
       "50991                     0                 0               1               0   \n",
       "22707                     0                 0               1               0   \n",
       "32241                     0                 0               1               0   \n",
       "79446                     0                 0               1               0   \n",
       "\n",
       "       diff_account_to_first_active  diff_account_to_first_booking    age  \\\n",
       "10990                             1                              5   26.0   \n",
       "50991                             1                              1  105.0   \n",
       "22707                             1                              0   31.0   \n",
       "32241                             1                             48   31.0   \n",
       "79446                             1                              2   35.0   \n",
       "\n",
       "       total_sessions  total_sessions_on_mac  total_sessions_on_windows  \\\n",
       "10990             0.0                    0.0                        0.0   \n",
       "50991             0.0                    0.0                        0.0   \n",
       "22707             0.0                    0.0                        0.0   \n",
       "32241             0.0                    0.0                        0.0   \n",
       "79446            10.0                   10.0                        0.0   \n",
       "\n",
       "       total_sessions_on_iphone  total_sessions_on_android  no_age_entered  \n",
       "10990                       0.0                        0.0               0  \n",
       "50991                       0.0                        0.0               0  \n",
       "22707                       0.0                        0.0               0  \n",
       "32241                       0.0                        0.0               0  \n",
       "79446                       0.0                        0.0               0  "
      ]
     },
     "execution_count": 190,
     "metadata": {},
     "output_type": "execute_result"
    }
   ],
   "source": [
    "xtrain.head()"
   ]
  },
  {
   "cell_type": "markdown",
   "metadata": {},
   "source": [
    "## KNN"
   ]
  },
  {
   "cell_type": "code",
   "execution_count": 191,
   "metadata": {
    "collapsed": true
   },
   "outputs": [],
   "source": [
    "normalizer = preprocessing.Normalizer()\n",
    "users_norm = normalizer.fit_transform(users)"
   ]
  },
  {
   "cell_type": "code",
   "execution_count": 192,
   "metadata": {
    "collapsed": true
   },
   "outputs": [],
   "source": [
    "xtrain_norm, xtest_norm, ytrain_norm, ytest_norm = train_test_split(users_norm, y, test_size=0.2,stratify = y)#, random_state = 1234)"
   ]
  },
  {
   "cell_type": "code",
   "execution_count": 119,
   "metadata": {},
   "outputs": [
    {
     "name": "stderr",
     "output_type": "stream",
     "text": [
      "\r",
      "  0%|          | 0/30 [00:00<?, ?it/s]"
     ]
    },
    {
     "ename": "KeyboardInterrupt",
     "evalue": "",
     "output_type": "error",
     "traceback": [
      "\u001b[0;31m---------------------------------------------------------------------------\u001b[0m",
      "\u001b[0;31mKeyboardInterrupt\u001b[0m                         Traceback (most recent call last)",
      "\u001b[0;32m<ipython-input-119-a66a349636b3>\u001b[0m in \u001b[0;36m<module>\u001b[0;34m()\u001b[0m\n\u001b[1;32m      4\u001b[0m     \u001b[0mknn\u001b[0m \u001b[0;34m=\u001b[0m \u001b[0mKNeighborsClassifier\u001b[0m\u001b[0;34m(\u001b[0m\u001b[0mn_neighbors\u001b[0m \u001b[0;34m=\u001b[0m \u001b[0mk\u001b[0m\u001b[0;34m)\u001b[0m\u001b[0;34m\u001b[0m\u001b[0m\n\u001b[1;32m      5\u001b[0m     \u001b[0mknn\u001b[0m\u001b[0;34m.\u001b[0m\u001b[0mfit\u001b[0m\u001b[0;34m(\u001b[0m\u001b[0mxtrain_norm\u001b[0m\u001b[0;34m,\u001b[0m \u001b[0mytrain_norm\u001b[0m\u001b[0;34m)\u001b[0m\u001b[0;34m\u001b[0m\u001b[0m\n\u001b[0;32m----> 6\u001b[0;31m     \u001b[0my_score\u001b[0m \u001b[0;34m=\u001b[0m \u001b[0mknn\u001b[0m\u001b[0;34m.\u001b[0m\u001b[0mpredict_proba\u001b[0m\u001b[0;34m(\u001b[0m\u001b[0mxtest_norm\u001b[0m\u001b[0;34m)\u001b[0m\u001b[0;34m[\u001b[0m\u001b[0;34m:\u001b[0m\u001b[0;34m,\u001b[0m\u001b[0;36m1\u001b[0m\u001b[0;34m]\u001b[0m\u001b[0;34m\u001b[0m\u001b[0m\n\u001b[0m\u001b[1;32m      7\u001b[0m     \u001b[0mfpr\u001b[0m\u001b[0;34m,\u001b[0m \u001b[0mtpr\u001b[0m\u001b[0;34m,\u001b[0m\u001b[0m_\u001b[0m \u001b[0;34m=\u001b[0m \u001b[0mroc_curve\u001b[0m\u001b[0;34m(\u001b[0m\u001b[0mytest_norm\u001b[0m\u001b[0;34m,\u001b[0m \u001b[0my_score\u001b[0m\u001b[0;34m)\u001b[0m\u001b[0;34m\u001b[0m\u001b[0m\n\u001b[1;32m      8\u001b[0m     \u001b[0mroc_auc\u001b[0m \u001b[0;34m=\u001b[0m \u001b[0mauc\u001b[0m\u001b[0;34m(\u001b[0m\u001b[0mfpr\u001b[0m\u001b[0;34m,\u001b[0m \u001b[0mtpr\u001b[0m\u001b[0;34m)\u001b[0m\u001b[0;34m\u001b[0m\u001b[0m\n",
      "\u001b[0;32m~/anaconda3/lib/python3.6/site-packages/sklearn/neighbors/classification.py\u001b[0m in \u001b[0;36mpredict_proba\u001b[0;34m(self, X)\u001b[0m\n\u001b[1;32m    188\u001b[0m         \u001b[0mX\u001b[0m \u001b[0;34m=\u001b[0m \u001b[0mcheck_array\u001b[0m\u001b[0;34m(\u001b[0m\u001b[0mX\u001b[0m\u001b[0;34m,\u001b[0m \u001b[0maccept_sparse\u001b[0m\u001b[0;34m=\u001b[0m\u001b[0;34m'csr'\u001b[0m\u001b[0;34m)\u001b[0m\u001b[0;34m\u001b[0m\u001b[0m\n\u001b[1;32m    189\u001b[0m \u001b[0;34m\u001b[0m\u001b[0m\n\u001b[0;32m--> 190\u001b[0;31m         \u001b[0mneigh_dist\u001b[0m\u001b[0;34m,\u001b[0m \u001b[0mneigh_ind\u001b[0m \u001b[0;34m=\u001b[0m \u001b[0mself\u001b[0m\u001b[0;34m.\u001b[0m\u001b[0mkneighbors\u001b[0m\u001b[0;34m(\u001b[0m\u001b[0mX\u001b[0m\u001b[0;34m)\u001b[0m\u001b[0;34m\u001b[0m\u001b[0m\n\u001b[0m\u001b[1;32m    191\u001b[0m \u001b[0;34m\u001b[0m\u001b[0m\n\u001b[1;32m    192\u001b[0m         \u001b[0mclasses_\u001b[0m \u001b[0;34m=\u001b[0m \u001b[0mself\u001b[0m\u001b[0;34m.\u001b[0m\u001b[0mclasses_\u001b[0m\u001b[0;34m\u001b[0m\u001b[0m\n",
      "\u001b[0;32m~/anaconda3/lib/python3.6/site-packages/sklearn/neighbors/base.py\u001b[0m in \u001b[0;36mkneighbors\u001b[0;34m(self, X, n_neighbors, return_distance)\u001b[0m\n\u001b[1;32m    383\u001b[0m                 delayed(self._tree.query, check_pickle=False)(\n\u001b[1;32m    384\u001b[0m                     X[s], n_neighbors, return_distance)\n\u001b[0;32m--> 385\u001b[0;31m                 \u001b[0;32mfor\u001b[0m \u001b[0ms\u001b[0m \u001b[0;32min\u001b[0m \u001b[0mgen_even_slices\u001b[0m\u001b[0;34m(\u001b[0m\u001b[0mX\u001b[0m\u001b[0;34m.\u001b[0m\u001b[0mshape\u001b[0m\u001b[0;34m[\u001b[0m\u001b[0;36m0\u001b[0m\u001b[0;34m]\u001b[0m\u001b[0;34m,\u001b[0m \u001b[0mn_jobs\u001b[0m\u001b[0;34m)\u001b[0m\u001b[0;34m\u001b[0m\u001b[0m\n\u001b[0m\u001b[1;32m    386\u001b[0m             )\n\u001b[1;32m    387\u001b[0m             \u001b[0;32mif\u001b[0m \u001b[0mreturn_distance\u001b[0m\u001b[0;34m:\u001b[0m\u001b[0;34m\u001b[0m\u001b[0m\n",
      "\u001b[0;32m~/anaconda3/lib/python3.6/site-packages/sklearn/externals/joblib/parallel.py\u001b[0m in \u001b[0;36m__call__\u001b[0;34m(self, iterable)\u001b[0m\n\u001b[1;32m    777\u001b[0m             \u001b[0;31m# was dispatched. In particular this covers the edge\u001b[0m\u001b[0;34m\u001b[0m\u001b[0;34m\u001b[0m\u001b[0m\n\u001b[1;32m    778\u001b[0m             \u001b[0;31m# case of Parallel used with an exhausted iterator.\u001b[0m\u001b[0;34m\u001b[0m\u001b[0;34m\u001b[0m\u001b[0m\n\u001b[0;32m--> 779\u001b[0;31m             \u001b[0;32mwhile\u001b[0m \u001b[0mself\u001b[0m\u001b[0;34m.\u001b[0m\u001b[0mdispatch_one_batch\u001b[0m\u001b[0;34m(\u001b[0m\u001b[0miterator\u001b[0m\u001b[0;34m)\u001b[0m\u001b[0;34m:\u001b[0m\u001b[0;34m\u001b[0m\u001b[0m\n\u001b[0m\u001b[1;32m    780\u001b[0m                 \u001b[0mself\u001b[0m\u001b[0;34m.\u001b[0m\u001b[0m_iterating\u001b[0m \u001b[0;34m=\u001b[0m \u001b[0;32mTrue\u001b[0m\u001b[0;34m\u001b[0m\u001b[0m\n\u001b[1;32m    781\u001b[0m             \u001b[0;32melse\u001b[0m\u001b[0;34m:\u001b[0m\u001b[0;34m\u001b[0m\u001b[0m\n",
      "\u001b[0;32m~/anaconda3/lib/python3.6/site-packages/sklearn/externals/joblib/parallel.py\u001b[0m in \u001b[0;36mdispatch_one_batch\u001b[0;34m(self, iterator)\u001b[0m\n\u001b[1;32m    623\u001b[0m                 \u001b[0;32mreturn\u001b[0m \u001b[0;32mFalse\u001b[0m\u001b[0;34m\u001b[0m\u001b[0m\n\u001b[1;32m    624\u001b[0m             \u001b[0;32melse\u001b[0m\u001b[0;34m:\u001b[0m\u001b[0;34m\u001b[0m\u001b[0m\n\u001b[0;32m--> 625\u001b[0;31m                 \u001b[0mself\u001b[0m\u001b[0;34m.\u001b[0m\u001b[0m_dispatch\u001b[0m\u001b[0;34m(\u001b[0m\u001b[0mtasks\u001b[0m\u001b[0;34m)\u001b[0m\u001b[0;34m\u001b[0m\u001b[0m\n\u001b[0m\u001b[1;32m    626\u001b[0m                 \u001b[0;32mreturn\u001b[0m \u001b[0;32mTrue\u001b[0m\u001b[0;34m\u001b[0m\u001b[0m\n\u001b[1;32m    627\u001b[0m \u001b[0;34m\u001b[0m\u001b[0m\n",
      "\u001b[0;32m~/anaconda3/lib/python3.6/site-packages/sklearn/externals/joblib/parallel.py\u001b[0m in \u001b[0;36m_dispatch\u001b[0;34m(self, batch)\u001b[0m\n\u001b[1;32m    586\u001b[0m         \u001b[0mdispatch_timestamp\u001b[0m \u001b[0;34m=\u001b[0m \u001b[0mtime\u001b[0m\u001b[0;34m.\u001b[0m\u001b[0mtime\u001b[0m\u001b[0;34m(\u001b[0m\u001b[0;34m)\u001b[0m\u001b[0;34m\u001b[0m\u001b[0m\n\u001b[1;32m    587\u001b[0m         \u001b[0mcb\u001b[0m \u001b[0;34m=\u001b[0m \u001b[0mBatchCompletionCallBack\u001b[0m\u001b[0;34m(\u001b[0m\u001b[0mdispatch_timestamp\u001b[0m\u001b[0;34m,\u001b[0m \u001b[0mlen\u001b[0m\u001b[0;34m(\u001b[0m\u001b[0mbatch\u001b[0m\u001b[0;34m)\u001b[0m\u001b[0;34m,\u001b[0m \u001b[0mself\u001b[0m\u001b[0;34m)\u001b[0m\u001b[0;34m\u001b[0m\u001b[0m\n\u001b[0;32m--> 588\u001b[0;31m         \u001b[0mjob\u001b[0m \u001b[0;34m=\u001b[0m \u001b[0mself\u001b[0m\u001b[0;34m.\u001b[0m\u001b[0m_backend\u001b[0m\u001b[0;34m.\u001b[0m\u001b[0mapply_async\u001b[0m\u001b[0;34m(\u001b[0m\u001b[0mbatch\u001b[0m\u001b[0;34m,\u001b[0m \u001b[0mcallback\u001b[0m\u001b[0;34m=\u001b[0m\u001b[0mcb\u001b[0m\u001b[0;34m)\u001b[0m\u001b[0;34m\u001b[0m\u001b[0m\n\u001b[0m\u001b[1;32m    589\u001b[0m         \u001b[0mself\u001b[0m\u001b[0;34m.\u001b[0m\u001b[0m_jobs\u001b[0m\u001b[0;34m.\u001b[0m\u001b[0mappend\u001b[0m\u001b[0;34m(\u001b[0m\u001b[0mjob\u001b[0m\u001b[0;34m)\u001b[0m\u001b[0;34m\u001b[0m\u001b[0m\n\u001b[1;32m    590\u001b[0m \u001b[0;34m\u001b[0m\u001b[0m\n",
      "\u001b[0;32m~/anaconda3/lib/python3.6/site-packages/sklearn/externals/joblib/_parallel_backends.py\u001b[0m in \u001b[0;36mapply_async\u001b[0;34m(self, func, callback)\u001b[0m\n\u001b[1;32m    109\u001b[0m     \u001b[0;32mdef\u001b[0m \u001b[0mapply_async\u001b[0m\u001b[0;34m(\u001b[0m\u001b[0mself\u001b[0m\u001b[0;34m,\u001b[0m \u001b[0mfunc\u001b[0m\u001b[0;34m,\u001b[0m \u001b[0mcallback\u001b[0m\u001b[0;34m=\u001b[0m\u001b[0;32mNone\u001b[0m\u001b[0;34m)\u001b[0m\u001b[0;34m:\u001b[0m\u001b[0;34m\u001b[0m\u001b[0m\n\u001b[1;32m    110\u001b[0m         \u001b[0;34m\"\"\"Schedule a func to be run\"\"\"\u001b[0m\u001b[0;34m\u001b[0m\u001b[0m\n\u001b[0;32m--> 111\u001b[0;31m         \u001b[0mresult\u001b[0m \u001b[0;34m=\u001b[0m \u001b[0mImmediateResult\u001b[0m\u001b[0;34m(\u001b[0m\u001b[0mfunc\u001b[0m\u001b[0;34m)\u001b[0m\u001b[0;34m\u001b[0m\u001b[0m\n\u001b[0m\u001b[1;32m    112\u001b[0m         \u001b[0;32mif\u001b[0m \u001b[0mcallback\u001b[0m\u001b[0;34m:\u001b[0m\u001b[0;34m\u001b[0m\u001b[0m\n\u001b[1;32m    113\u001b[0m             \u001b[0mcallback\u001b[0m\u001b[0;34m(\u001b[0m\u001b[0mresult\u001b[0m\u001b[0;34m)\u001b[0m\u001b[0;34m\u001b[0m\u001b[0m\n",
      "\u001b[0;32m~/anaconda3/lib/python3.6/site-packages/sklearn/externals/joblib/_parallel_backends.py\u001b[0m in \u001b[0;36m__init__\u001b[0;34m(self, batch)\u001b[0m\n\u001b[1;32m    330\u001b[0m         \u001b[0;31m# Don't delay the application, to avoid keeping the input\u001b[0m\u001b[0;34m\u001b[0m\u001b[0;34m\u001b[0m\u001b[0m\n\u001b[1;32m    331\u001b[0m         \u001b[0;31m# arguments in memory\u001b[0m\u001b[0;34m\u001b[0m\u001b[0;34m\u001b[0m\u001b[0m\n\u001b[0;32m--> 332\u001b[0;31m         \u001b[0mself\u001b[0m\u001b[0;34m.\u001b[0m\u001b[0mresults\u001b[0m \u001b[0;34m=\u001b[0m \u001b[0mbatch\u001b[0m\u001b[0;34m(\u001b[0m\u001b[0;34m)\u001b[0m\u001b[0;34m\u001b[0m\u001b[0m\n\u001b[0m\u001b[1;32m    333\u001b[0m \u001b[0;34m\u001b[0m\u001b[0m\n\u001b[1;32m    334\u001b[0m     \u001b[0;32mdef\u001b[0m \u001b[0mget\u001b[0m\u001b[0;34m(\u001b[0m\u001b[0mself\u001b[0m\u001b[0;34m)\u001b[0m\u001b[0;34m:\u001b[0m\u001b[0;34m\u001b[0m\u001b[0m\n",
      "\u001b[0;32m~/anaconda3/lib/python3.6/site-packages/sklearn/externals/joblib/parallel.py\u001b[0m in \u001b[0;36m__call__\u001b[0;34m(self)\u001b[0m\n\u001b[1;32m    129\u001b[0m \u001b[0;34m\u001b[0m\u001b[0m\n\u001b[1;32m    130\u001b[0m     \u001b[0;32mdef\u001b[0m \u001b[0m__call__\u001b[0m\u001b[0;34m(\u001b[0m\u001b[0mself\u001b[0m\u001b[0;34m)\u001b[0m\u001b[0;34m:\u001b[0m\u001b[0;34m\u001b[0m\u001b[0m\n\u001b[0;32m--> 131\u001b[0;31m         \u001b[0;32mreturn\u001b[0m \u001b[0;34m[\u001b[0m\u001b[0mfunc\u001b[0m\u001b[0;34m(\u001b[0m\u001b[0;34m*\u001b[0m\u001b[0margs\u001b[0m\u001b[0;34m,\u001b[0m \u001b[0;34m**\u001b[0m\u001b[0mkwargs\u001b[0m\u001b[0;34m)\u001b[0m \u001b[0;32mfor\u001b[0m \u001b[0mfunc\u001b[0m\u001b[0;34m,\u001b[0m \u001b[0margs\u001b[0m\u001b[0;34m,\u001b[0m \u001b[0mkwargs\u001b[0m \u001b[0;32min\u001b[0m \u001b[0mself\u001b[0m\u001b[0;34m.\u001b[0m\u001b[0mitems\u001b[0m\u001b[0;34m]\u001b[0m\u001b[0;34m\u001b[0m\u001b[0m\n\u001b[0m\u001b[1;32m    132\u001b[0m \u001b[0;34m\u001b[0m\u001b[0m\n\u001b[1;32m    133\u001b[0m     \u001b[0;32mdef\u001b[0m \u001b[0m__len__\u001b[0m\u001b[0;34m(\u001b[0m\u001b[0mself\u001b[0m\u001b[0;34m)\u001b[0m\u001b[0;34m:\u001b[0m\u001b[0;34m\u001b[0m\u001b[0m\n",
      "\u001b[0;32m~/anaconda3/lib/python3.6/site-packages/sklearn/externals/joblib/parallel.py\u001b[0m in \u001b[0;36m<listcomp>\u001b[0;34m(.0)\u001b[0m\n\u001b[1;32m    129\u001b[0m \u001b[0;34m\u001b[0m\u001b[0m\n\u001b[1;32m    130\u001b[0m     \u001b[0;32mdef\u001b[0m \u001b[0m__call__\u001b[0m\u001b[0;34m(\u001b[0m\u001b[0mself\u001b[0m\u001b[0;34m)\u001b[0m\u001b[0;34m:\u001b[0m\u001b[0;34m\u001b[0m\u001b[0m\n\u001b[0;32m--> 131\u001b[0;31m         \u001b[0;32mreturn\u001b[0m \u001b[0;34m[\u001b[0m\u001b[0mfunc\u001b[0m\u001b[0;34m(\u001b[0m\u001b[0;34m*\u001b[0m\u001b[0margs\u001b[0m\u001b[0;34m,\u001b[0m \u001b[0;34m**\u001b[0m\u001b[0mkwargs\u001b[0m\u001b[0;34m)\u001b[0m \u001b[0;32mfor\u001b[0m \u001b[0mfunc\u001b[0m\u001b[0;34m,\u001b[0m \u001b[0margs\u001b[0m\u001b[0;34m,\u001b[0m \u001b[0mkwargs\u001b[0m \u001b[0;32min\u001b[0m \u001b[0mself\u001b[0m\u001b[0;34m.\u001b[0m\u001b[0mitems\u001b[0m\u001b[0;34m]\u001b[0m\u001b[0;34m\u001b[0m\u001b[0m\n\u001b[0m\u001b[1;32m    132\u001b[0m \u001b[0;34m\u001b[0m\u001b[0m\n\u001b[1;32m    133\u001b[0m     \u001b[0;32mdef\u001b[0m \u001b[0m__len__\u001b[0m\u001b[0;34m(\u001b[0m\u001b[0mself\u001b[0m\u001b[0;34m)\u001b[0m\u001b[0;34m:\u001b[0m\u001b[0;34m\u001b[0m\u001b[0m\n",
      "\u001b[0;31mKeyboardInterrupt\u001b[0m: "
     ]
    }
   ],
   "source": [
    "k_range = list(range(1,31))\n",
    "k_auc = []\n",
    "for k in tqdm(k_range):\n",
    "    knn = KNeighborsClassifier(n_neighbors = k)\n",
    "    knn.fit(xtrain_norm, ytrain_norm)\n",
    "    y_score = knn.predict_proba(xtest_norm)[:,1]\n",
    "    fpr, tpr,_ = roc_curve(ytest_norm, y_score)\n",
    "    roc_auc = auc(fpr, tpr)\n",
    "    k_auc.append(roc_auc)\n",
    "print(k_auc)"
   ]
  },
  {
   "cell_type": "code",
   "execution_count": 63,
   "metadata": {},
   "outputs": [
    {
     "data": {
      "image/png": "[encoded data removed]",
      "text/plain": [
       "<matplotlib.figure.Figure at 0x1a1f3450b8>"
      ]
     },
     "metadata": {},
     "output_type": "display_data"
    }
   ],
   "source": [
    "plt.plot(k_range, k_auc)\n",
    "plt.savefig('knn_k_auc')"
   ]
  },
  {
   "cell_type": "code",
   "execution_count": 61,
   "metadata": {},
   "outputs": [
    {
     "data": {
      "text/plain": [
       "15"
      ]
     },
     "execution_count": 61,
     "metadata": {},
     "output_type": "execute_result"
    }
   ],
   "source": [
    "np.argmax(np.array(k_auc))"
   ]
  },
  {
   "cell_type": "code",
   "execution_count": 193,
   "metadata": {},
   "outputs": [
    {
     "name": "stdout",
     "output_type": "stream",
     "text": [
      "Accuracy: 0.676\n",
      "             precision    recall  f1-score   support\n",
      "\n",
      "          0       0.34      0.09      0.15      5307\n",
      "          1       0.71      0.92      0.80     12475\n",
      "\n",
      "avg / total       0.60      0.68      0.60     17782\n",
      "\n",
      "[[  497  4810]\n",
      " [  959 11516]]\n"
     ]
    }
   ],
   "source": [
    "knn = KNeighborsClassifier(n_neighbors=16)\n",
    "knn.fit(xtrain_norm, ytrain_norm)\n",
    "y_pred = knn.predict(xtest_norm)\n",
    "\n",
    "print(\"Accuracy: %.3f\"% metrics.accuracy_score(ytest_norm, knn.predict(xtest_norm)))\n",
    "print(metrics.classification_report(ytest_norm, knn.predict(xtest_norm)))\n",
    "print(metrics.confusion_matrix(ytest_norm,knn.predict(xtest_norm)))"
   ]
  },
  {
   "cell_type": "code",
   "execution_count": 194,
   "metadata": {},
   "outputs": [
    {
     "name": "stdout",
     "output_type": "stream",
     "text": [
      "Accuracy: 0.645\n",
      "             precision    recall  f1-score   support\n",
      "\n",
      "          0       0.33      0.18      0.23      5307\n",
      "          1       0.71      0.84      0.77     12475\n",
      "\n",
      "avg / total       0.59      0.65      0.61     17782\n",
      "\n",
      "[[  947  4360]\n",
      " [ 1950 10525]]\n"
     ]
    }
   ],
   "source": [
    "knn5 = KNeighborsClassifier(n_neighbors=5)\n",
    "knn5.fit(xtrain_norm, ytrain_norm)\n",
    "y_pred = knn5.predict(xtest_norm)\n",
    "\n",
    "print(\"Accuracy: %.3f\"% metrics.accuracy_score(ytest_norm, knn5.predict(xtest_norm)))\n",
    "print(metrics.classification_report(ytest_norm, knn5.predict(xtest_norm)))\n",
    "print(metrics.confusion_matrix(ytest_norm,knn5.predict(xtest_norm)))"
   ]
  },
  {
   "cell_type": "markdown",
   "metadata": {},
   "source": [
    "## SVMs"
   ]
  },
  {
   "cell_type": "markdown",
   "metadata": {},
   "source": [
    "### Linear"
   ]
  },
  {
   "cell_type": "code",
   "execution_count": 29,
   "metadata": {},
   "outputs": [
    {
     "name": "stdout",
     "output_type": "stream",
     "text": [
      "Accuracy: 0.702\n"
     ]
    },
    {
     "name": "stderr",
     "output_type": "stream",
     "text": [
      "/Users/emilygeller/anaconda3/lib/python3.6/site-packages/sklearn/metrics/classification.py:1135: UndefinedMetricWarning: Precision and F-score are ill-defined and being set to 0.0 in labels with no predicted samples.\n",
      "  'precision', 'predicted', average, warn_for)\n"
     ]
    },
    {
     "name": "stdout",
     "output_type": "stream",
     "text": [
      "             precision    recall  f1-score   support\n",
      "\n",
      "          0       0.00      0.00      0.00      5307\n",
      "          1       0.70      1.00      0.82     12475\n",
      "\n",
      "avg / total       0.49      0.70      0.58     17782\n",
      "\n",
      "[[    0  5307]\n",
      " [    0 12475]]\n"
     ]
    }
   ],
   "source": [
    "l_svm = SVC(kernel='linear')\n",
    "l_svm.fit(xtrain_norm, ytrain_norm)\n",
    "y_pred = l_svm.predict(xtest_norm)\n",
    "\n",
    "print(\"Accuracy: %.3f\"% metrics.accuracy_score(ytest_norm, l_svm.predict(xtest_norm)))\n",
    "print(metrics.classification_report(ytest_norm, l_svm.predict(xtest_norm)))\n",
    "print(metrics.confusion_matrix(ytest_norm,l_svm.predict(xtest_norm)))"
   ]
  },
  {
   "cell_type": "markdown",
   "metadata": {},
   "source": [
    "### RBF"
   ]
  },
  {
   "cell_type": "code",
   "execution_count": null,
   "metadata": {
    "collapsed": true
   },
   "outputs": [],
   "source": [
    "rbf_svm = SVC(kernel='rbf', gamma = 0.001)\n",
    "rbf_svm.fit(xtrain_norm, ytrain_norm)\n",
    "y_pred = svm.predict(xtest_norm)\n",
    "\n",
    "print(\"Accuracy: %.3f\"% metrics.accuracy_score(ytest_norm, rbf_svm.predict(xtest_norm)))\n",
    "print(metrics.classification_report(ytest_norm, rbf_svm.predict(xtest_norm)))\n",
    "print(metrics.confusion_matrix(ytest_norm,rbf_svm.predict(xtest_norm)))"
   ]
  },
  {
   "cell_type": "markdown",
   "metadata": {},
   "source": [
    "## Logistic Regression"
   ]
  },
  {
   "cell_type": "code",
   "execution_count": 137,
   "metadata": {},
   "outputs": [
    {
     "name": "stdout",
     "output_type": "stream",
     "text": [
      "Accuracy: 0.533\n",
      "             precision    recall  f1-score   support\n",
      "\n",
      "          0       0.33      0.55      0.41      5307\n",
      "          1       0.73      0.53      0.61     12475\n",
      "\n",
      "avg / total       0.61      0.53      0.55     17782\n",
      "\n",
      "[[2914 2393]\n",
      " [5920 6555]]\n"
     ]
    }
   ],
   "source": [
    "lr = LogisticRegression(class_weight = 'balanced')\n",
    "lr.fit(xtrain, ytrain)\n",
    "y_pred = lr.predict(xtest)\n",
    "\n",
    "print(\"Accuracy: %.3f\"% metrics.accuracy_score(ytest, lr.predict(xtest)))\n",
    "print(metrics.classification_report(ytest, lr.predict(xtest)))\n",
    "print(metrics.confusion_matrix(ytest,lr.predict(xtest)))\n",
    "# Needs work: print(cross_val_score(lr, xtest, ytest, cv=10, scoring='f1'))"
   ]
  },
  {
   "cell_type": "code",
   "execution_count": 181,
   "metadata": {},
   "outputs": [
    {
     "data": {
      "text/plain": [
       "LogisticRegression(C=1.0, class_weight='balanced', dual=False,\n",
       "          fit_intercept=True, intercept_scaling=1, max_iter=100,\n",
       "          multi_class='ovr', n_jobs=1, penalty='l2', random_state=None,\n",
       "          solver='liblinear', tol=0.0001, verbose=0, warm_start=False)"
      ]
     },
     "execution_count": 181,
     "metadata": {},
     "output_type": "execute_result"
    }
   ],
   "source": [
    "lr"
   ]
  },
  {
   "cell_type": "markdown",
   "metadata": {},
   "source": [
    "## Random Forests"
   ]
  },
  {
   "cell_type": "markdown",
   "metadata": {},
   "source": [
    "### Random Forests with Upsampling"
   ]
  },
  {
   "cell_type": "code",
   "execution_count": 195,
   "metadata": {
    "collapsed": true
   },
   "outputs": [],
   "source": [
    "from sklearn.utils import resample"
   ]
  },
  {
   "cell_type": "code",
   "execution_count": 196,
   "metadata": {
    "collapsed": true
   },
   "outputs": [],
   "source": [
    "with open(\"users.pkl\", 'rb') as picklefile: \n",
    "    users = pickle.load(picklefile)"
   ]
  },
  {
   "cell_type": "code",
   "execution_count": 197,
   "metadata": {},
   "outputs": [
    {
     "data": {
      "text/plain": [
       "1    62376\n",
       "0    26532\n",
       "Name: US, dtype: int64"
      ]
     },
     "execution_count": 197,
     "metadata": {},
     "output_type": "execute_result"
    }
   ],
   "source": [
    "users.US.value_counts()"
   ]
  },
  {
   "cell_type": "code",
   "execution_count": 198,
   "metadata": {},
   "outputs": [
    {
     "data": {
      "text/plain": [
       "1    62376\n",
       "0    62376\n",
       "Name: US, dtype: int64"
      ]
     },
     "execution_count": 198,
     "metadata": {},
     "output_type": "execute_result"
    }
   ],
   "source": [
    "# Separate majority and minority classes\n",
    "users_majority = users[users.US==1]\n",
    "users_minority = users[users.US==0]\n",
    " \n",
    "# Upsample minority class\n",
    "users_minority_upsampled = resample(users_minority, \n",
    "                                 replace=True,     # sample with replacement\n",
    "                                 n_samples=62376,    # to match majority class\n",
    "                                 random_state=123) # reproducible results\n",
    " \n",
    "# Combine majority class with upsampled minority class\n",
    "users_upsampled = pd.concat([users_majority, users_minority_upsampled])\n",
    " \n",
    "# Display new class counts\n",
    "users_upsampled.US.value_counts()\n",
    "# 1    576\n",
    "# 0    576\n",
    "# Name: balance, dtype: int64"
   ]
  },
  {
   "cell_type": "code",
   "execution_count": 199,
   "metadata": {
    "collapsed": true
   },
   "outputs": [],
   "source": [
    "y_upsampled = users_upsampled['US']\n",
    "users_upsampled = users_upsampled.drop('US', axis = 1)"
   ]
  },
  {
   "cell_type": "code",
   "execution_count": 200,
   "metadata": {
    "collapsed": true
   },
   "outputs": [],
   "source": [
    "users_upsampled = users_upsampled.drop('id',axis = 1)"
   ]
  },
  {
   "cell_type": "code",
   "execution_count": 201,
   "metadata": {
    "collapsed": true
   },
   "outputs": [],
   "source": [
    "xtrain_up, xtest_up, ytrain_up, ytest_up = train_test_split(users_upsampled, y_upsampled, test_size=0.2,stratify = y)#, random_state = 1234)"
   ]
  },
  {
   "cell_type": "code",
   "execution_count": 202,
   "metadata": {},
   "outputs": [
    {
     "name": "stdout",
     "output_type": "stream",
     "text": [
      "Accuracy: 0.719\n",
      "             precision    recall  f1-score   support\n",
      "\n",
      "          0       0.54      0.36      0.43      5301\n",
      "          1       0.76      0.87      0.81     12481\n",
      "\n",
      "avg / total       0.70      0.72      0.70     17782\n",
      "\n",
      "[[ 1921  3380]\n",
      " [ 1615 10866]]\n",
      "ROC AUC: 0.673197521693\n"
     ]
    }
   ],
   "source": [
    "rf = RandomForestClassifier(n_estimators = 5)#class_weight = 'balanced')\n",
    "rf.fit(xtrain_up, ytrain_up)\n",
    "y_pred = rf.predict(xtest_up)\n",
    "y_score = rf.predict_proba(xtest_up)[:,1]\n",
    "fpr, tpr,_ = roc_curve(ytest_up, y_score)\n",
    "roc_auc = auc(fpr, tpr)\n",
    "\n",
    "print(\"Accuracy: %.3f\"% metrics.accuracy_score(ytest_up, rf.predict(xtest_up)))\n",
    "print(metrics.classification_report(ytest_up, rf.predict(xtest_up)))\n",
    "print(metrics.confusion_matrix(ytest_up,rf.predict(xtest_up)))\n",
    "print('ROC AUC:', roc_auc)"
   ]
  },
  {
   "cell_type": "code",
   "execution_count": 203,
   "metadata": {},
   "outputs": [
    {
     "name": "stderr",
     "output_type": "stream",
     "text": [
      "\n",
      "  0%|          | 0/90 [00:00<?, ?it/s]\u001b[A\n",
      "  1%|          | 1/90 [00:00<01:06,  1.33it/s]\u001b[A\n",
      "  2%|▏         | 2/90 [00:01<01:07,  1.30it/s]\u001b[A\n",
      "  3%|▎         | 3/90 [00:02<01:09,  1.25it/s]\u001b[A\n",
      "  4%|▍         | 4/90 [00:03<01:11,  1.21it/s]\u001b[A\n",
      "  6%|▌         | 5/90 [00:04<01:12,  1.18it/s]\u001b[A\n",
      "  7%|▋         | 6/90 [00:05<01:14,  1.13it/s]\u001b[A\n",
      "Exception in thread Thread-14:\n",
      "Traceback (most recent call last):\n",
      "  File \"/Users/emilygeller/anaconda3/lib/python3.6/threading.py\", line 916, in _bootstrap_inner\n",
      "    self.run()\n",
      "  File \"/Users/emilygeller/anaconda3/lib/python3.6/site-packages/tqdm/_tqdm.py\", line 144, in run\n",
      "    for instance in self.tqdm_cls._instances:\n",
      "  File \"/Users/emilygeller/anaconda3/lib/python3.6/_weakrefset.py\", line 60, in __iter__\n",
      "    for itemref in self.data:\n",
      "RuntimeError: Set changed size during iteration\n",
      "\n",
      "100%|██████████| 90/90 [05:45<00:00,  3.84s/it]"
     ]
    },
    {
     "name": "stdout",
     "output_type": "stream",
     "text": [
      "[0.68220013605740148, 0.6862965795917737, 0.68337861098388508, 0.68365341465037044, 0.68626902591996419, 0.68623582699504415, 0.68803799281038092, 0.68615803283771948, 0.68710425131995767, 0.68942055081618803, 0.68943973863097785, 0.68697883903699619, 0.68947150168161286, 0.68814061247837321, 0.68984706593675282, 0.68934740435720743, 0.68692098086053643, 0.68881933513851445, 0.68993151045918799, 0.68808258048555249, 0.68960832538652483, 0.68977059429521703, 0.6908077565203391, 0.68901277007642825, 0.68758941812645591, 0.68952740253470501, 0.69140642541046471, 0.69036620250594527, 0.69171672540072637, 0.68834542860930548, 0.68814934108258052, 0.69142639917749482, 0.69174276006868674, 0.68884778056382734, 0.69107642371356359, 0.69083094966866154, 0.69197353529524841, 0.69194879291414479, 0.68970272278492617, 0.69080847445748172, 0.69080313149369421, 0.69129624850939242, 0.69128127763066116, 0.69098593340466452, 0.69198584602793578, 0.69213479153470781, 0.69163577987720726, 0.69113507539949692, 0.68997669515577276, 0.69032048880304486, 0.69191777802958487, 0.69168912638551849, 0.69038814115357616, 0.69249722131875502, 0.69322923002934278, 0.69137985417895564, 0.69089453622779584, 0.69116532700351585, 0.69141866057082113, 0.69303929409034493, 0.69257626241953796, 0.69139698642634784, 0.69140935761689981, 0.69223172060619098, 0.69162151182115239, 0.69140497442171334, 0.691526630759834, 0.69116385334306518, 0.69266578540260271, 0.69268868381883486, 0.69131108335792835, 0.69292641169983016, 0.69196859286481416, 0.69030780776593659, 0.69054345740783485, 0.69153483035772578, 0.69167491123009528, 0.69232565701337456, 0.69181143264568412, 0.69237801352415229, 0.69339459740359766, 0.69269669448589966, 0.6912593314257971, 0.69132238142138291, 0.69186647197420525, 0.69053327025764322, 0.69187354554436797, 0.69139192308018438, 0.6927373448426366, 0.69210280176708072]\n"
     ]
    },
    {
     "name": "stderr",
     "output_type": "stream",
     "text": [
      "\n"
     ]
    }
   ],
   "source": [
    "n_range = list(range(10,100))\n",
    "n_up_auc = []\n",
    "for n in tqdm(n_range):\n",
    "    rf = RandomForestClassifier(n_estimators = n)#class_weight = 'balanced')\n",
    "    rf.fit(xtrain_up, ytrain_up)\n",
    "    y_score = rf.predict_proba(xtest_up)[:,1]\n",
    "    fpr, tpr,_ = roc_curve(ytest_up, y_score)\n",
    "    roc_auc = auc(fpr, tpr)\n",
    "    n_up_auc.append(roc_auc)\n",
    "print(n_up_auc)"
   ]
  },
  {
   "cell_type": "code",
   "execution_count": 204,
   "metadata": {
    "scrolled": true
   },
   "outputs": [
    {
     "data": {
      "image/png": "[encoded data removed]",
      "text/plain": [
       "<matplotlib.figure.Figure at 0x1a1bc4c470>"
      ]
     },
     "metadata": {},
     "output_type": "display_data"
    }
   ],
   "source": [
    "plt.plot(n_range, n_up_auc)\n",
    "plt.savefig('n_up_auc')"
   ]
  },
  {
   "cell_type": "code",
   "execution_count": 205,
   "metadata": {},
   "outputs": [
    {
     "data": {
      "text/plain": [
       "80"
      ]
     },
     "execution_count": 205,
     "metadata": {},
     "output_type": "execute_result"
    }
   ],
   "source": [
    "np.argmax(np.array(n_up_auc))"
   ]
  },
  {
   "cell_type": "code",
   "execution_count": 206,
   "metadata": {},
   "outputs": [
    {
     "name": "stdout",
     "output_type": "stream",
     "text": [
      "Accuracy: 0.738\n",
      "             precision    recall  f1-score   support\n",
      "\n",
      "          0       0.60      0.37      0.46      5301\n",
      "          1       0.77      0.89      0.83     12481\n",
      "\n",
      "avg / total       0.72      0.74      0.72     17782\n",
      "\n",
      "[[ 1985  3316]\n",
      " [ 1338 11143]]\n",
      "ROC AUC: 0.692706534003\n"
     ]
    }
   ],
   "source": [
    "rf_64 = RandomForestClassifier(n_estimators = 80)#class_weight = 'balanced')\n",
    "rf_64.fit(xtrain_up, ytrain_up)\n",
    "y_pred = rf_64.predict(xtest_up)\n",
    "y_score = rf_64.predict_proba(xtest_up)[:,1]\n",
    "fpr, tpr,_ = roc_curve(ytest_up, y_score)\n",
    "roc_auc = auc(fpr, tpr)\n",
    "\n",
    "print(\"Accuracy: %.3f\"% metrics.accuracy_score(ytest_up, rf_64.predict(xtest_up)))\n",
    "print(metrics.classification_report(ytest_up, rf_64.predict(xtest_up)))\n",
    "print(metrics.confusion_matrix(ytest_up,rf_64.predict(xtest_up)))\n",
    "print('ROC AUC:', roc_auc)"
   ]
  },
  {
   "cell_type": "code",
   "execution_count": 207,
   "metadata": {},
   "outputs": [
    {
     "data": {
      "text/html": [
       "<div>\n",
       "<style>\n",
       "    .dataframe thead tr:only-child th {\n",
       "        text-align: right;\n",
       "    }\n",
       "\n",
       "    .dataframe thead th {\n",
       "        text-align: left;\n",
       "    }\n",
       "\n",
       "    .dataframe tbody tr th {\n",
       "        vertical-align: top;\n",
       "    }\n",
       "</style>\n",
       "<table border=\"1\" class=\"dataframe\">\n",
       "  <thead>\n",
       "    <tr style=\"text-align: right;\">\n",
       "      <th></th>\n",
       "      <th>importances</th>\n",
       "      <th>features</th>\n",
       "    </tr>\n",
       "  </thead>\n",
       "  <tbody>\n",
       "    <tr>\n",
       "      <th>9</th>\n",
       "      <td>0.360951</td>\n",
       "      <td>diff_account_to_first_booking</td>\n",
       "    </tr>\n",
       "    <tr>\n",
       "      <th>10</th>\n",
       "      <td>0.247473</td>\n",
       "      <td>age</td>\n",
       "    </tr>\n",
       "    <tr>\n",
       "      <th>11</th>\n",
       "      <td>0.151644</td>\n",
       "      <td>total_sessions</td>\n",
       "    </tr>\n",
       "    <tr>\n",
       "      <th>12</th>\n",
       "      <td>0.076642</td>\n",
       "      <td>total_sessions_on_mac</td>\n",
       "    </tr>\n",
       "    <tr>\n",
       "      <th>13</th>\n",
       "      <td>0.063506</td>\n",
       "      <td>total_sessions_on_windows</td>\n",
       "    </tr>\n",
       "    <tr>\n",
       "      <th>14</th>\n",
       "      <td>0.031262</td>\n",
       "      <td>total_sessions_on_iphone</td>\n",
       "    </tr>\n",
       "    <tr>\n",
       "      <th>3</th>\n",
       "      <td>0.019725</td>\n",
       "      <td>signup_method_facebook</td>\n",
       "    </tr>\n",
       "    <tr>\n",
       "      <th>0</th>\n",
       "      <td>0.015077</td>\n",
       "      <td>gender_FEMALE</td>\n",
       "    </tr>\n",
       "    <tr>\n",
       "      <th>1</th>\n",
       "      <td>0.014908</td>\n",
       "      <td>gender_MALE</td>\n",
       "    </tr>\n",
       "    <tr>\n",
       "      <th>6</th>\n",
       "      <td>0.004819</td>\n",
       "      <td>signup_app_Web</td>\n",
       "    </tr>\n",
       "    <tr>\n",
       "      <th>16</th>\n",
       "      <td>0.004739</td>\n",
       "      <td>no_age_entered</td>\n",
       "    </tr>\n",
       "    <tr>\n",
       "      <th>7</th>\n",
       "      <td>0.003237</td>\n",
       "      <td>signup_app_iOS</td>\n",
       "    </tr>\n",
       "    <tr>\n",
       "      <th>5</th>\n",
       "      <td>0.002465</td>\n",
       "      <td>signup_app_Moweb</td>\n",
       "    </tr>\n",
       "    <tr>\n",
       "      <th>2</th>\n",
       "      <td>0.001566</td>\n",
       "      <td>gender_OTHER</td>\n",
       "    </tr>\n",
       "    <tr>\n",
       "      <th>8</th>\n",
       "      <td>0.001501</td>\n",
       "      <td>diff_account_to_first_active</td>\n",
       "    </tr>\n",
       "    <tr>\n",
       "      <th>4</th>\n",
       "      <td>0.000486</td>\n",
       "      <td>signup_method_google</td>\n",
       "    </tr>\n",
       "    <tr>\n",
       "      <th>15</th>\n",
       "      <td>0.000000</td>\n",
       "      <td>total_sessions_on_android</td>\n",
       "    </tr>\n",
       "  </tbody>\n",
       "</table>\n",
       "</div>"
      ],
      "text/plain": [
       "    importances                       features\n",
       "9      0.360951  diff_account_to_first_booking\n",
       "10     0.247473                            age\n",
       "11     0.151644                 total_sessions\n",
       "12     0.076642          total_sessions_on_mac\n",
       "13     0.063506      total_sessions_on_windows\n",
       "14     0.031262       total_sessions_on_iphone\n",
       "3      0.019725         signup_method_facebook\n",
       "0      0.015077                  gender_FEMALE\n",
       "1      0.014908                    gender_MALE\n",
       "6      0.004819                 signup_app_Web\n",
       "16     0.004739                 no_age_entered\n",
       "7      0.003237                 signup_app_iOS\n",
       "5      0.002465               signup_app_Moweb\n",
       "2      0.001566                   gender_OTHER\n",
       "8      0.001501   diff_account_to_first_active\n",
       "4      0.000486           signup_method_google\n",
       "15     0.000000      total_sessions_on_android"
      ]
     },
     "execution_count": 207,
     "metadata": {},
     "output_type": "execute_result"
    }
   ],
   "source": [
    "features = pd.DataFrame()\n",
    "features['importances'] = rf_64.feature_importances_\n",
    "features['features'] = xtrain_up.columns\n",
    "features.sort_values('importances',ascending = False)"
   ]
  },
  {
   "cell_type": "code",
   "execution_count": 179,
   "metadata": {},
   "outputs": [
    {
     "data": {
      "text/plain": [
       "Index(['gender_FEMALE', 'gender_MALE', 'gender_OTHER',\n",
       "       'signup_method_facebook', 'signup_method_google', 'signup_app_Moweb',\n",
       "       'signup_app_Web', 'signup_app_iOS', 'first_device_type_Android Tablet',\n",
       "       'first_device_type_Desktop (Other)', 'first_device_type_Mac Desktop',\n",
       "       'first_device_type_Other/Unknown',\n",
       "       'first_device_type_SmartPhone (Other)',\n",
       "       'first_device_type_Windows Desktop', 'first_device_type_iPad',\n",
       "       'first_device_type_iPhone', 'first_browser_AOL Explorer',\n",
       "       'first_browser_Android Browser', 'first_browser_Apple Mail',\n",
       "       'first_browser_Avant Browser', 'first_browser_BlackBerry Browser',\n",
       "       'first_browser_Camino', 'first_browser_Chrome',\n",
       "       'first_browser_Chrome Mobile', 'first_browser_Chromium',\n",
       "       'first_browser_CometBird', 'first_browser_CoolNovo',\n",
       "       'first_browser_Firefox', 'first_browser_Googlebot', 'first_browser_IE',\n",
       "       'first_browser_IE Mobile', 'first_browser_IceWeasel',\n",
       "       'first_browser_Iron', 'first_browser_Kindle Browser',\n",
       "       'first_browser_Maxthon', 'first_browser_Mobile Firefox',\n",
       "       'first_browser_Mobile Safari', 'first_browser_Mozilla',\n",
       "       'first_browser_NetNewsWire', 'first_browser_Opera',\n",
       "       'first_browser_Opera Mini', 'first_browser_Pale Moon',\n",
       "       'first_browser_Palm Pre web browser', 'first_browser_RockMelt',\n",
       "       'first_browser_Safari', 'first_browser_SeaMonkey', 'first_browser_Silk',\n",
       "       'first_browser_SiteKiosk', 'first_browser_SlimBrowser',\n",
       "       'first_browser_Sogou Explorer', 'first_browser_Stainless',\n",
       "       'first_browser_TenFourFox', 'first_browser_TheWorld Browser',\n",
       "       'first_browser_Yandex.Browser', 'first_browser_wOSBrowser',\n",
       "       'affiliate_channel_content', 'affiliate_channel_direct',\n",
       "       'affiliate_channel_other', 'affiliate_channel_remarketing',\n",
       "       'affiliate_channel_sem-brand', 'affiliate_channel_sem-non-brand',\n",
       "       'affiliate_channel_seo', 'affiliate_provider_bing',\n",
       "       'affiliate_provider_craigslist', 'affiliate_provider_daum',\n",
       "       'affiliate_provider_direct', 'affiliate_provider_email-marketing',\n",
       "       'affiliate_provider_facebook', 'affiliate_provider_facebook-open-graph',\n",
       "       'affiliate_provider_google', 'affiliate_provider_gsp',\n",
       "       'affiliate_provider_meetup', 'affiliate_provider_naver',\n",
       "       'affiliate_provider_other', 'affiliate_provider_padmapper',\n",
       "       'affiliate_provider_vast', 'affiliate_provider_yahoo',\n",
       "       'affiliate_provider_yandex', 'first_affiliate_tracked_local ops',\n",
       "       'first_affiliate_tracked_marketing', 'first_affiliate_tracked_omg',\n",
       "       'first_affiliate_tracked_product',\n",
       "       'first_affiliate_tracked_tracked-other',\n",
       "       'first_affiliate_tracked_untracked', 'langues_en',\n",
       "       'diff_account_to_first_active', 'diff_account_to_first_booking', 'id',\n",
       "       'age', 'total_sessions', 'total_sessions_on_mac',\n",
       "       'total_sessions_on_windows', 'total_sessions_on_iphone',\n",
       "       'total_sessions_on_android', 'US', 'no_age_entered'],\n",
       "      dtype='object')"
      ]
     },
     "execution_count": 179,
     "metadata": {},
     "output_type": "execute_result"
    }
   ],
   "source": [
    "users.columns"
   ]
  },
  {
   "cell_type": "code",
   "execution_count": 180,
   "metadata": {},
   "outputs": [
    {
     "ename": "NotFittedError",
     "evalue": "This RandomForestClassifier instance is not fitted yet. Call 'fit' with appropriate arguments before using this method.",
     "output_type": "error",
     "traceback": [
      "\u001b[0;31m---------------------------------------------------------------------------\u001b[0m",
      "\u001b[0;31mNotFittedError\u001b[0m                            Traceback (most recent call last)",
      "\u001b[0;32m<ipython-input-180-ee49d55fa02c>\u001b[0m in \u001b[0;36m<module>\u001b[0;34m()\u001b[0m\n\u001b[1;32m      6\u001b[0m \u001b[0mfeatures\u001b[0m \u001b[0;34m=\u001b[0m \u001b[0mlist\u001b[0m\u001b[0;34m(\u001b[0m\u001b[0mxtrain_up\u001b[0m\u001b[0;34m.\u001b[0m\u001b[0mcolumns\u001b[0m\u001b[0;34m)\u001b[0m\u001b[0;34m\u001b[0m\u001b[0m\n\u001b[1;32m      7\u001b[0m \u001b[0mdot_data\u001b[0m \u001b[0;34m=\u001b[0m \u001b[0mStringIO\u001b[0m\u001b[0;34m(\u001b[0m\u001b[0;34m)\u001b[0m\u001b[0;34m\u001b[0m\u001b[0m\n\u001b[0;32m----> 8\u001b[0;31m \u001b[0mexport_graphviz\u001b[0m\u001b[0;34m(\u001b[0m\u001b[0mrf_64\u001b[0m\u001b[0;34m,\u001b[0m \u001b[0mout_file\u001b[0m\u001b[0;34m=\u001b[0m\u001b[0mdot_data\u001b[0m\u001b[0;34m,\u001b[0m\u001b[0mfeature_names\u001b[0m\u001b[0;34m=\u001b[0m\u001b[0mfeatures\u001b[0m\u001b[0;34m,\u001b[0m\u001b[0mfilled\u001b[0m\u001b[0;34m=\u001b[0m\u001b[0;32mTrue\u001b[0m\u001b[0;34m,\u001b[0m\u001b[0mrounded\u001b[0m\u001b[0;34m=\u001b[0m\u001b[0;32mTrue\u001b[0m\u001b[0;34m)\u001b[0m\u001b[0;34m\u001b[0m\u001b[0m\n\u001b[0m\u001b[1;32m      9\u001b[0m \u001b[0;34m\u001b[0m\u001b[0m\n\u001b[1;32m     10\u001b[0m \u001b[0mgraph\u001b[0m \u001b[0;34m=\u001b[0m \u001b[0mpydot\u001b[0m\u001b[0;34m.\u001b[0m\u001b[0mgraph_from_dot_data\u001b[0m\u001b[0;34m(\u001b[0m\u001b[0mdot_data\u001b[0m\u001b[0;34m.\u001b[0m\u001b[0mgetvalue\u001b[0m\u001b[0;34m(\u001b[0m\u001b[0;34m)\u001b[0m\u001b[0;34m)\u001b[0m\u001b[0;34m\u001b[0m\u001b[0m\n",
      "\u001b[0;32m~/anaconda3/lib/python3.6/site-packages/sklearn/tree/export.py\u001b[0m in \u001b[0;36mexport_graphviz\u001b[0;34m(decision_tree, out_file, max_depth, feature_names, class_names, label, filled, leaves_parallel, impurity, node_ids, proportion, rotate, rounded, special_characters, precision)\u001b[0m\n\u001b[1;32m    390\u001b[0m                 \u001b[0mout_file\u001b[0m\u001b[0;34m.\u001b[0m\u001b[0mwrite\u001b[0m\u001b[0;34m(\u001b[0m\u001b[0;34m'%d -> %d ;\\n'\u001b[0m \u001b[0;34m%\u001b[0m \u001b[0;34m(\u001b[0m\u001b[0mparent\u001b[0m\u001b[0;34m,\u001b[0m \u001b[0mnode_id\u001b[0m\u001b[0;34m)\u001b[0m\u001b[0;34m)\u001b[0m\u001b[0;34m\u001b[0m\u001b[0m\n\u001b[1;32m    391\u001b[0m \u001b[0;34m\u001b[0m\u001b[0m\n\u001b[0;32m--> 392\u001b[0;31m     \u001b[0mcheck_is_fitted\u001b[0m\u001b[0;34m(\u001b[0m\u001b[0mdecision_tree\u001b[0m\u001b[0;34m,\u001b[0m \u001b[0;34m'tree_'\u001b[0m\u001b[0;34m)\u001b[0m\u001b[0;34m\u001b[0m\u001b[0m\n\u001b[0m\u001b[1;32m    393\u001b[0m     \u001b[0mown_file\u001b[0m \u001b[0;34m=\u001b[0m \u001b[0;32mFalse\u001b[0m\u001b[0;34m\u001b[0m\u001b[0m\n\u001b[1;32m    394\u001b[0m     \u001b[0mreturn_string\u001b[0m \u001b[0;34m=\u001b[0m \u001b[0;32mFalse\u001b[0m\u001b[0;34m\u001b[0m\u001b[0m\n",
      "\u001b[0;32m~/anaconda3/lib/python3.6/site-packages/sklearn/utils/validation.py\u001b[0m in \u001b[0;36mcheck_is_fitted\u001b[0;34m(estimator, attributes, msg, all_or_any)\u001b[0m\n\u001b[1;32m    766\u001b[0m \u001b[0;34m\u001b[0m\u001b[0m\n\u001b[1;32m    767\u001b[0m     \u001b[0;32mif\u001b[0m \u001b[0;32mnot\u001b[0m \u001b[0mall_or_any\u001b[0m\u001b[0;34m(\u001b[0m\u001b[0;34m[\u001b[0m\u001b[0mhasattr\u001b[0m\u001b[0;34m(\u001b[0m\u001b[0mestimator\u001b[0m\u001b[0;34m,\u001b[0m \u001b[0mattr\u001b[0m\u001b[0;34m)\u001b[0m \u001b[0;32mfor\u001b[0m \u001b[0mattr\u001b[0m \u001b[0;32min\u001b[0m \u001b[0mattributes\u001b[0m\u001b[0;34m]\u001b[0m\u001b[0;34m)\u001b[0m\u001b[0;34m:\u001b[0m\u001b[0;34m\u001b[0m\u001b[0m\n\u001b[0;32m--> 768\u001b[0;31m         \u001b[0;32mraise\u001b[0m \u001b[0mNotFittedError\u001b[0m\u001b[0;34m(\u001b[0m\u001b[0mmsg\u001b[0m \u001b[0;34m%\u001b[0m \u001b[0;34m{\u001b[0m\u001b[0;34m'name'\u001b[0m\u001b[0;34m:\u001b[0m \u001b[0mtype\u001b[0m\u001b[0;34m(\u001b[0m\u001b[0mestimator\u001b[0m\u001b[0;34m)\u001b[0m\u001b[0;34m.\u001b[0m\u001b[0m__name__\u001b[0m\u001b[0;34m}\u001b[0m\u001b[0;34m)\u001b[0m\u001b[0;34m\u001b[0m\u001b[0m\n\u001b[0m\u001b[1;32m    769\u001b[0m \u001b[0;34m\u001b[0m\u001b[0m\n\u001b[1;32m    770\u001b[0m \u001b[0;34m\u001b[0m\u001b[0m\n",
      "\u001b[0;31mNotFittedError\u001b[0m: This RandomForestClassifier instance is not fitted yet. Call 'fit' with appropriate arguments before using this method."
     ]
    }
   ],
   "source": [
    "from IPython.display import Image  \n",
    "from sklearn.externals.six import StringIO  \n",
    "from sklearn.tree import export_graphviz\n",
    "import pydot \n",
    "\n",
    "features = list(xtrain_up.columns)\n",
    "dot_data = StringIO()  \n",
    "export_graphviz(rf_64, out_file=dot_data,feature_names=features,filled=True,rounded=True)\n",
    "\n",
    "graph = pydot.graph_from_dot_data(dot_data.getvalue())  \n",
    "Image(graph[0].create_png())"
   ]
  },
  {
   "cell_type": "markdown",
   "metadata": {},
   "source": [
    "### Random Forests, no upsampling"
   ]
  },
  {
   "cell_type": "code",
   "execution_count": 104,
   "metadata": {},
   "outputs": [
    {
     "name": "stdout",
     "output_type": "stream",
     "text": [
      "Accuracy: 0.627\n",
      "             precision    recall  f1-score   support\n",
      "\n",
      "          0       0.33      0.24      0.27      5307\n",
      "          1       0.71      0.79      0.75     12475\n",
      "\n",
      "avg / total       0.60      0.63      0.61     17782\n",
      "\n",
      "[[1253 4054]\n",
      " [2571 9904]]\n"
     ]
    }
   ],
   "source": [
    "rf = RandomForestClassifier(n_estimators = 5)#class_weight = 'balanced')\n",
    "rf.fit(xtrain, ytrain)\n",
    "y_pred = rf.predict(xtest)\n",
    "\n",
    "print(\"Accuracy: %.3f\"% metrics.accuracy_score(ytest, rf.predict(xtest)))\n",
    "print(metrics.classification_report(ytest, rf.predict(xtest)))\n",
    "print(metrics.confusion_matrix(ytest,rf.predict(xtest)))"
   ]
  },
  {
   "cell_type": "code",
   "execution_count": 50,
   "metadata": {},
   "outputs": [
    {
     "name": "stderr",
     "output_type": "stream",
     "text": [
      "100%|██████████| 90/90 [11:44<00:00,  7.83s/it]"
     ]
    },
    {
     "name": "stdout",
     "output_type": "stream",
     "text": [
      "[0.5240484283877388, 0.52583285394099222, 0.52621892158141637, 0.52422492574359858, 0.5245664020308004, 0.52504057087096778, 0.5237840567216534, 0.52351689431449966, 0.52785975632186799, 0.52878292439170016, 0.52234635616644565, 0.52897598468235585, 0.52730947361147851, 0.5297342797026211, 0.52607210137447846, 0.52766437419514722, 0.52675335984048277, 0.52507094381441088, 0.52940093362313878, 0.52694617055266901, 0.52635500235118049, 0.526294475790828, 0.52608549541900995, 0.52555035380243842, 0.52504727167472542, 0.52611051376983409, 0.52339368574337597, 0.52811424316796329, 0.52557115200823246, 0.52662272441914471, 0.52613092626344793, 0.52539016980290498, 0.52798619428712756, 0.52878867982246713, 0.52733621632263761, 0.52710116634522985, 0.52633832597162566, 0.52846772947363807, 0.52745347282541222, 0.52808079965304655, 0.52708493618172647, 0.5272252295335369, 0.5276590649804318, 0.5276889387669359, 0.52678790755105254, 0.52734595744593316, 0.52894036302806868, 0.52674887499101519, 0.53004849899575679, 0.52904383977413183, 0.5289567368882665, 0.52628519600955181, 0.52621732579180813, 0.52731693827661252, 0.52654385762277389, 0.52636913000515262, 0.5265443643426968, 0.52728582416074476, 0.5267721009146491, 0.52741492429634607, 0.52674806575173516, 0.52897106117982062, 0.52849769401594926, 0.52791595685541537, 0.52735890527441287, 0.52624357690901213, 0.52772649654510795, 0.52726091169169553, 0.52835349060144954, 0.52774818718300509, 0.52732815418177348, 0.52721321195207993, 0.52680131672155173, 0.52669317361440693, 0.52793555254676527, 0.52880447889588666, 0.52822283249115976, 0.52760290226180406, 0.5271968229659143, 0.52561880636994429, 0.52811753306597076, 0.52698822074329255, 0.52765285577062926, 0.52823665006279086, 0.52605984934051997, 0.52794351636883841, 0.5275566924300219, 0.52793785925686243, 0.52870521473186982, 0.52853822404680384]\n"
     ]
    },
    {
     "name": "stderr",
     "output_type": "stream",
     "text": [
      "\n"
     ]
    }
   ],
   "source": [
    "n_range = list(range(10,100))\n",
    "n_auc = []\n",
    "for n in tqdm(n_range):\n",
    "    rf = RandomForestClassifier(n_estimators = n)#class_weight = 'balanced')\n",
    "    rf.fit(xtrain, ytrain)\n",
    "    y_score = rf.predict_proba(xtest)[:,1]\n",
    "    fpr, tpr,_ = roc_curve(ytest, y_score)\n",
    "    roc_auc = auc(fpr, tpr)\n",
    "    n_auc.append(roc_auc)\n",
    "print(n_auc)"
   ]
  },
  {
   "cell_type": "code",
   "execution_count": 51,
   "metadata": {},
   "outputs": [
    {
     "data": {
      "image/png": "[encoded data removed]",
      "text/plain": [
       "<matplotlib.figure.Figure at 0x1a0e6bbba8>"
      ]
     },
     "metadata": {},
     "output_type": "display_data"
    }
   ],
   "source": [
    "plt.plot(n_range, n_auc)\n",
    "plt.savefig('rf_n_auc')"
   ]
  },
  {
   "cell_type": "code",
   "execution_count": 52,
   "metadata": {},
   "outputs": [
    {
     "data": {
      "text/plain": [
       "48"
      ]
     },
     "execution_count": 52,
     "metadata": {},
     "output_type": "execute_result"
    }
   ],
   "source": [
    "np.argmax(np.array(n_auc))"
   ]
  },
  {
   "cell_type": "code",
   "execution_count": 166,
   "metadata": {},
   "outputs": [
    {
     "name": "stdout",
     "output_type": "stream",
     "text": [
      "Accuracy: 0.636\n",
      "             precision    recall  f1-score   support\n",
      "\n",
      "          0       0.34      0.23      0.27      5307\n",
      "          1       0.71      0.81      0.76     12475\n",
      "\n",
      "avg / total       0.60      0.64      0.61     17782\n",
      "\n",
      "[[ 1226  4081]\n",
      " [ 2391 10084]]\n",
      "ROC AUC: 0.534476331597\n"
     ]
    }
   ],
   "source": [
    "rf_plain = RandomForestClassifier(n_estimators = 48,  random_state=123, class_weight = 'balanced')\n",
    "rf_plain.fit(xtrain, ytrain)\n",
    "y_pred = rf_plain.predict(xtest)\n",
    "y_score = rf_plain.predict_proba(xtest)[:,1]\n",
    "fpr, tpr,_ = roc_curve(ytest, y_score)\n",
    "roc_auc = auc(fpr, tpr)\n",
    "\n",
    "print(\"Accuracy: %.3f\"% metrics.accuracy_score(ytest, rf_plain.predict(xtest)))\n",
    "print(metrics.classification_report(ytest, rf_plain.predict(xtest)))\n",
    "print(metrics.confusion_matrix(ytest,rf_plain.predict(xtest)))\n",
    "print('ROC AUC:', roc_auc)"
   ]
  },
  {
   "cell_type": "code",
   "execution_count": 20,
   "metadata": {
    "scrolled": true
   },
   "outputs": [
    {
     "data": {
      "text/html": [
       "<div>\n",
       "<style>\n",
       "    .dataframe thead tr:only-child th {\n",
       "        text-align: right;\n",
       "    }\n",
       "\n",
       "    .dataframe thead th {\n",
       "        text-align: left;\n",
       "    }\n",
       "\n",
       "    .dataframe tbody tr th {\n",
       "        vertical-align: top;\n",
       "    }\n",
       "</style>\n",
       "<table border=\"1\" class=\"dataframe\">\n",
       "  <thead>\n",
       "    <tr style=\"text-align: right;\">\n",
       "      <th></th>\n",
       "      <th>importances</th>\n",
       "      <th>features</th>\n",
       "    </tr>\n",
       "  </thead>\n",
       "  <tbody>\n",
       "    <tr>\n",
       "      <th>107</th>\n",
       "      <td>0.383984</td>\n",
       "      <td>age</td>\n",
       "    </tr>\n",
       "    <tr>\n",
       "      <th>108</th>\n",
       "      <td>0.158588</td>\n",
       "      <td>total_sessions</td>\n",
       "    </tr>\n",
       "    <tr>\n",
       "      <th>109</th>\n",
       "      <td>0.071473</td>\n",
       "      <td>total_sessions_on_mac</td>\n",
       "    </tr>\n",
       "    <tr>\n",
       "      <th>110</th>\n",
       "      <td>0.059289</td>\n",
       "      <td>total_sessions_on_windows</td>\n",
       "    </tr>\n",
       "    <tr>\n",
       "      <th>111</th>\n",
       "      <td>0.032232</td>\n",
       "      <td>total_sessions_on_iphone</td>\n",
       "    </tr>\n",
       "    <tr>\n",
       "      <th>25</th>\n",
       "      <td>0.028921</td>\n",
       "      <td>signup_method_facebook</td>\n",
       "    </tr>\n",
       "    <tr>\n",
       "      <th>0</th>\n",
       "      <td>0.026714</td>\n",
       "      <td>gender_FEMALE</td>\n",
       "    </tr>\n",
       "    <tr>\n",
       "      <th>1</th>\n",
       "      <td>0.026662</td>\n",
       "      <td>gender_MALE</td>\n",
       "    </tr>\n",
       "    <tr>\n",
       "      <th>105</th>\n",
       "      <td>0.024019</td>\n",
       "      <td>first_affiliate_tracked_untracked</td>\n",
       "    </tr>\n",
       "    <tr>\n",
       "      <th>102</th>\n",
       "      <td>0.014448</td>\n",
       "      <td>first_affiliate_tracked_omg</td>\n",
       "    </tr>\n",
       "    <tr>\n",
       "      <th>49</th>\n",
       "      <td>0.011147</td>\n",
       "      <td>first_browser_Firefox</td>\n",
       "    </tr>\n",
       "    <tr>\n",
       "      <th>113</th>\n",
       "      <td>0.010891</td>\n",
       "      <td>no_age_entered</td>\n",
       "    </tr>\n",
       "    <tr>\n",
       "      <th>44</th>\n",
       "      <td>0.010722</td>\n",
       "      <td>first_browser_Chrome</td>\n",
       "    </tr>\n",
       "    <tr>\n",
       "      <th>35</th>\n",
       "      <td>0.008593</td>\n",
       "      <td>first_device_type_Windows Desktop</td>\n",
       "    </tr>\n",
       "    <tr>\n",
       "      <th>66</th>\n",
       "      <td>0.008338</td>\n",
       "      <td>first_browser_Safari</td>\n",
       "    </tr>\n",
       "    <tr>\n",
       "      <th>32</th>\n",
       "      <td>0.008198</td>\n",
       "      <td>first_device_type_Mac Desktop</td>\n",
       "    </tr>\n",
       "    <tr>\n",
       "      <th>104</th>\n",
       "      <td>0.006156</td>\n",
       "      <td>first_affiliate_tracked_tracked-other</td>\n",
       "    </tr>\n",
       "    <tr>\n",
       "      <th>7</th>\n",
       "      <td>0.006125</td>\n",
       "      <td>language_en</td>\n",
       "    </tr>\n",
       "    <tr>\n",
       "      <th>58</th>\n",
       "      <td>0.005728</td>\n",
       "      <td>first_browser_Mobile Safari</td>\n",
       "    </tr>\n",
       "    <tr>\n",
       "      <th>51</th>\n",
       "      <td>0.005322</td>\n",
       "      <td>first_browser_IE</td>\n",
       "    </tr>\n",
       "    <tr>\n",
       "      <th>81</th>\n",
       "      <td>0.004876</td>\n",
       "      <td>affiliate_channel_sem-brand</td>\n",
       "    </tr>\n",
       "    <tr>\n",
       "      <th>82</th>\n",
       "      <td>0.004619</td>\n",
       "      <td>affiliate_channel_sem-non-brand</td>\n",
       "    </tr>\n",
       "    <tr>\n",
       "      <th>91</th>\n",
       "      <td>0.004193</td>\n",
       "      <td>affiliate_provider_google</td>\n",
       "    </tr>\n",
       "    <tr>\n",
       "      <th>83</th>\n",
       "      <td>0.003949</td>\n",
       "      <td>affiliate_channel_seo</td>\n",
       "    </tr>\n",
       "    <tr>\n",
       "      <th>79</th>\n",
       "      <td>0.003883</td>\n",
       "      <td>affiliate_channel_other</td>\n",
       "    </tr>\n",
       "    <tr>\n",
       "      <th>37</th>\n",
       "      <td>0.003405</td>\n",
       "      <td>first_device_type_iPhone</td>\n",
       "    </tr>\n",
       "    <tr>\n",
       "      <th>95</th>\n",
       "      <td>0.003147</td>\n",
       "      <td>affiliate_provider_other</td>\n",
       "    </tr>\n",
       "    <tr>\n",
       "      <th>36</th>\n",
       "      <td>0.003056</td>\n",
       "      <td>first_device_type_iPad</td>\n",
       "    </tr>\n",
       "    <tr>\n",
       "      <th>28</th>\n",
       "      <td>0.003028</td>\n",
       "      <td>signup_app_Web</td>\n",
       "    </tr>\n",
       "    <tr>\n",
       "      <th>33</th>\n",
       "      <td>0.002919</td>\n",
       "      <td>first_device_type_Other/Unknown</td>\n",
       "    </tr>\n",
       "    <tr>\n",
       "      <th>...</th>\n",
       "      <td>...</td>\n",
       "      <td>...</td>\n",
       "    </tr>\n",
       "    <tr>\n",
       "      <th>57</th>\n",
       "      <td>0.000080</td>\n",
       "      <td>first_browser_Mobile Firefox</td>\n",
       "    </tr>\n",
       "    <tr>\n",
       "      <th>69</th>\n",
       "      <td>0.000075</td>\n",
       "      <td>first_browser_SiteKiosk</td>\n",
       "    </tr>\n",
       "    <tr>\n",
       "      <th>43</th>\n",
       "      <td>0.000073</td>\n",
       "      <td>first_browser_Camino</td>\n",
       "    </tr>\n",
       "    <tr>\n",
       "      <th>71</th>\n",
       "      <td>0.000066</td>\n",
       "      <td>first_browser_Sogou Explorer</td>\n",
       "    </tr>\n",
       "    <tr>\n",
       "      <th>9</th>\n",
       "      <td>0.000064</td>\n",
       "      <td>language_fi</td>\n",
       "    </tr>\n",
       "    <tr>\n",
       "      <th>53</th>\n",
       "      <td>0.000056</td>\n",
       "      <td>first_browser_IceWeasel</td>\n",
       "    </tr>\n",
       "    <tr>\n",
       "      <th>100</th>\n",
       "      <td>0.000054</td>\n",
       "      <td>first_affiliate_tracked_local ops</td>\n",
       "    </tr>\n",
       "    <tr>\n",
       "      <th>73</th>\n",
       "      <td>0.000051</td>\n",
       "      <td>first_browser_TenFourFox</td>\n",
       "    </tr>\n",
       "    <tr>\n",
       "      <th>22</th>\n",
       "      <td>0.000046</td>\n",
       "      <td>language_th</td>\n",
       "    </tr>\n",
       "    <tr>\n",
       "      <th>48</th>\n",
       "      <td>0.000036</td>\n",
       "      <td>first_browser_CoolNovo</td>\n",
       "    </tr>\n",
       "    <tr>\n",
       "      <th>41</th>\n",
       "      <td>0.000031</td>\n",
       "      <td>first_browser_Avant Browser</td>\n",
       "    </tr>\n",
       "    <tr>\n",
       "      <th>12</th>\n",
       "      <td>0.000030</td>\n",
       "      <td>language_is</td>\n",
       "    </tr>\n",
       "    <tr>\n",
       "      <th>63</th>\n",
       "      <td>0.000029</td>\n",
       "      <td>first_browser_Pale Moon</td>\n",
       "    </tr>\n",
       "    <tr>\n",
       "      <th>50</th>\n",
       "      <td>0.000026</td>\n",
       "      <td>first_browser_Googlebot</td>\n",
       "    </tr>\n",
       "    <tr>\n",
       "      <th>76</th>\n",
       "      <td>0.000024</td>\n",
       "      <td>first_browser_wOSBrowser</td>\n",
       "    </tr>\n",
       "    <tr>\n",
       "      <th>75</th>\n",
       "      <td>0.000024</td>\n",
       "      <td>first_browser_Yandex.Browser</td>\n",
       "    </tr>\n",
       "    <tr>\n",
       "      <th>52</th>\n",
       "      <td>0.000020</td>\n",
       "      <td>first_browser_IE Mobile</td>\n",
       "    </tr>\n",
       "    <tr>\n",
       "      <th>99</th>\n",
       "      <td>0.000015</td>\n",
       "      <td>affiliate_provider_yandex</td>\n",
       "    </tr>\n",
       "    <tr>\n",
       "      <th>11</th>\n",
       "      <td>0.000013</td>\n",
       "      <td>language_hu</td>\n",
       "    </tr>\n",
       "    <tr>\n",
       "      <th>60</th>\n",
       "      <td>0.000011</td>\n",
       "      <td>first_browser_NetNewsWire</td>\n",
       "    </tr>\n",
       "    <tr>\n",
       "      <th>72</th>\n",
       "      <td>0.000011</td>\n",
       "      <td>first_browser_Stainless</td>\n",
       "    </tr>\n",
       "    <tr>\n",
       "      <th>59</th>\n",
       "      <td>0.000008</td>\n",
       "      <td>first_browser_Mozilla</td>\n",
       "    </tr>\n",
       "    <tr>\n",
       "      <th>62</th>\n",
       "      <td>0.000005</td>\n",
       "      <td>first_browser_Opera Mini</td>\n",
       "    </tr>\n",
       "    <tr>\n",
       "      <th>86</th>\n",
       "      <td>0.000004</td>\n",
       "      <td>affiliate_provider_daum</td>\n",
       "    </tr>\n",
       "    <tr>\n",
       "      <th>74</th>\n",
       "      <td>0.000003</td>\n",
       "      <td>first_browser_TheWorld Browser</td>\n",
       "    </tr>\n",
       "    <tr>\n",
       "      <th>64</th>\n",
       "      <td>0.000000</td>\n",
       "      <td>first_browser_Palm Pre web browser</td>\n",
       "    </tr>\n",
       "    <tr>\n",
       "      <th>55</th>\n",
       "      <td>0.000000</td>\n",
       "      <td>first_browser_Kindle Browser</td>\n",
       "    </tr>\n",
       "    <tr>\n",
       "      <th>70</th>\n",
       "      <td>0.000000</td>\n",
       "      <td>first_browser_SlimBrowser</td>\n",
       "    </tr>\n",
       "    <tr>\n",
       "      <th>47</th>\n",
       "      <td>0.000000</td>\n",
       "      <td>first_browser_CometBird</td>\n",
       "    </tr>\n",
       "    <tr>\n",
       "      <th>112</th>\n",
       "      <td>0.000000</td>\n",
       "      <td>total_sessions_on_android</td>\n",
       "    </tr>\n",
       "  </tbody>\n",
       "</table>\n",
       "<p>114 rows × 2 columns</p>\n",
       "</div>"
      ],
      "text/plain": [
       "     importances                               features\n",
       "107     0.383984                                    age\n",
       "108     0.158588                         total_sessions\n",
       "109     0.071473                  total_sessions_on_mac\n",
       "110     0.059289              total_sessions_on_windows\n",
       "111     0.032232               total_sessions_on_iphone\n",
       "25      0.028921                 signup_method_facebook\n",
       "0       0.026714                          gender_FEMALE\n",
       "1       0.026662                            gender_MALE\n",
       "105     0.024019      first_affiliate_tracked_untracked\n",
       "102     0.014448            first_affiliate_tracked_omg\n",
       "49      0.011147                  first_browser_Firefox\n",
       "113     0.010891                         no_age_entered\n",
       "44      0.010722                   first_browser_Chrome\n",
       "35      0.008593      first_device_type_Windows Desktop\n",
       "66      0.008338                   first_browser_Safari\n",
       "32      0.008198          first_device_type_Mac Desktop\n",
       "104     0.006156  first_affiliate_tracked_tracked-other\n",
       "7       0.006125                            language_en\n",
       "58      0.005728            first_browser_Mobile Safari\n",
       "51      0.005322                       first_browser_IE\n",
       "81      0.004876            affiliate_channel_sem-brand\n",
       "82      0.004619        affiliate_channel_sem-non-brand\n",
       "91      0.004193              affiliate_provider_google\n",
       "83      0.003949                  affiliate_channel_seo\n",
       "79      0.003883                affiliate_channel_other\n",
       "37      0.003405               first_device_type_iPhone\n",
       "95      0.003147               affiliate_provider_other\n",
       "36      0.003056                 first_device_type_iPad\n",
       "28      0.003028                         signup_app_Web\n",
       "33      0.002919        first_device_type_Other/Unknown\n",
       "..           ...                                    ...\n",
       "57      0.000080           first_browser_Mobile Firefox\n",
       "69      0.000075                first_browser_SiteKiosk\n",
       "43      0.000073                   first_browser_Camino\n",
       "71      0.000066           first_browser_Sogou Explorer\n",
       "9       0.000064                            language_fi\n",
       "53      0.000056                first_browser_IceWeasel\n",
       "100     0.000054      first_affiliate_tracked_local ops\n",
       "73      0.000051               first_browser_TenFourFox\n",
       "22      0.000046                            language_th\n",
       "48      0.000036                 first_browser_CoolNovo\n",
       "41      0.000031            first_browser_Avant Browser\n",
       "12      0.000030                            language_is\n",
       "63      0.000029                first_browser_Pale Moon\n",
       "50      0.000026                first_browser_Googlebot\n",
       "76      0.000024               first_browser_wOSBrowser\n",
       "75      0.000024           first_browser_Yandex.Browser\n",
       "52      0.000020                first_browser_IE Mobile\n",
       "99      0.000015              affiliate_provider_yandex\n",
       "11      0.000013                            language_hu\n",
       "60      0.000011              first_browser_NetNewsWire\n",
       "72      0.000011                first_browser_Stainless\n",
       "59      0.000008                  first_browser_Mozilla\n",
       "62      0.000005               first_browser_Opera Mini\n",
       "86      0.000004                affiliate_provider_daum\n",
       "74      0.000003         first_browser_TheWorld Browser\n",
       "64      0.000000     first_browser_Palm Pre web browser\n",
       "55      0.000000           first_browser_Kindle Browser\n",
       "70      0.000000              first_browser_SlimBrowser\n",
       "47      0.000000                first_browser_CometBird\n",
       "112     0.000000              total_sessions_on_android\n",
       "\n",
       "[114 rows x 2 columns]"
      ]
     },
     "execution_count": 20,
     "metadata": {},
     "output_type": "execute_result"
    }
   ],
   "source": [
    "features = pd.DataFrame()\n",
    "features['importances'] = rf.feature_importances_\n",
    "features['features'] = users.columns\n",
    "features.sort_values('importances',ascending = False)"
   ]
  },
  {
   "cell_type": "markdown",
   "metadata": {},
   "source": [
    "## Naive Bayes"
   ]
  },
  {
   "cell_type": "markdown",
   "metadata": {},
   "source": [
    "### Gaussian"
   ]
  },
  {
   "cell_type": "code",
   "execution_count": 135,
   "metadata": {},
   "outputs": [
    {
     "name": "stdout",
     "output_type": "stream",
     "text": [
      "Accuracy: 0.382\n",
      "             precision    recall  f1-score   support\n",
      "\n",
      "          0       0.31      0.89      0.46      5307\n",
      "          1       0.78      0.17      0.28     12475\n",
      "\n",
      "avg / total       0.64      0.38      0.33     17782\n",
      "\n",
      "[[ 4703   604]\n",
      " [10378  2097]]\n"
     ]
    }
   ],
   "source": [
    "nb_g = naive_bayes.GaussianNB()\n",
    "nb_g.fit(xtrain, ytrain)\n",
    "\n",
    "print(\"Accuracy: %.3f\"% metrics.accuracy_score(ytest, nb_g.predict(xtest)))\n",
    "print(metrics.classification_report(ytest, nb_g.predict(xtest)))\n",
    "print(metrics.confusion_matrix(ytest,nb_g.predict(xtest)))"
   ]
  },
  {
   "cell_type": "markdown",
   "metadata": {},
   "source": [
    "### Bernoulli"
   ]
  },
  {
   "cell_type": "code",
   "execution_count": 136,
   "metadata": {},
   "outputs": [
    {
     "name": "stdout",
     "output_type": "stream",
     "text": [
      "Accuracy: 0.698\n",
      "             precision    recall  f1-score   support\n",
      "\n",
      "          0       0.38      0.02      0.04      5307\n",
      "          1       0.70      0.99      0.82     12475\n",
      "\n",
      "avg / total       0.61      0.70      0.59     17782\n",
      "\n",
      "[[  115  5192]\n",
      " [  185 12290]]\n"
     ]
    }
   ],
   "source": [
    "nb_b = naive_bayes.BernoulliNB()\n",
    "nb_b.fit(xtrain, ytrain)\n",
    "\n",
    "print(\"Accuracy: %.3f\"% metrics.accuracy_score(ytest, nb_b.predict(xtest)))\n",
    "print(metrics.classification_report(ytest, nb_b.predict(xtest)))\n",
    "print(metrics.confusion_matrix(ytest,nb_b.predict(xtest)))"
   ]
  },
  {
   "cell_type": "markdown",
   "metadata": {},
   "source": [
    "### Multinomial"
   ]
  },
  {
   "cell_type": "code",
   "execution_count": 124,
   "metadata": {},
   "outputs": [
    {
     "ename": "ValueError",
     "evalue": "Input X must be non-negative",
     "output_type": "error",
     "traceback": [
      "\u001b[0;31m---------------------------------------------------------------------------\u001b[0m",
      "\u001b[0;31mValueError\u001b[0m                                Traceback (most recent call last)",
      "\u001b[0;32m<ipython-input-124-734e25163de0>\u001b[0m in \u001b[0;36m<module>\u001b[0;34m()\u001b[0m\n\u001b[1;32m      1\u001b[0m \u001b[0mnb_m\u001b[0m \u001b[0;34m=\u001b[0m \u001b[0mnaive_bayes\u001b[0m\u001b[0;34m.\u001b[0m\u001b[0mMultinomialNB\u001b[0m\u001b[0;34m(\u001b[0m\u001b[0;34m)\u001b[0m\u001b[0;34m\u001b[0m\u001b[0m\n\u001b[0;32m----> 2\u001b[0;31m \u001b[0mnb_m\u001b[0m\u001b[0;34m.\u001b[0m\u001b[0mfit\u001b[0m\u001b[0;34m(\u001b[0m\u001b[0mxtrain\u001b[0m\u001b[0;34m,\u001b[0m \u001b[0mytrain\u001b[0m\u001b[0;34m)\u001b[0m\u001b[0;34m\u001b[0m\u001b[0m\n\u001b[0m\u001b[1;32m      3\u001b[0m \u001b[0;34m\u001b[0m\u001b[0m\n\u001b[1;32m      4\u001b[0m \u001b[0mprint\u001b[0m\u001b[0;34m(\u001b[0m\u001b[0;34m\"Accuracy: %.3f\"\u001b[0m\u001b[0;34m%\u001b[0m \u001b[0mmetrics\u001b[0m\u001b[0;34m.\u001b[0m\u001b[0maccuracy_score\u001b[0m\u001b[0;34m(\u001b[0m\u001b[0mytest\u001b[0m\u001b[0;34m,\u001b[0m \u001b[0mnb_m\u001b[0m\u001b[0;34m.\u001b[0m\u001b[0mpredict\u001b[0m\u001b[0;34m(\u001b[0m\u001b[0mxtest\u001b[0m\u001b[0;34m)\u001b[0m\u001b[0;34m)\u001b[0m\u001b[0;34m)\u001b[0m\u001b[0;34m\u001b[0m\u001b[0m\n\u001b[1;32m      5\u001b[0m \u001b[0mprint\u001b[0m\u001b[0;34m(\u001b[0m\u001b[0mmetrics\u001b[0m\u001b[0;34m.\u001b[0m\u001b[0mclassification_report\u001b[0m\u001b[0;34m(\u001b[0m\u001b[0mytest\u001b[0m\u001b[0;34m,\u001b[0m \u001b[0mnb_m\u001b[0m\u001b[0;34m.\u001b[0m\u001b[0mpredict\u001b[0m\u001b[0;34m(\u001b[0m\u001b[0mxtest\u001b[0m\u001b[0;34m)\u001b[0m\u001b[0;34m)\u001b[0m\u001b[0;34m)\u001b[0m\u001b[0;34m\u001b[0m\u001b[0m\n",
      "\u001b[0;32m~/anaconda3/lib/python3.6/site-packages/sklearn/naive_bayes.py\u001b[0m in \u001b[0;36mfit\u001b[0;34m(self, X, y, sample_weight)\u001b[0m\n\u001b[1;32m    602\u001b[0m         self.feature_count_ = np.zeros((n_effective_classes, n_features),\n\u001b[1;32m    603\u001b[0m                                        dtype=np.float64)\n\u001b[0;32m--> 604\u001b[0;31m         \u001b[0mself\u001b[0m\u001b[0;34m.\u001b[0m\u001b[0m_count\u001b[0m\u001b[0;34m(\u001b[0m\u001b[0mX\u001b[0m\u001b[0;34m,\u001b[0m \u001b[0mY\u001b[0m\u001b[0;34m)\u001b[0m\u001b[0;34m\u001b[0m\u001b[0m\n\u001b[0m\u001b[1;32m    605\u001b[0m         \u001b[0malpha\u001b[0m \u001b[0;34m=\u001b[0m \u001b[0mself\u001b[0m\u001b[0;34m.\u001b[0m\u001b[0m_check_alpha\u001b[0m\u001b[0;34m(\u001b[0m\u001b[0;34m)\u001b[0m\u001b[0;34m\u001b[0m\u001b[0m\n\u001b[1;32m    606\u001b[0m         \u001b[0mself\u001b[0m\u001b[0;34m.\u001b[0m\u001b[0m_update_feature_log_prob\u001b[0m\u001b[0;34m(\u001b[0m\u001b[0malpha\u001b[0m\u001b[0;34m)\u001b[0m\u001b[0;34m\u001b[0m\u001b[0m\n",
      "\u001b[0;32m~/anaconda3/lib/python3.6/site-packages/sklearn/naive_bayes.py\u001b[0m in \u001b[0;36m_count\u001b[0;34m(self, X, Y)\u001b[0m\n\u001b[1;32m    706\u001b[0m         \u001b[0;34m\"\"\"Count and smooth feature occurrences.\"\"\"\u001b[0m\u001b[0;34m\u001b[0m\u001b[0m\n\u001b[1;32m    707\u001b[0m         \u001b[0;32mif\u001b[0m \u001b[0mnp\u001b[0m\u001b[0;34m.\u001b[0m\u001b[0many\u001b[0m\u001b[0;34m(\u001b[0m\u001b[0;34m(\u001b[0m\u001b[0mX\u001b[0m\u001b[0;34m.\u001b[0m\u001b[0mdata\u001b[0m \u001b[0;32mif\u001b[0m \u001b[0missparse\u001b[0m\u001b[0;34m(\u001b[0m\u001b[0mX\u001b[0m\u001b[0;34m)\u001b[0m \u001b[0;32melse\u001b[0m \u001b[0mX\u001b[0m\u001b[0;34m)\u001b[0m \u001b[0;34m<\u001b[0m \u001b[0;36m0\u001b[0m\u001b[0;34m)\u001b[0m\u001b[0;34m:\u001b[0m\u001b[0;34m\u001b[0m\u001b[0m\n\u001b[0;32m--> 708\u001b[0;31m             \u001b[0;32mraise\u001b[0m \u001b[0mValueError\u001b[0m\u001b[0;34m(\u001b[0m\u001b[0;34m\"Input X must be non-negative\"\u001b[0m\u001b[0;34m)\u001b[0m\u001b[0;34m\u001b[0m\u001b[0m\n\u001b[0m\u001b[1;32m    709\u001b[0m         \u001b[0mself\u001b[0m\u001b[0;34m.\u001b[0m\u001b[0mfeature_count_\u001b[0m \u001b[0;34m+=\u001b[0m \u001b[0msafe_sparse_dot\u001b[0m\u001b[0;34m(\u001b[0m\u001b[0mY\u001b[0m\u001b[0;34m.\u001b[0m\u001b[0mT\u001b[0m\u001b[0;34m,\u001b[0m \u001b[0mX\u001b[0m\u001b[0;34m)\u001b[0m\u001b[0;34m\u001b[0m\u001b[0m\n\u001b[1;32m    710\u001b[0m         \u001b[0mself\u001b[0m\u001b[0;34m.\u001b[0m\u001b[0mclass_count_\u001b[0m \u001b[0;34m+=\u001b[0m \u001b[0mY\u001b[0m\u001b[0;34m.\u001b[0m\u001b[0msum\u001b[0m\u001b[0;34m(\u001b[0m\u001b[0maxis\u001b[0m\u001b[0;34m=\u001b[0m\u001b[0;36m0\u001b[0m\u001b[0;34m)\u001b[0m\u001b[0;34m\u001b[0m\u001b[0m\n",
      "\u001b[0;31mValueError\u001b[0m: Input X must be non-negative"
     ]
    }
   ],
   "source": [
    "nb_m = naive_bayes.MultinomialNB()\n",
    "nb_m.fit(xtrain, ytrain)\n",
    "\n",
    "print(\"Accuracy: %.3f\"% metrics.accuracy_score(ytest, nb_m.predict(xtest)))\n",
    "print(metrics.classification_report(ytest, nb_m.predict(xtest)))\n",
    "print(metrics.confusion_matrix(ytest,nb_m.predict(xtest)))"
   ]
  },
  {
   "cell_type": "code",
   "execution_count": null,
   "metadata": {
    "collapsed": true
   },
   "outputs": [],
   "source": [
    "users"
   ]
  },
  {
   "cell_type": "code",
   "execution_count": 143,
   "metadata": {},
   "outputs": [
    {
     "data": {
      "image/png": "[encoded data removed]",
      "text/plain": [
       "<matplotlib.figure.Figure at 0x1a0e74fa20>"
      ]
     },
     "metadata": {},
     "output_type": "display_data"
    }
   ],
   "source": [
    "# What about ROC ? \n",
    "\n",
    "from sklearn.metrics import roc_curve, auc\n",
    "\n",
    "xtrain, xtest, ytrain, ytest = cross_validation.train_test_split(users, y, test_size=0.2, stratify = y, random_state=1234)\n",
    "\n",
    "lr_score=lr.predict_proba(xtest)[:,1]\n",
    "#nb_m_score = nb_m.predict_proba(xtest)[:,1]\n",
    "nb_b_score = nb_b.predict_proba(xtest)[:,1]\n",
    "rf_64_score = rf_64.predict_proba(xtest_up)[:,1]\n",
    "rf_plain_score = rf_plain.predict_proba(xtest)[:,1]\n",
    "knn_score = knn.predict_proba(xtest)[:,1]\n",
    "knn5_score = knn5.predict_proba(xtest)[:,1]\n",
    "#l_svm_score = l_svm.predict_proba(xtest)[:,1]\n",
    "\n",
    "lr_fpr, lr_tpr,_ = roc_curve(ytest, lr_score)\n",
    "#nb_m_fpr, nb_m_tpr,_ = roc_curve(ytest, nb_m_score)\n",
    "nb_b_fpr, nb_b_tpr,_ = roc_curve(ytest, nb_b_score)\n",
    "rf_64_fpr, rf_64_tpr,_ = roc_curve(ytest_up, rf_64_score)\n",
    "rf_plain_fpr, rf_plain_tpr,_ = roc_curve(ytest, rf_plain_score)\n",
    "knn_fpr, knn_tpr,_ = roc_curve(ytest, knn_score)\n",
    "knn5_fpr, knn5_tpr,_ = roc_curve(ytest, knn5_score)\n",
    "#l_svm_fpr, l_svm_tpr,_ = roc_curve(ytest, l_svm_score)\n",
    "#roc_auc = auc(fpr, tpr)\n",
    "\n",
    "plt.figure(figsize = (10,10))\n",
    "plt.subplot(1,1,1)\n",
    "# Plotting our Baseline..\n",
    "plt.plot([0,1],[0,1])\n",
    "\n",
    "plt.plot(lr_fpr,lr_tpr, label = 'LogisticRegression')\n",
    "#plt.plot(nb_m_fpr,nb_m_tpr, label = 'NaiveBayes - Multinomial')\n",
    "plt.plot(nb_b_fpr,nb_b_tpr, label = 'NaiveBayes - Bernoulli')\n",
    "plt.plot(rf_64_fpr,rf_64_tpr, label = 'RandomForrests n=64, upsampled')\n",
    "plt.plot(rf_plain_fpr,rf_plain_tpr, label = 'RandomForrests n=48')\n",
    "plt.plot(knn_fpr,knn_tpr, label = 'KNN K = 16')\n",
    "plt.plot(knn5_fpr,knn5_tpr, label = 'KNN K=5')\n",
    "#plt.plot(l_svm_fpr,l_svm_tpr, label = 'SVM-Linear')\n",
    "\n",
    "plt.legend()\n",
    "plt.grid(True)\n",
    "plt.xlabel('FPR')\n",
    "plt.ylabel('TPR')\n",
    "\n",
    "plt.savefig('RocCurve')"
   ]
  },
  {
   "cell_type": "code",
   "execution_count": null,
   "metadata": {
    "collapsed": true
   },
   "outputs": [],
   "source": []
  }
 ],
 "metadata": {
  "kernelspec": {
   "display_name": "Python 3",
   "language": "python",
   "name": "python3"
  },
  "language_info": {
   "codemirror_mode": {
    "name": "ipython",
    "version": 3
   },
   "file_extension": ".py",
   "mimetype": "text/x-python",
   "name": "python",
   "nbconvert_exporter": "python",
   "pygments_lexer": "ipython3",
   "version": "3.6.3"
  },
  "toc": {
   "nav_menu": {},
   "number_sections": true,
   "sideBar": true,
   "skip_h1_title": false,
   "toc_cell": false,
   "toc_position": {},
   "toc_section_display": "block",
   "toc_window_display": false
  }
 },
 "nbformat": 4,
 "nbformat_minor": 2
}
