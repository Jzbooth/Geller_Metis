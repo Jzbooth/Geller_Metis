{
 "cells": [
  {
   "cell_type": "markdown",
   "metadata": {},
   "source": [
    "## Data Prep"
   ]
  },
  {
   "cell_type": "code",
   "execution_count": 2,
   "metadata": {
    "collapsed": true
   },
   "outputs": [],
   "source": [
    "import json\n",
    "import numpy as np\n",
    "import pandas as pd\n",
    "\n",
    "import re\n",
    "import matplotlib.pyplot as plt\n",
    "from wordcloud import WordCloud\n",
    "\n",
    "from textblob import TextBlob\n",
    "# gensim\n",
    "from gensim import corpora, models, similarities, matutils\n",
    "# sklearn\n",
    "from sklearn import datasets\n",
    "from sklearn.feature_extraction.text import CountVectorizer\n",
    "from sklearn.cluster import KMeans\n",
    "# logging for gensim (set to INFO)\n",
    "import logging\n",
    "logging.basicConfig(format='%(asctime)s : %(levelname)s : %(message)s', level=logging.INFO)\n",
    "\n",
    "\n",
    "import preprocessor as p # \n",
    "import string # use string.punctuation to clean out punctuation\n",
    "\n",
    "from pprint import pprint\n",
    "\n",
    "from datetime import datetime\n",
    "import pickle\n",
    "\n",
    "import nltk\n",
    "\n",
    "from tqdm import tqdm\n",
    "\n",
    "pd.set_option('display.max_colwidth', -1)"
   ]
  },
  {
   "cell_type": "code",
   "execution_count": 3,
   "metadata": {
    "collapsed": true
   },
   "outputs": [],
   "source": [
    "# Previous 7 days tweets\n",
    "# Export the MongoDB collection to json format and transfer from AWS EC2 to localhost\n",
    "# mongoexport -d climatechange -c climate_tweets -o tweets.json\n",
    "# scp myaws:tweets.json .\n",
    "# Read the data into an array\n",
    "\n",
    "tweets_data = []\n",
    "tweets_file = open('tweets.json','r')\n",
    "for line in tweets_file:\n",
    "\n",
    "    tweet = json.loads(line)\n",
    "    tweets_data.append(tweet)\n",
    "    "
   ]
  },
  {
   "cell_type": "code",
   "execution_count": 4,
   "metadata": {
    "scrolled": true
   },
   "outputs": [
    {
     "name": "stdout",
     "output_type": "stream",
     "text": [
      "17579\n"
     ]
    }
   ],
   "source": [
    "print(len(tweets_data))"
   ]
  },
  {
   "cell_type": "code",
   "execution_count": 5,
   "metadata": {
    "collapsed": true
   },
   "outputs": [],
   "source": [
    "# Streamed tweets\n",
    "# Export the MongoDB collection to json format and transfer from AWS EC2 to localhost\n",
    "# mongoexport -d climatechange -c climate_tweets -o tweets.json\n",
    "# scp myaws:tweets.json .\n",
    "# Read the data into an array\n",
    "\n",
    "tweets_stream_data = []\n",
    "tweets_stream_file = open('tweets_stream.json','r')\n",
    "for line in tweets_stream_file:\n",
    "\n",
    "    tweet = json.loads(line)\n",
    "    tweets_stream_data.append(tweet)\n",
    "    "
   ]
  },
  {
   "cell_type": "code",
   "execution_count": 6,
   "metadata": {},
   "outputs": [
    {
     "name": "stdout",
     "output_type": "stream",
     "text": [
      "163341\n"
     ]
    }
   ],
   "source": [
    "print(len(tweets_stream_data))"
   ]
  },
  {
   "cell_type": "code",
   "execution_count": 7,
   "metadata": {},
   "outputs": [
    {
     "data": {
      "text/plain": [
       "{'_id': {'$oid': '5a973c81d72c206c69b41871'},\n",
       " 'contributors': None,\n",
       " 'coordinates': None,\n",
       " 'created_at': 'Wed Feb 28 23:33:47 +0000 2018',\n",
       " 'display_text_range': [0, 140],\n",
       " 'entities': {'hashtags': [],\n",
       "  'symbols': [],\n",
       "  'urls': [],\n",
       "  'user_mentions': [{'id': 31413260,\n",
       "    'id_str': '31413260',\n",
       "    'indices': [3, 17],\n",
       "    'name': 'Energy In Depth',\n",
       "    'screen_name': 'EnergyInDepth'},\n",
       "   {'id': 53970358,\n",
       "    'id_str': '53970358',\n",
       "    'indices': [45, 54],\n",
       "    'name': 'Matt Pawa',\n",
       "    'screen_name': 'MattPawa'},\n",
       "   {'id': 949934436,\n",
       "    'id_str': '949934436',\n",
       "    'indices': [58, 68],\n",
       "    'name': 'Tom Steyer',\n",
       "    'screen_name': 'TomSteyer'}]},\n",
       " 'favorite_count': 0,\n",
       " 'favorited': False,\n",
       " 'full_text': 'RT @EnergyInDepth: Memo from activist-lawyer @MattPawa to @TomSteyer outlines strategy to charge energy companies with causing global warmi…',\n",
       " 'geo': None,\n",
       " 'id': {'$numberLong': '968992659242143744'},\n",
       " 'id_str': '968992659242143744',\n",
       " 'in_reply_to_screen_name': None,\n",
       " 'in_reply_to_status_id': None,\n",
       " 'in_reply_to_status_id_str': None,\n",
       " 'in_reply_to_user_id': None,\n",
       " 'in_reply_to_user_id_str': None,\n",
       " 'is_quote_status': False,\n",
       " 'lang': 'en',\n",
       " 'metadata': {'iso_language_code': 'en', 'result_type': 'recent'},\n",
       " 'place': None,\n",
       " 'retweet_count': 4,\n",
       " 'retweeted': False,\n",
       " 'retweeted_status': {'contributors': None,\n",
       "  'coordinates': None,\n",
       "  'created_at': 'Wed Feb 28 14:00:04 +0000 2018',\n",
       "  'display_text_range': [0, 146],\n",
       "  'entities': {'hashtags': [],\n",
       "   'media': [{'display_url': 'pic.twitter.com/cVvXlg7O4I',\n",
       "     'expanded_url': 'https://twitter.com/EnergyInDepth/status/968848276974956544/photo/1',\n",
       "     'id': {'$numberLong': '966014766526246912'},\n",
       "     'id_str': '966014766526246912',\n",
       "     'indices': [147, 170],\n",
       "     'media_url': 'http://pbs.twimg.com/media/DWf5T96UMAABtsa.jpg',\n",
       "     'media_url_https': 'https://pbs.twimg.com/media/DWf5T96UMAABtsa.jpg',\n",
       "     'sizes': {'large': {'h': 629, 'resize': 'fit', 'w': 1201},\n",
       "      'medium': {'h': 628, 'resize': 'fit', 'w': 1200},\n",
       "      'small': {'h': 356, 'resize': 'fit', 'w': 680},\n",
       "      'thumb': {'h': 150, 'resize': 'crop', 'w': 150}},\n",
       "     'type': 'photo',\n",
       "     'url': 'https://t.co/cVvXlg7O4I'}],\n",
       "   'symbols': [],\n",
       "   'urls': [{'display_url': 'bit.ly/2j1GYJ6',\n",
       "     'expanded_url': 'http://bit.ly/2j1GYJ6',\n",
       "     'indices': [123, 146],\n",
       "     'url': 'https://t.co/DvBfY2ZHwz'}],\n",
       "   'user_mentions': [{'id': 53970358,\n",
       "     'id_str': '53970358',\n",
       "     'indices': [26, 35],\n",
       "     'name': 'Matt Pawa',\n",
       "     'screen_name': 'MattPawa'},\n",
       "    {'id': 949934436,\n",
       "     'id_str': '949934436',\n",
       "     'indices': [39, 49],\n",
       "     'name': 'Tom Steyer',\n",
       "     'screen_name': 'TomSteyer'}]},\n",
       "  'extended_entities': {'media': [{'display_url': 'pic.twitter.com/cVvXlg7O4I',\n",
       "     'expanded_url': 'https://twitter.com/EnergyInDepth/status/968848276974956544/photo/1',\n",
       "     'id': {'$numberLong': '966014766526246912'},\n",
       "     'id_str': '966014766526246912',\n",
       "     'indices': [147, 170],\n",
       "     'media_url': 'http://pbs.twimg.com/media/DWf5T96UMAABtsa.jpg',\n",
       "     'media_url_https': 'https://pbs.twimg.com/media/DWf5T96UMAABtsa.jpg',\n",
       "     'sizes': {'large': {'h': 629, 'resize': 'fit', 'w': 1201},\n",
       "      'medium': {'h': 628, 'resize': 'fit', 'w': 1200},\n",
       "      'small': {'h': 356, 'resize': 'fit', 'w': 680},\n",
       "      'thumb': {'h': 150, 'resize': 'crop', 'w': 150}},\n",
       "     'type': 'photo',\n",
       "     'url': 'https://t.co/cVvXlg7O4I'}]},\n",
       "  'favorite_count': 8,\n",
       "  'favorited': False,\n",
       "  'full_text': 'Memo from activist-lawyer @MattPawa to @TomSteyer outlines strategy to charge energy companies with causing global warming https://t.co/DvBfY2ZHwz https://t.co/cVvXlg7O4I',\n",
       "  'geo': None,\n",
       "  'id': {'$numberLong': '968848276974956544'},\n",
       "  'id_str': '968848276974956544',\n",
       "  'in_reply_to_screen_name': None,\n",
       "  'in_reply_to_status_id': None,\n",
       "  'in_reply_to_status_id_str': None,\n",
       "  'in_reply_to_user_id': None,\n",
       "  'in_reply_to_user_id_str': None,\n",
       "  'is_quote_status': False,\n",
       "  'lang': 'en',\n",
       "  'metadata': {'iso_language_code': 'en', 'result_type': 'recent'},\n",
       "  'place': None,\n",
       "  'possibly_sensitive': False,\n",
       "  'retweet_count': 4,\n",
       "  'retweeted': False,\n",
       "  'source': '<a href=\"https://about.twitter.com/products/tweetdeck\" rel=\"nofollow\">TweetDeck</a>',\n",
       "  'truncated': False,\n",
       "  'user': {'contributors_enabled': False,\n",
       "   'created_at': 'Wed Apr 15 14:01:17 +0000 2009',\n",
       "   'default_profile': False,\n",
       "   'default_profile_image': False,\n",
       "   'description': 'Research program of the Independent Petroleum Association of America. Focused on getting the facts out about responsibly developing #oil and #natgas from shale.',\n",
       "   'entities': {'description': {'urls': []},\n",
       "    'url': {'urls': [{'display_url': 'energyindepth.org',\n",
       "       'expanded_url': 'http://www.energyindepth.org',\n",
       "       'indices': [0, 22],\n",
       "       'url': 'http://t.co/g6On4i5Vxb'}]}},\n",
       "   'favourites_count': 58,\n",
       "   'follow_request_sent': None,\n",
       "   'followers_count': 54130,\n",
       "   'following': None,\n",
       "   'friends_count': 5610,\n",
       "   'geo_enabled': False,\n",
       "   'has_extended_profile': False,\n",
       "   'id': 31413260,\n",
       "   'id_str': '31413260',\n",
       "   'is_translation_enabled': False,\n",
       "   'is_translator': False,\n",
       "   'lang': 'en',\n",
       "   'listed_count': 1006,\n",
       "   'location': '',\n",
       "   'name': 'Energy In Depth',\n",
       "   'notifications': None,\n",
       "   'profile_background_color': 'FCFCFC',\n",
       "   'profile_background_image_url': 'http://pbs.twimg.com/profile_background_images/378800000009195265/c97b9ac5a108f888f1cf285892c776e6.jpeg',\n",
       "   'profile_background_image_url_https': 'https://pbs.twimg.com/profile_background_images/378800000009195265/c97b9ac5a108f888f1cf285892c776e6.jpeg',\n",
       "   'profile_background_tile': False,\n",
       "   'profile_banner_url': 'https://pbs.twimg.com/profile_banners/31413260/1401901120',\n",
       "   'profile_image_url': 'http://pbs.twimg.com/profile_images/474236175612252160/bqJEE8hm_normal.jpeg',\n",
       "   'profile_image_url_https': 'https://pbs.twimg.com/profile_images/474236175612252160/bqJEE8hm_normal.jpeg',\n",
       "   'profile_link_color': '27D9F0',\n",
       "   'profile_sidebar_border_color': 'FFFFFF',\n",
       "   'profile_sidebar_fill_color': '99CC33',\n",
       "   'profile_text_color': '3E4415',\n",
       "   'profile_use_background_image': True,\n",
       "   'protected': False,\n",
       "   'screen_name': 'EnergyInDepth',\n",
       "   'statuses_count': 17334,\n",
       "   'time_zone': 'Eastern Time (US & Canada)',\n",
       "   'translator_type': 'none',\n",
       "   'url': 'http://t.co/g6On4i5Vxb',\n",
       "   'utc_offset': -18000,\n",
       "   'verified': False}},\n",
       " 'source': '<a href=\"https://mobile.twitter.com\" rel=\"nofollow\">Twitter Lite</a>',\n",
       " 'truncated': False,\n",
       " 'user': {'contributors_enabled': False,\n",
       "  'created_at': 'Fri Mar 11 23:00:53 +0000 2011',\n",
       "  'default_profile': False,\n",
       "  'default_profile_image': True,\n",
       "  'description': 'For: Making a Better USA. Pollution Free Clean Energy Wind Turbines. For Saving The Environment & All Its Living Creatures. Seniors, Babies, Children Health.',\n",
       "  'entities': {'description': {'urls': []}},\n",
       "  'favourites_count': 439883,\n",
       "  'follow_request_sent': None,\n",
       "  'followers_count': 4383,\n",
       "  'following': None,\n",
       "  'friends_count': 5000,\n",
       "  'geo_enabled': False,\n",
       "  'has_extended_profile': False,\n",
       "  'id': 264451340,\n",
       "  'id_str': '264451340',\n",
       "  'is_translation_enabled': False,\n",
       "  'is_translator': False,\n",
       "  'lang': 'en',\n",
       "  'listed_count': 917,\n",
       "  'location': 'USA',\n",
       "  'name': 'onahunttoday',\n",
       "  'notifications': None,\n",
       "  'profile_background_color': 'C0DEED',\n",
       "  'profile_background_image_url': 'http://abs.twimg.com/images/themes/theme1/bg.png',\n",
       "  'profile_background_image_url_https': 'https://abs.twimg.com/images/themes/theme1/bg.png',\n",
       "  'profile_background_tile': True,\n",
       "  'profile_image_url': 'http://abs.twimg.com/sticky/default_profile_images/default_profile_normal.png',\n",
       "  'profile_image_url_https': 'https://abs.twimg.com/sticky/default_profile_images/default_profile_normal.png',\n",
       "  'profile_link_color': '0084B4',\n",
       "  'profile_sidebar_border_color': 'FFFFFF',\n",
       "  'profile_sidebar_fill_color': 'DDEEF6',\n",
       "  'profile_text_color': '333333',\n",
       "  'profile_use_background_image': True,\n",
       "  'protected': False,\n",
       "  'screen_name': 'onahunttoday',\n",
       "  'statuses_count': 511733,\n",
       "  'time_zone': 'Eastern Time (US & Canada)',\n",
       "  'translator_type': 'none',\n",
       "  'url': None,\n",
       "  'utc_offset': -18000,\n",
       "  'verified': False}}"
      ]
     },
     "execution_count": 7,
     "metadata": {},
     "output_type": "execute_result"
    }
   ],
   "source": [
    "tweets_stream_data[0]"
   ]
  },
  {
   "cell_type": "markdown",
   "metadata": {},
   "source": [
    "### Load Tweets into a DataFrame"
   ]
  },
  {
   "cell_type": "code",
   "execution_count": 8,
   "metadata": {
    "collapsed": true
   },
   "outputs": [],
   "source": [
    "def make_df(tweets_data):\n",
    "    \n",
    "    tweetsDF = pd.DataFrame()\n",
    "    tweetsDF['user'] = [tweet['user']['screen_name'] for tweet in tweets_data]\n",
    "    tweetsDF['created_at'] = [datetime.strptime(tweet['created_at'], '%a %b %d %H:%M:%S %z %Y') for tweet in tweets_data] \n",
    "    \n",
    "    text = []\n",
    "\n",
    "    for tweet in tweets_data:\n",
    "        try: \n",
    "            text.append(tweet['retweeted_status']['full_text'])\n",
    "        except KeyError:       \n",
    "            text.append(tweet['full_text'])\n",
    "        \n",
    "    tweetsDF['full_text'] = text\n",
    "    \n",
    "    tweetsDF['truncated'] = [tweet['truncated'] for tweet in tweets_data]\n",
    "    tweetsDF['contains_url'] = tweetsDF['full_text'].str.contains('https', regex=True)*1\n",
    "    tweetsDF['favorite_count'] = [tweet['favorite_count'] for tweet in tweets_data]\n",
    "    tweetsDF['location'] = [tweet['place']['country'] if tweet['place'] != None else None \n",
    "                            for tweet in tweets_data]\n",
    "    tweetsDF['time_zone'] = [tweet['user']['time_zone'] for tweet in tweets_data]\n",
    "    tweetsDF['following_count'] = [tweet['user']['friends_count'] for tweet in tweets_data]\n",
    "    tweetsDF['followers_count'] = [tweet['user']['followers_count'] for tweet in tweets_data]\n",
    "    tweetsDF['retweet_count'] = [tweet['retweet_count'] for tweet in tweets_data]\n",
    "    \n",
    "    return tweetsDF"
   ]
  },
  {
   "cell_type": "code",
   "execution_count": 9,
   "metadata": {
    "collapsed": true
   },
   "outputs": [],
   "source": [
    "tweetsDF = make_df(tweets_data)"
   ]
  },
  {
   "cell_type": "code",
   "execution_count": 10,
   "metadata": {
    "scrolled": true
   },
   "outputs": [
    {
     "data": {
      "text/plain": [
       "user               object             \n",
       "created_at         datetime64[ns, UTC]\n",
       "full_text          object             \n",
       "truncated          bool               \n",
       "contains_url       int64              \n",
       "favorite_count     int64              \n",
       "location           object             \n",
       "time_zone          object             \n",
       "following_count    int64              \n",
       "followers_count    int64              \n",
       "retweet_count      int64              \n",
       "dtype: object"
      ]
     },
     "execution_count": 10,
     "metadata": {},
     "output_type": "execute_result"
    }
   ],
   "source": [
    "tweetsDF.dtypes"
   ]
  },
  {
   "cell_type": "code",
   "execution_count": 11,
   "metadata": {},
   "outputs": [
    {
     "data": {
      "text/plain": [
       "'https://t.co/Yu7IgoHsYd population control will not reverse or mitigate climate change here is the logic and evidence #PopulationControlLaw'"
      ]
     },
     "execution_count": 11,
     "metadata": {},
     "output_type": "execute_result"
    }
   ],
   "source": [
    "tweetsDF.full_text[0]"
   ]
  },
  {
   "cell_type": "code",
   "execution_count": 12,
   "metadata": {
    "collapsed": true
   },
   "outputs": [],
   "source": [
    "tweets_streamedDF = make_df(tweets_stream_data)"
   ]
  },
  {
   "cell_type": "code",
   "execution_count": 13,
   "metadata": {},
   "outputs": [
    {
     "data": {
      "text/plain": [
       "user               object             \n",
       "created_at         datetime64[ns, UTC]\n",
       "full_text          object             \n",
       "truncated          bool               \n",
       "contains_url       int64              \n",
       "favorite_count     int64              \n",
       "location           object             \n",
       "time_zone          object             \n",
       "following_count    int64              \n",
       "followers_count    int64              \n",
       "retweet_count      int64              \n",
       "dtype: object"
      ]
     },
     "execution_count": 13,
     "metadata": {},
     "output_type": "execute_result"
    }
   ],
   "source": [
    "tweets_streamedDF.dtypes"
   ]
  },
  {
   "cell_type": "code",
   "execution_count": 14,
   "metadata": {},
   "outputs": [
    {
     "data": {
      "text/plain": [
       "'Memo from activist-lawyer @MattPawa to @TomSteyer outlines strategy to charge energy companies with causing global warming https://t.co/DvBfY2ZHwz https://t.co/cVvXlg7O4I'"
      ]
     },
     "execution_count": 14,
     "metadata": {},
     "output_type": "execute_result"
    }
   ],
   "source": [
    "tweets_streamedDF.full_text[0]"
   ]
  },
  {
   "cell_type": "markdown",
   "metadata": {},
   "source": [
    "Put both sets of tweets together for full corpus.  Retain smaller set for testing purposes."
   ]
  },
  {
   "cell_type": "code",
   "execution_count": 15,
   "metadata": {
    "collapsed": true
   },
   "outputs": [],
   "source": [
    "sampleDF = tweetsDF"
   ]
  },
  {
   "cell_type": "code",
   "execution_count": 16,
   "metadata": {
    "collapsed": true
   },
   "outputs": [],
   "source": [
    "fullDF = pd.concat([tweets_streamedDF, tweetsDF], ignore_index = True)"
   ]
  },
  {
   "cell_type": "code",
   "execution_count": 17,
   "metadata": {
    "scrolled": true
   },
   "outputs": [
    {
     "name": "stdout",
     "output_type": "stream",
     "text": [
      "<class 'pandas.core.frame.DataFrame'>\n",
      "RangeIndex: 17579 entries, 0 to 17578\n",
      "Data columns (total 11 columns):\n",
      "user               17579 non-null object\n",
      "created_at         17579 non-null datetime64[ns, UTC]\n",
      "full_text          17579 non-null object\n",
      "truncated          17579 non-null bool\n",
      "contains_url       17579 non-null int64\n",
      "favorite_count     17579 non-null int64\n",
      "location           229 non-null object\n",
      "time_zone          10438 non-null object\n",
      "following_count    17579 non-null int64\n",
      "followers_count    17579 non-null int64\n",
      "retweet_count      17579 non-null int64\n",
      "dtypes: bool(1), datetime64[ns, UTC](1), int64(5), object(4)\n",
      "memory usage: 1.4+ MB\n"
     ]
    }
   ],
   "source": [
    "sampleDF.info()"
   ]
  },
  {
   "cell_type": "code",
   "execution_count": 18,
   "metadata": {},
   "outputs": [
    {
     "name": "stdout",
     "output_type": "stream",
     "text": [
      "<class 'pandas.core.frame.DataFrame'>\n",
      "RangeIndex: 180920 entries, 0 to 180919\n",
      "Data columns (total 11 columns):\n",
      "user               180920 non-null object\n",
      "created_at         180920 non-null datetime64[ns, UTC]\n",
      "full_text          180920 non-null object\n",
      "truncated          180920 non-null bool\n",
      "contains_url       180920 non-null int64\n",
      "favorite_count     180920 non-null int64\n",
      "location           1991 non-null object\n",
      "time_zone          106776 non-null object\n",
      "following_count    180920 non-null int64\n",
      "followers_count    180920 non-null int64\n",
      "retweet_count      180920 non-null int64\n",
      "dtypes: bool(1), datetime64[ns, UTC](1), int64(5), object(4)\n",
      "memory usage: 14.0+ MB\n"
     ]
    }
   ],
   "source": [
    "fullDF.info()"
   ]
  },
  {
   "cell_type": "markdown",
   "metadata": {},
   "source": [
    "## Clean Tweets"
   ]
  },
  {
   "cell_type": "code",
   "execution_count": 19,
   "metadata": {
    "collapsed": true
   },
   "outputs": [],
   "source": [
    "def clean_tweets(tweet_DF):\n",
    "    \n",
    "    # Remove #-signs, but keep words from hashtag\n",
    "    tweet_DF.full_text.replace(regex=True, inplace = True, to_replace = r'#', value = r'') \n",
    "    \n",
    "    cleaned_tweets = []\n",
    "    for tweet in tweet_DF.full_text:\n",
    "        cleaned_tweets.append(p.clean(tweet))\n",
    "    tweet_DF['full_text'] = cleaned_tweets\n",
    "    \n",
    "     # Remove ampersand code\n",
    "    tweet_DF.full_text.replace(regex=True, inplace = True, to_replace = r'&amp;', value = r'and')\n",
    "    \n",
    "    tweets = []\n",
    "    for tweet in tweet_DF.full_text:\n",
    "        letters_only = re.sub(\"[^a-zA-Z]\", \" \", tweet) \n",
    "        words = ' '.join(letters_only.lower().split())\n",
    "        tweets.append(words)\n",
    "    tweet_DF['full_text'] = tweets\n",
    "    \n",
    "    return tweet_DF"
   ]
  },
  {
   "cell_type": "code",
   "execution_count": 20,
   "metadata": {
    "collapsed": true
   },
   "outputs": [],
   "source": [
    "sampleDF = clean_tweets(sampleDF)"
   ]
  },
  {
   "cell_type": "code",
   "execution_count": 21,
   "metadata": {
    "collapsed": true
   },
   "outputs": [],
   "source": [
    "fullDF = clean_tweets(fullDF)"
   ]
  },
  {
   "cell_type": "code",
   "execution_count": 22,
   "metadata": {},
   "outputs": [
    {
     "data": {
      "text/plain": [
       "'population control will not reverse or mitigate climate change here is the logic and evidence populationcontrollaw'"
      ]
     },
     "execution_count": 22,
     "metadata": {},
     "output_type": "execute_result"
    }
   ],
   "source": [
    "sampleDF.full_text[0]"
   ]
  },
  {
   "cell_type": "code",
   "execution_count": 23,
   "metadata": {},
   "outputs": [
    {
     "data": {
      "text/plain": [
       "'memo from activist lawyer to outlines strategy to charge energy companies with causing global warming'"
      ]
     },
     "execution_count": 23,
     "metadata": {},
     "output_type": "execute_result"
    }
   ],
   "source": [
    "fullDF.full_text[0]"
   ]
  },
  {
   "cell_type": "markdown",
   "metadata": {},
   "source": [
    "## Sentiment Analysis"
   ]
  },
  {
   "cell_type": "code",
   "execution_count": 24,
   "metadata": {
    "collapsed": true
   },
   "outputs": [],
   "source": [
    "def append_sentiment(tweetsDF):\n",
    "    \n",
    "    bloblist = []\n",
    "    for tweet in tweetsDF.full_text:\n",
    "        blob = TextBlob(tweet)\n",
    "        bloblist.append(blob)\n",
    "        \n",
    "    sentlist = []\n",
    "    for blob in bloblist:\n",
    "        bs = blob.sentiment\n",
    "        sentlist.append(bs)\n",
    "\n",
    "    sentDF = pd.DataFrame()\n",
    "    sentDF['sentiment'] = sentlist\n",
    "    \n",
    "    sentDF = sentDF.sentiment.apply(pd.Series)\n",
    "    sentDF.rename(columns={0: 'polarity', 1: 'subjectivity'}, inplace=True)\n",
    "    \n",
    "    tweetsDF['Polarity'] = sentDF.polarity\n",
    "    tweetsDF['Subjectivity'] = sentDF.subjectivity\n",
    "    \n",
    "    return tweetsDF"
   ]
  },
  {
   "cell_type": "code",
   "execution_count": 25,
   "metadata": {
    "collapsed": true
   },
   "outputs": [],
   "source": [
    "sampleDF = append_sentiment(sampleDF)"
   ]
  },
  {
   "cell_type": "code",
   "execution_count": 26,
   "metadata": {
    "collapsed": true
   },
   "outputs": [],
   "source": [
    "fullDF = append_sentiment(fullDF)"
   ]
  },
  {
   "cell_type": "code",
   "execution_count": 27,
   "metadata": {},
   "outputs": [
    {
     "name": "stdout",
     "output_type": "stream",
     "text": [
      "Sample:\n",
      "Polarity: 0.04950138866188848\n",
      "Subjectivity: 0.3255819384331037\n"
     ]
    }
   ],
   "source": [
    "print('Sample:')\n",
    "print('Polarity:', sampleDF.Polarity.mean())\n",
    "print('Subjectivity:', sampleDF.Subjectivity.mean())"
   ]
  },
  {
   "cell_type": "code",
   "execution_count": 28,
   "metadata": {},
   "outputs": [
    {
     "name": "stdout",
     "output_type": "stream",
     "text": [
      "Full:\n",
      "Polarity: 0.053287074657702396\n",
      "Subjectivity: 0.3372217454489455\n"
     ]
    }
   ],
   "source": [
    "print('Full:')\n",
    "print('Polarity:', fullDF.Polarity.mean())\n",
    "print('Subjectivity:', fullDF.Subjectivity.mean())"
   ]
  },
  {
   "cell_type": "code",
   "execution_count": 29,
   "metadata": {
    "collapsed": true
   },
   "outputs": [],
   "source": [
    "with open('clean_tweets_sample.pkl', 'wb') as picklefile: # wb: write, binary\n",
    "    pickle.dump(sampleDF, picklefile) #dump data into pickle file"
   ]
  },
  {
   "cell_type": "code",
   "execution_count": 30,
   "metadata": {
    "collapsed": true
   },
   "outputs": [],
   "source": [
    "with open('clean_tweets_full.pkl', 'wb') as picklefile: # wb: write, binary\n",
    "    pickle.dump(fullDF, picklefile) #dump data into pickle file"
   ]
  },
  {
   "cell_type": "code",
   "execution_count": 35,
   "metadata": {},
   "outputs": [
    {
     "data": {
      "text/plain": [
       "17579"
      ]
     },
     "execution_count": 35,
     "metadata": {},
     "output_type": "execute_result"
    }
   ],
   "source": [
    "sampleDF.created_at.count()"
   ]
  },
  {
   "cell_type": "code",
   "execution_count": 37,
   "metadata": {},
   "outputs": [
    {
     "data": {
      "text/plain": [
       "180920"
      ]
     },
     "execution_count": 37,
     "metadata": {},
     "output_type": "execute_result"
    }
   ],
   "source": [
    "fullDF.created_at.count()"
   ]
  },
  {
   "cell_type": "markdown",
   "metadata": {
    "heading_collapsed": true
   },
   "source": [
    "## Location"
   ]
  },
  {
   "cell_type": "code",
   "execution_count": 13,
   "metadata": {
    "hidden": true
   },
   "outputs": [
    {
     "data": {
      "text/plain": [
       "array([None, 'Singapore', 'Australia', 'United Kingdom', 'India',\n",
       "       'Canada', 'United States', 'Kenya', 'Indonesia', 'Malaysia',\n",
       "       'Mexico', 'Spain', 'Thailand', 'Austria', 'Ireland', 'Denmark',\n",
       "       'Greece', 'Mali', 'Norway', 'Japan', 'Finland', 'New Zealand',\n",
       "       'Fiji'], dtype=object)"
      ]
     },
     "execution_count": 13,
     "metadata": {},
     "output_type": "execute_result"
    }
   ],
   "source": [
    "pd.unique(tweetsDF.location)"
   ]
  },
  {
   "cell_type": "code",
   "execution_count": 14,
   "metadata": {
    "hidden": true
   },
   "outputs": [
    {
     "data": {
      "text/plain": [
       "array(['Amsterdam', None, 'Central Time (US & Canada)', 'London',\n",
       "       'Mountain Time (US & Canada)', 'Bern', 'Alaska', 'Baghdad',\n",
       "       'Sydney', 'Casablanca', 'Eastern Time (US & Canada)', 'Athens',\n",
       "       'Pacific Time (US & Canada)', 'America/Chicago', 'Nairobi',\n",
       "       'Quito', 'Bogota', 'Europe/London', 'Brasilia', 'Arizona',\n",
       "       'Midway Island', 'Kabul', 'Brisbane', 'Helsinki', 'Wellington',\n",
       "       'Edinburgh', 'Atlantic Time (Canada)', 'Dublin', 'Pretoria',\n",
       "       'Paris', 'Copenhagen', 'Melbourne', 'Stockholm', 'Africa/Nairobi',\n",
       "       'Berlin', 'Belgrade', 'Canberra', 'Bucharest', \"Nuku'alofa\",\n",
       "       'America/Los_Angeles', 'Monterrey', 'Madrid', 'Hawaii', 'Warsaw',\n",
       "       'Brussels', 'Bangkok', 'Hanoi', 'Greenland', 'Vienna',\n",
       "       'Europe/Madrid', 'Kuala Lumpur', 'Karachi', 'Kyiv', 'Buenos Aires',\n",
       "       'Tbilisi', 'New Delhi', 'Mid-Atlantic', 'Prague',\n",
       "       'America/Toronto', 'PST', 'Singapore', 'Perth', 'Budapest',\n",
       "       'Santiago', 'America/New_York', 'Chennai', 'Cairo', 'Islamabad',\n",
       "       'Zagreb', 'America/Phoenix', 'Abu Dhabi', 'Tokyo', 'Europe/Berlin',\n",
       "       'Ljubljana', 'Adelaide', 'La Paz', 'Irkutsk', 'Mexico City',\n",
       "       'Caracas', 'Dhaka', 'Riyadh', 'Hobart',\n",
       "       'International Date Line West', 'Tehran', 'Jakarta', 'Mumbai',\n",
       "       'Hong Kong', 'West Central Africa', 'Beijing', 'Newfoundland',\n",
       "       'Europe/Athens', 'Asia/Kolkata', 'Rome', 'New Caledonia',\n",
       "       'America/Santiago', 'Kathmandu', 'Auckland', 'America/Detroit',\n",
       "       'Australia/Brisbane', 'America/Denver', 'Indiana (East)', 'Darwin',\n",
       "       'UTC', 'Solomon Is.', 'Jerusalem', 'Africa/Dar_es_Salaam',\n",
       "       'Saskatchewan', 'GMT', 'Seoul', 'Georgetown', 'Minsk', 'Lima',\n",
       "       'Lisbon', 'Europe/Zurich', 'America/Halifax', 'America/Edmonton',\n",
       "       'Asia/Calcutta', 'Africa/Algiers', 'Europe/Moscow', 'Riga',\n",
       "       'Tijuana', 'Europe/Bucharest', 'Europe/Amsterdam', 'Bratislava',\n",
       "       'Europe/Istanbul', 'Urumqi', 'Africa/Kampala', 'Istanbul',\n",
       "       'Europe/Dublin', 'Kolkata', 'Kuwait', 'Baku', 'Rangoon', 'Yakutsk',\n",
       "       'Pacific/Auckland', 'Ekaterinburg', 'Chihuahua', 'America/Boise',\n",
       "       'Guam', 'America/Vancouver', 'Central America', 'Europe/Rome',\n",
       "       'Tallinn', 'BST', 'Volgograd', 'Almaty', 'Europe/Brussels',\n",
       "       'Asia/Bangkok', 'Australia/Sydney', 'Monrovia', 'Moscow',\n",
       "       'Mazatlan', 'Africa/Lagos', 'Africa/Johannesburg', 'Muscat',\n",
       "       'Asia/Baghdad', 'St. Petersburg', 'Europe/Helsinki',\n",
       "       'Sri Jayawardenepura', 'Pacific/Honolulu', 'EST', 'MDT', 'Osaka',\n",
       "       'Pacific/Fiji', 'Sofia', 'Asia/Karachi', 'Astana',\n",
       "       'Australia/Hobart', 'Harare', 'CAT', 'Europe/Kiev', 'Europe/Paris',\n",
       "       'America/Tegucigalpa', 'America/Argentina/Buenos_Aires', 'Vilnius',\n",
       "       'GMT+8', 'America/Tijuana', 'America/Dawson', 'Asia/Dubai',\n",
       "       'Asia/Manila', 'Taipei', 'EDT', 'CST', 'Asia/Kuala_Lumpur', 'Fiji',\n",
       "       'America/Puerto_Rico', 'Azores', 'Asia/Jakarta',\n",
       "       'America/Montreal'], dtype=object)"
      ]
     },
     "execution_count": 14,
     "metadata": {},
     "output_type": "execute_result"
    }
   ],
   "source": [
    "pd.unique(tweetsDF.time_zone)"
   ]
  },
  {
   "cell_type": "code",
   "execution_count": 15,
   "metadata": {
    "hidden": true
   },
   "outputs": [
    {
     "data": {
      "text/plain": [
       "229"
      ]
     },
     "execution_count": 15,
     "metadata": {},
     "output_type": "execute_result"
    }
   ],
   "source": [
    "sum(tweetsDF.location.value_counts())"
   ]
  },
  {
   "cell_type": "code",
   "execution_count": 16,
   "metadata": {
    "hidden": true
   },
   "outputs": [
    {
     "data": {
      "text/plain": [
       "10438"
      ]
     },
     "execution_count": 16,
     "metadata": {},
     "output_type": "execute_result"
    }
   ],
   "source": [
    "sum(tweetsDF.time_zone.value_counts())"
   ]
  },
  {
   "cell_type": "code",
   "execution_count": null,
   "metadata": {
    "collapsed": true,
    "hidden": true
   },
   "outputs": [],
   "source": []
  }
 ],
 "metadata": {
  "kernelspec": {
   "display_name": "Python 3",
   "language": "python",
   "name": "python3"
  },
  "language_info": {
   "codemirror_mode": {
    "name": "ipython",
    "version": 3
   },
   "file_extension": ".py",
   "mimetype": "text/x-python",
   "name": "python",
   "nbconvert_exporter": "python",
   "pygments_lexer": "ipython3",
   "version": "3.6.3"
  },
  "toc": {
   "nav_menu": {},
   "number_sections": true,
   "sideBar": true,
   "skip_h1_title": false,
   "toc_cell": false,
   "toc_position": {},
   "toc_section_display": "block",
   "toc_window_display": false
  }
 },
 "nbformat": 4,
 "nbformat_minor": 2
}
