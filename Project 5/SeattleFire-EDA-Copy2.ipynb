{
 "cells": [
  {
   "cell_type": "code",
   "execution_count": 1,
   "metadata": {
    "collapsed": true
   },
   "outputs": [],
   "source": [
    "import pandas as pd\n",
    "import matplotlib as plt\n",
    "%matplotlib inline\n",
    "pd.set_option('display.max_rows', None) "
   ]
  },
  {
   "cell_type": "code",
   "execution_count": 2,
   "metadata": {
    "scrolled": true
   },
   "outputs": [
    {
     "name": "stderr",
     "output_type": "stream",
     "text": [
      "/Users/emilygeller/anaconda3/lib/python3.6/site-packages/IPython/core/interactiveshell.py:2698: DtypeWarning: Columns (3) have mixed types. Specify dtype option on import or set low_memory=False.\n",
      "  interactivity=interactivity, compiler=compiler, result=result)\n"
     ]
    }
   ],
   "source": [
    "firecalls = pd.read_csv('./Seattle_Real_Time_Fire_911_Calls.csv')"
   ]
  },
  {
   "cell_type": "code",
   "execution_count": 3,
   "metadata": {
    "scrolled": true
   },
   "outputs": [
    {
     "data": {
      "text/plain": [
       "188"
      ]
     },
     "execution_count": 3,
     "metadata": {},
     "output_type": "execute_result"
    }
   ],
   "source": [
    "len(firecalls.Type.unique())"
   ]
  },
  {
   "cell_type": "code",
   "execution_count": 4,
   "metadata": {
    "collapsed": true,
    "scrolled": true
   },
   "outputs": [],
   "source": [
    "firecalls = firecalls.drop(0)"
   ]
  },
  {
   "cell_type": "code",
   "execution_count": 5,
   "metadata": {
    "scrolled": true
   },
   "outputs": [
    {
     "data": {
      "text/plain": [
       "'11/09/2011 11:33:00 PM +0000'"
      ]
     },
     "execution_count": 5,
     "metadata": {},
     "output_type": "execute_result"
    }
   ],
   "source": [
    "firecalls.Datetime[1]"
   ]
  },
  {
   "cell_type": "code",
   "execution_count": 6,
   "metadata": {
    "collapsed": true
   },
   "outputs": [],
   "source": [
    "from dateutil import parser\n",
    "parsed_date = parser.parse(firecalls.Datetime[1])"
   ]
  },
  {
   "cell_type": "code",
   "execution_count": 7,
   "metadata": {
    "collapsed": true
   },
   "outputs": [],
   "source": [
    "firecalls['Datetime'] = firecalls.Datetime.str.replace(r'\\+.*','')"
   ]
  },
  {
   "cell_type": "code",
   "execution_count": 8,
   "metadata": {
    "collapsed": true
   },
   "outputs": [],
   "source": [
    "from datetime import datetime\n",
    "from tqdm import tqdm"
   ]
  },
  {
   "cell_type": "code",
   "execution_count": 9,
   "metadata": {},
   "outputs": [
    {
     "data": {
      "text/plain": [
       "datetime.datetime(2011, 11, 9, 23, 33)"
      ]
     },
     "execution_count": 9,
     "metadata": {},
     "output_type": "execute_result"
    }
   ],
   "source": [
    "datetime.strptime(firecalls.Datetime[1], '%m/%d/%Y %I:%M:%S %p ')"
   ]
  },
  {
   "cell_type": "code",
   "execution_count": 10,
   "metadata": {},
   "outputs": [
    {
     "name": "stderr",
     "output_type": "stream",
     "text": [
      "5it [00:00, 5518.82it/s]"
     ]
    },
    {
     "name": "stdout",
     "output_type": "stream",
     "text": [
      "1 11/09/2011 11:33:00 PM \n",
      "2 11/09/2011 11:32:00 PM \n",
      "3 11/09/2011 11:32:00 PM \n",
      "4 11/09/2011 11:29:00 PM \n",
      "5 11/09/2011 11:25:00 PM \n"
     ]
    },
    {
     "name": "stderr",
     "output_type": "stream",
     "text": [
      "\n"
     ]
    }
   ],
   "source": [
    "for key, value in tqdm(firecalls.Datetime.head().iteritems()):\n",
    "    print(key, value)"
   ]
  },
  {
   "cell_type": "code",
   "execution_count": 23,
   "metadata": {},
   "outputs": [
    {
     "data": {
      "text/html": [
       "<div>\n",
       "<style>\n",
       "    .dataframe thead tr:only-child th {\n",
       "        text-align: right;\n",
       "    }\n",
       "\n",
       "    .dataframe thead th {\n",
       "        text-align: left;\n",
       "    }\n",
       "\n",
       "    .dataframe tbody tr th {\n",
       "        vertical-align: top;\n",
       "    }\n",
       "</style>\n",
       "<table border=\"1\" class=\"dataframe\">\n",
       "  <thead>\n",
       "    <tr style=\"text-align: right;\">\n",
       "      <th></th>\n",
       "      <th>Address</th>\n",
       "      <th>Type</th>\n",
       "      <th>Datetime</th>\n",
       "      <th>Latitude</th>\n",
       "      <th>Longitude</th>\n",
       "      <th>Report Location</th>\n",
       "      <th>Incident Number</th>\n",
       "      <th>Date</th>\n",
       "      <th>Month</th>\n",
       "      <th>Year</th>\n",
       "    </tr>\n",
       "  </thead>\n",
       "  <tbody>\n",
       "    <tr>\n",
       "      <th>1</th>\n",
       "      <td>6900 37th Av S</td>\n",
       "      <td>Medic Response</td>\n",
       "      <td>2011-11-09 23:33:00</td>\n",
       "      <td>47.540683</td>\n",
       "      <td>-122.286131</td>\n",
       "      <td>(47.540683, -122.286131)</td>\n",
       "      <td>F110104166</td>\n",
       "      <td>2011-11-09</td>\n",
       "      <td>11</td>\n",
       "      <td>2011</td>\n",
       "    </tr>\n",
       "    <tr>\n",
       "      <th>2</th>\n",
       "      <td>N 50th St / Stone Way N</td>\n",
       "      <td>Aid Response</td>\n",
       "      <td>2011-11-09 23:32:00</td>\n",
       "      <td>47.665034</td>\n",
       "      <td>-122.340207</td>\n",
       "      <td>(47.665034, -122.340207)</td>\n",
       "      <td>F110104164</td>\n",
       "      <td>2011-11-09</td>\n",
       "      <td>11</td>\n",
       "      <td>2011</td>\n",
       "    </tr>\n",
       "    <tr>\n",
       "      <th>3</th>\n",
       "      <td>E John St / E Olive Way</td>\n",
       "      <td>Aid Response</td>\n",
       "      <td>2011-11-09 23:32:00</td>\n",
       "      <td>47.619575</td>\n",
       "      <td>-122.324257</td>\n",
       "      <td>(47.619575, -122.324257)</td>\n",
       "      <td>F110104165</td>\n",
       "      <td>2011-11-09</td>\n",
       "      <td>11</td>\n",
       "      <td>2011</td>\n",
       "    </tr>\n",
       "    <tr>\n",
       "      <th>4</th>\n",
       "      <td>611 12th Av S</td>\n",
       "      <td>Aid Response</td>\n",
       "      <td>2011-11-09 23:29:00</td>\n",
       "      <td>47.597406</td>\n",
       "      <td>-122.317228</td>\n",
       "      <td>(47.597406, -122.317228)</td>\n",
       "      <td>F110104162</td>\n",
       "      <td>2011-11-09</td>\n",
       "      <td>11</td>\n",
       "      <td>2011</td>\n",
       "    </tr>\n",
       "    <tr>\n",
       "      <th>5</th>\n",
       "      <td>4545 42nd Av Sw</td>\n",
       "      <td>Automatic Medical Alarm</td>\n",
       "      <td>2011-11-09 23:25:00</td>\n",
       "      <td>47.562472</td>\n",
       "      <td>-122.385455</td>\n",
       "      <td>(47.562472, -122.385455)</td>\n",
       "      <td>F110104161</td>\n",
       "      <td>2011-11-09</td>\n",
       "      <td>11</td>\n",
       "      <td>2011</td>\n",
       "    </tr>\n",
       "    <tr>\n",
       "      <th>6</th>\n",
       "      <td>2124 3rd Av</td>\n",
       "      <td>Investigate Out Of Service</td>\n",
       "      <td>2011-11-09 23:17:00</td>\n",
       "      <td>47.613347</td>\n",
       "      <td>-122.342498</td>\n",
       "      <td>(47.613347, -122.342498)</td>\n",
       "      <td>F110104160</td>\n",
       "      <td>2011-11-09</td>\n",
       "      <td>11</td>\n",
       "      <td>2011</td>\n",
       "    </tr>\n",
       "    <tr>\n",
       "      <th>7</th>\n",
       "      <td>7605 Rainier Av S</td>\n",
       "      <td>Aid Response</td>\n",
       "      <td>2011-11-09 23:07:00</td>\n",
       "      <td>47.534478</td>\n",
       "      <td>-122.269989</td>\n",
       "      <td>(47.534478, -122.269989)</td>\n",
       "      <td>F110104159</td>\n",
       "      <td>2011-11-09</td>\n",
       "      <td>11</td>\n",
       "      <td>2011</td>\n",
       "    </tr>\n",
       "    <tr>\n",
       "      <th>8</th>\n",
       "      <td>2615 Sw Barton St</td>\n",
       "      <td>Medic Response</td>\n",
       "      <td>2011-11-09 23:05:00</td>\n",
       "      <td>47.521023</td>\n",
       "      <td>-122.366095</td>\n",
       "      <td>(47.521023, -122.366095)</td>\n",
       "      <td>F110104158</td>\n",
       "      <td>2011-11-09</td>\n",
       "      <td>11</td>\n",
       "      <td>2011</td>\n",
       "    </tr>\n",
       "    <tr>\n",
       "      <th>9</th>\n",
       "      <td>2028 Ne 65th St</td>\n",
       "      <td>Aid Response</td>\n",
       "      <td>2011-11-09 23:03:00</td>\n",
       "      <td>47.675778</td>\n",
       "      <td>-122.305907</td>\n",
       "      <td>(47.675778, -122.305907)</td>\n",
       "      <td>F110104156</td>\n",
       "      <td>2011-11-09</td>\n",
       "      <td>11</td>\n",
       "      <td>2011</td>\n",
       "    </tr>\n",
       "    <tr>\n",
       "      <th>10</th>\n",
       "      <td>4409 7th Av Ne</td>\n",
       "      <td>Trans to AMR</td>\n",
       "      <td>2011-11-09 23:02:00</td>\n",
       "      <td>47.660665</td>\n",
       "      <td>-122.320776</td>\n",
       "      <td>(47.660665, -122.320776)</td>\n",
       "      <td>F110104157</td>\n",
       "      <td>2011-11-09</td>\n",
       "      <td>11</td>\n",
       "      <td>2011</td>\n",
       "    </tr>\n",
       "    <tr>\n",
       "      <th>11</th>\n",
       "      <td>Queen Anne Av N / Boston St</td>\n",
       "      <td>Aid Response</td>\n",
       "      <td>2011-11-09 22:59:00</td>\n",
       "      <td>47.638383</td>\n",
       "      <td>-122.356927</td>\n",
       "      <td>(47.638383, -122.356927)</td>\n",
       "      <td>F110104154</td>\n",
       "      <td>2011-11-09</td>\n",
       "      <td>11</td>\n",
       "      <td>2011</td>\n",
       "    </tr>\n",
       "    <tr>\n",
       "      <th>12</th>\n",
       "      <td>13745 Corliss Av N</td>\n",
       "      <td>Aid Response Yellow</td>\n",
       "      <td>2011-11-09 22:56:00</td>\n",
       "      <td>47.728918</td>\n",
       "      <td>-122.331546</td>\n",
       "      <td>(47.728918, -122.331546)</td>\n",
       "      <td>F110104153</td>\n",
       "      <td>2011-11-09</td>\n",
       "      <td>11</td>\n",
       "      <td>2011</td>\n",
       "    </tr>\n",
       "    <tr>\n",
       "      <th>13</th>\n",
       "      <td>810 Virginia St</td>\n",
       "      <td>Aid Response</td>\n",
       "      <td>2011-11-09 22:55:00</td>\n",
       "      <td>47.615789</td>\n",
       "      <td>-122.336507</td>\n",
       "      <td>(47.615789, -122.336507)</td>\n",
       "      <td>F110104151</td>\n",
       "      <td>2011-11-09</td>\n",
       "      <td>11</td>\n",
       "      <td>2011</td>\n",
       "    </tr>\n",
       "    <tr>\n",
       "      <th>14</th>\n",
       "      <td>11100 ROOSEVELT WAY NE</td>\n",
       "      <td>Aid Response</td>\n",
       "      <td>2011-11-09 22:55:00</td>\n",
       "      <td>47.709352</td>\n",
       "      <td>-122.317864</td>\n",
       "      <td>(47.709352, -122.317864)</td>\n",
       "      <td>F110104152</td>\n",
       "      <td>2011-11-09</td>\n",
       "      <td>11</td>\n",
       "      <td>2011</td>\n",
       "    </tr>\n",
       "    <tr>\n",
       "      <th>15</th>\n",
       "      <td>2600 Sw Thistle St</td>\n",
       "      <td>Medic Response</td>\n",
       "      <td>2011-11-09 22:53:00</td>\n",
       "      <td>47.52828</td>\n",
       "      <td>-122.365857</td>\n",
       "      <td>(47.52828, -122.365857)</td>\n",
       "      <td>F110104150</td>\n",
       "      <td>2011-11-09</td>\n",
       "      <td>11</td>\n",
       "      <td>2011</td>\n",
       "    </tr>\n",
       "    <tr>\n",
       "      <th>16</th>\n",
       "      <td>1930 Post Al</td>\n",
       "      <td>Aid Response</td>\n",
       "      <td>2011-11-09 22:52:00</td>\n",
       "      <td>47.610193</td>\n",
       "      <td>-122.342138</td>\n",
       "      <td>(47.610193, -122.342138)</td>\n",
       "      <td>F110104148</td>\n",
       "      <td>2011-11-09</td>\n",
       "      <td>11</td>\n",
       "      <td>2011</td>\n",
       "    </tr>\n",
       "    <tr>\n",
       "      <th>17</th>\n",
       "      <td>115 16th Av</td>\n",
       "      <td>Aid Response</td>\n",
       "      <td>2011-11-09 22:52:00</td>\n",
       "      <td>47.601973</td>\n",
       "      <td>-122.311568</td>\n",
       "      <td>(47.601973, -122.311568)</td>\n",
       "      <td>F110104149</td>\n",
       "      <td>2011-11-09</td>\n",
       "      <td>11</td>\n",
       "      <td>2011</td>\n",
       "    </tr>\n",
       "    <tr>\n",
       "      <th>18</th>\n",
       "      <td>401 Broadway</td>\n",
       "      <td>Medic Response</td>\n",
       "      <td>2011-11-09 22:46:00</td>\n",
       "      <td>47.605227</td>\n",
       "      <td>-122.320749</td>\n",
       "      <td>(47.605227, -122.320749)</td>\n",
       "      <td>F110104147</td>\n",
       "      <td>2011-11-09</td>\n",
       "      <td>11</td>\n",
       "      <td>2011</td>\n",
       "    </tr>\n",
       "    <tr>\n",
       "      <th>19</th>\n",
       "      <td>16 Valley St</td>\n",
       "      <td>Aid Response</td>\n",
       "      <td>2011-11-09 22:37:00</td>\n",
       "      <td>47.626334</td>\n",
       "      <td>-122.356628</td>\n",
       "      <td>(47.626334, -122.356628)</td>\n",
       "      <td>F110104146</td>\n",
       "      <td>2011-11-09</td>\n",
       "      <td>11</td>\n",
       "      <td>2011</td>\n",
       "    </tr>\n",
       "    <tr>\n",
       "      <th>20</th>\n",
       "      <td>8916 Aurora Av N</td>\n",
       "      <td>Medic Response</td>\n",
       "      <td>2011-11-09 22:29:00</td>\n",
       "      <td>47.693572</td>\n",
       "      <td>-122.344557</td>\n",
       "      <td>(47.693572, -122.344557)</td>\n",
       "      <td>F110104144</td>\n",
       "      <td>2011-11-09</td>\n",
       "      <td>11</td>\n",
       "      <td>2011</td>\n",
       "    </tr>\n",
       "  </tbody>\n",
       "</table>\n",
       "</div>"
      ],
      "text/plain": [
       "                        Address                        Type  \\\n",
       "1                6900 37th Av S              Medic Response   \n",
       "2       N 50th St / Stone Way N                Aid Response   \n",
       "3       E John St / E Olive Way                Aid Response   \n",
       "4                 611 12th Av S                Aid Response   \n",
       "5               4545 42nd Av Sw     Automatic Medical Alarm   \n",
       "6                   2124 3rd Av  Investigate Out Of Service   \n",
       "7             7605 Rainier Av S                Aid Response   \n",
       "8             2615 Sw Barton St              Medic Response   \n",
       "9               2028 Ne 65th St                Aid Response   \n",
       "10               4409 7th Av Ne                Trans to AMR   \n",
       "11  Queen Anne Av N / Boston St                Aid Response   \n",
       "12           13745 Corliss Av N         Aid Response Yellow   \n",
       "13              810 Virginia St                Aid Response   \n",
       "14       11100 ROOSEVELT WAY NE                Aid Response   \n",
       "15           2600 Sw Thistle St              Medic Response   \n",
       "16                 1930 Post Al                Aid Response   \n",
       "17                  115 16th Av                Aid Response   \n",
       "18                 401 Broadway              Medic Response   \n",
       "19                 16 Valley St                Aid Response   \n",
       "20             8916 Aurora Av N              Medic Response   \n",
       "\n",
       "              Datetime   Latitude   Longitude           Report Location  \\\n",
       "1  2011-11-09 23:33:00  47.540683 -122.286131  (47.540683, -122.286131)   \n",
       "2  2011-11-09 23:32:00  47.665034 -122.340207  (47.665034, -122.340207)   \n",
       "3  2011-11-09 23:32:00  47.619575 -122.324257  (47.619575, -122.324257)   \n",
       "4  2011-11-09 23:29:00  47.597406 -122.317228  (47.597406, -122.317228)   \n",
       "5  2011-11-09 23:25:00  47.562472 -122.385455  (47.562472, -122.385455)   \n",
       "6  2011-11-09 23:17:00  47.613347 -122.342498  (47.613347, -122.342498)   \n",
       "7  2011-11-09 23:07:00  47.534478 -122.269989  (47.534478, -122.269989)   \n",
       "8  2011-11-09 23:05:00  47.521023 -122.366095  (47.521023, -122.366095)   \n",
       "9  2011-11-09 23:03:00  47.675778 -122.305907  (47.675778, -122.305907)   \n",
       "10 2011-11-09 23:02:00  47.660665 -122.320776  (47.660665, -122.320776)   \n",
       "11 2011-11-09 22:59:00  47.638383 -122.356927  (47.638383, -122.356927)   \n",
       "12 2011-11-09 22:56:00  47.728918 -122.331546  (47.728918, -122.331546)   \n",
       "13 2011-11-09 22:55:00  47.615789 -122.336507  (47.615789, -122.336507)   \n",
       "14 2011-11-09 22:55:00  47.709352 -122.317864  (47.709352, -122.317864)   \n",
       "15 2011-11-09 22:53:00   47.52828 -122.365857   (47.52828, -122.365857)   \n",
       "16 2011-11-09 22:52:00  47.610193 -122.342138  (47.610193, -122.342138)   \n",
       "17 2011-11-09 22:52:00  47.601973 -122.311568  (47.601973, -122.311568)   \n",
       "18 2011-11-09 22:46:00  47.605227 -122.320749  (47.605227, -122.320749)   \n",
       "19 2011-11-09 22:37:00  47.626334 -122.356628  (47.626334, -122.356628)   \n",
       "20 2011-11-09 22:29:00  47.693572 -122.344557  (47.693572, -122.344557)   \n",
       "\n",
       "   Incident Number        Date  Month  Year  \n",
       "1       F110104166  2011-11-09     11  2011  \n",
       "2       F110104164  2011-11-09     11  2011  \n",
       "3       F110104165  2011-11-09     11  2011  \n",
       "4       F110104162  2011-11-09     11  2011  \n",
       "5       F110104161  2011-11-09     11  2011  \n",
       "6       F110104160  2011-11-09     11  2011  \n",
       "7       F110104159  2011-11-09     11  2011  \n",
       "8       F110104158  2011-11-09     11  2011  \n",
       "9       F110104156  2011-11-09     11  2011  \n",
       "10      F110104157  2011-11-09     11  2011  \n",
       "11      F110104154  2011-11-09     11  2011  \n",
       "12      F110104153  2011-11-09     11  2011  \n",
       "13      F110104151  2011-11-09     11  2011  \n",
       "14      F110104152  2011-11-09     11  2011  \n",
       "15      F110104150  2011-11-09     11  2011  \n",
       "16      F110104148  2011-11-09     11  2011  \n",
       "17      F110104149  2011-11-09     11  2011  \n",
       "18      F110104147  2011-11-09     11  2011  \n",
       "19      F110104146  2011-11-09     11  2011  \n",
       "20      F110104144  2011-11-09     11  2011  "
      ]
     },
     "execution_count": 23,
     "metadata": {},
     "output_type": "execute_result"
    }
   ],
   "source": [
    "firecalls.head(20)"
   ]
  },
  {
   "cell_type": "code",
   "execution_count": 13,
   "metadata": {
    "collapsed": true
   },
   "outputs": [],
   "source": [
    "def convert_to_datetime(date):\n",
    "    try:\n",
    "        return datetime.strptime(date, '%m/%d/%Y %I:%M:%S %p ')\n",
    "    except:\n",
    "        date = date.replace('T24',' 12')\n",
    "        return datetime.strptime(date, ' %Y-%m-%d %I:%M:%S')"
   ]
  },
  {
   "cell_type": "code",
   "execution_count": 14,
   "metadata": {},
   "outputs": [],
   "source": [
    "firecalls['Datetime'] = firecalls.Datetime.apply(convert_to_datetime)"
   ]
  },
  {
   "cell_type": "code",
   "execution_count": 15,
   "metadata": {
    "scrolled": true
   },
   "outputs": [
    {
     "data": {
      "text/plain": [
       "Address            29032\n",
       "Type               29032\n",
       "Datetime           29032\n",
       "Latitude           29032\n",
       "Longitude          29032\n",
       "Report Location     4852\n",
       "Incident Number        0\n",
       "dtype: int64"
      ]
     },
     "execution_count": 15,
     "metadata": {},
     "output_type": "execute_result"
    }
   ],
   "source": [
    "firecalls[firecalls['Incident Number'].isnull()].count()"
   ]
  },
  {
   "cell_type": "code",
   "execution_count": 16,
   "metadata": {},
   "outputs": [
    {
     "data": {
      "text/plain": [
       "285724    F130125433\n",
       "587200    F170001312\n",
       "148345    F120049318\n",
       "649549    F170098725\n",
       "285744    F130124576\n",
       "237948    F130053997\n",
       "515475    F160047438\n",
       "181474    F120097879\n",
       "191702    F120112718\n",
       "459273    F150113811\n",
       "Name: Incident Number, dtype: object"
      ]
     },
     "execution_count": 16,
     "metadata": {},
     "output_type": "execute_result"
    }
   ],
   "source": [
    "firecalls['Incident Number'].sample(10)"
   ]
  },
  {
   "cell_type": "code",
   "execution_count": 18,
   "metadata": {
    "scrolled": true
   },
   "outputs": [],
   "source": [
    "firecalls['Date'] = firecalls.Datetime.dt.date\n",
    "firecalls['Month'] = firecalls.Datetime.dt.month\n",
    "firecalls['Year'] = firecalls.Datetime.dt.year"
   ]
  },
  {
   "cell_type": "code",
   "execution_count": 17,
   "metadata": {},
   "outputs": [],
   "source": [
    "calls_per_day = pd.DataFrame()\n",
    "calls_per_day['Date'] = firecalls.Date"
   ]
  },
  {
   "cell_type": "code",
   "execution_count": 22,
   "metadata": {},
   "outputs": [
    {
     "data": {
      "text/plain": [
       "<matplotlib.axes._subplots.AxesSubplot at 0x11fc41e48>"
      ]
     },
     "execution_count": 22,
     "metadata": {},
     "output_type": "execute_result"
    },
    {
     "data": {
      "image/png": "[encoded data removed]",
      "text/plain": [
       "<matplotlib.figure.Figure at 0x11bebae10>"
      ]
     },
     "metadata": {},
     "output_type": "display_data"
    }
   ],
   "source": [
    "firecalls.groupby(['Year','Month']).count()['Address'].plot()"
   ]
  },
  {
   "cell_type": "code",
   "execution_count": null,
   "metadata": {
    "collapsed": true
   },
   "outputs": [],
   "source": []
  },
  {
   "cell_type": "code",
   "execution_count": null,
   "metadata": {
    "collapsed": true
   },
   "outputs": [],
   "source": []
  },
  {
   "cell_type": "code",
   "execution_count": null,
   "metadata": {
    "collapsed": true
   },
   "outputs": [],
   "source": []
  },
  {
   "cell_type": "code",
   "execution_count": null,
   "metadata": {
    "collapsed": true
   },
   "outputs": [],
   "source": []
  },
  {
   "cell_type": "code",
   "execution_count": null,
   "metadata": {
    "collapsed": true
   },
   "outputs": [],
   "source": []
  },
  {
   "cell_type": "code",
   "execution_count": null,
   "metadata": {
    "collapsed": true
   },
   "outputs": [],
   "source": []
  },
  {
   "cell_type": "code",
   "execution_count": null,
   "metadata": {
    "collapsed": true
   },
   "outputs": [],
   "source": []
  }
 ],
 "metadata": {
  "kernelspec": {
   "display_name": "Python 3",
   "language": "python",
   "name": "python3"
  },
  "language_info": {
   "codemirror_mode": {
    "name": "ipython",
    "version": 3
   },
   "file_extension": ".py",
   "mimetype": "text/x-python",
   "name": "python",
   "nbconvert_exporter": "python",
   "pygments_lexer": "ipython3",
   "version": "3.6.3"
  },
  "toc": {
   "nav_menu": {},
   "number_sections": true,
   "sideBar": true,
   "skip_h1_title": false,
   "toc_cell": false,
   "toc_position": {},
   "toc_section_display": "block",
   "toc_window_display": false
  }
 },
 "nbformat": 4,
 "nbformat_minor": 2
}
