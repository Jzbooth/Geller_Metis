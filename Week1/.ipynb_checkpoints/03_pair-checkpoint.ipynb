{
 "cells": [
  {
   "cell_type": "markdown",
   "metadata": {},
   "source": [
    "#### Pair Problem #1\n",
    "\n",
    "For your Metis application you wrote a program that let's the user guess a number between 1 and 100. Can you write a program that does the reverse. Write a function that takes in a number between 1 and 100 and tries to guess it. Based on whether a guess is larger or smaller than the input number, the code would come up with a new guess until it gets it right.\n",
    "\n",
    "\t\tdef guess(13) would return \"I got it right in 8 tries.\"\n",
    "\n",
    "**What's the complexity of your code? Can you do better?**"
   ]
  },
  {
   "cell_type": "code",
   "execution_count": null,
   "metadata": {
    "collapsed": true
   },
   "outputs": [],
   "source": [
    "def guess(number_to_guess):\n",
    "    count = 0\n",
    "    current_guess = 50\n",
    "    while current_guess != number_to_guess:\n",
    "        if current_guess < number_to_guess:\n",
    "            current_guess += current_guess//2\n",
    "        if "
   ]
  },
  {
   "cell_type": "code",
   "execution_count": 2,
   "metadata": {},
   "outputs": [
    {
     "data": {
      "text/plain": [
       "3"
      ]
     },
     "execution_count": 2,
     "metadata": {},
     "output_type": "execute_result"
    }
   ],
   "source": [
    "7//2"
   ]
  },
  {
   "cell_type": "code",
   "execution_count": 12,
   "metadata": {
    "collapsed": true
   },
   "outputs": [],
   "source": [
    "def guess(number_to_guess):\n",
    "    count = 1\n",
    "    current_guess = 50\n",
    "    while current_guess != number_to_guess:\n",
    "        count += 1\n",
    "        if current_guess < number_to_guess:\n",
    "            current_guess = (100 + current_guess)//2\n",
    "        else:\n",
    "            current_guess = (current_guess)//2\n",
    "    print('I got it right in',count,'tries.')"
   ]
  },
  {
   "cell_type": "code",
   "execution_count": 14,
   "metadata": {},
   "outputs": [
    {
     "ename": "KeyboardInterrupt",
     "evalue": "",
     "output_type": "error",
     "traceback": [
      "\u001b[0;31m---------------------------------------------------------------------------\u001b[0m",
      "\u001b[0;31mKeyboardInterrupt\u001b[0m                         Traceback (most recent call last)",
      "\u001b[0;32m<ipython-input-14-8ebbc8e345bd>\u001b[0m in \u001b[0;36m<module>\u001b[0;34m()\u001b[0m\n\u001b[0;32m----> 1\u001b[0;31m \u001b[0mguess\u001b[0m\u001b[0;34m(\u001b[0m\u001b[0;36m8\u001b[0m\u001b[0;34m)\u001b[0m\u001b[0;34m\u001b[0m\u001b[0m\n\u001b[0m",
      "\u001b[0;32m<ipython-input-12-07e0260007f9>\u001b[0m in \u001b[0;36mguess\u001b[0;34m(number_to_guess)\u001b[0m\n\u001b[1;32m      5\u001b[0m         \u001b[0mcount\u001b[0m \u001b[0;34m+=\u001b[0m \u001b[0;36m1\u001b[0m\u001b[0;34m\u001b[0m\u001b[0m\n\u001b[1;32m      6\u001b[0m         \u001b[0;32mif\u001b[0m \u001b[0mcurrent_guess\u001b[0m \u001b[0;34m<\u001b[0m \u001b[0mnumber_to_guess\u001b[0m\u001b[0;34m:\u001b[0m\u001b[0;34m\u001b[0m\u001b[0m\n\u001b[0;32m----> 7\u001b[0;31m             \u001b[0mcurrent_guess\u001b[0m \u001b[0;34m=\u001b[0m \u001b[0;34m(\u001b[0m\u001b[0;36m100\u001b[0m \u001b[0;34m+\u001b[0m \u001b[0mcurrent_guess\u001b[0m\u001b[0;34m)\u001b[0m\u001b[0;34m//\u001b[0m\u001b[0;36m2\u001b[0m\u001b[0;34m\u001b[0m\u001b[0m\n\u001b[0m\u001b[1;32m      8\u001b[0m         \u001b[0;32melse\u001b[0m\u001b[0;34m:\u001b[0m\u001b[0;34m\u001b[0m\u001b[0m\n\u001b[1;32m      9\u001b[0m             \u001b[0mcurrent_guess\u001b[0m \u001b[0;34m=\u001b[0m \u001b[0;34m(\u001b[0m\u001b[0mcurrent_guess\u001b[0m\u001b[0;34m)\u001b[0m\u001b[0;34m//\u001b[0m\u001b[0;36m2\u001b[0m\u001b[0;34m\u001b[0m\u001b[0m\n",
      "\u001b[0;31mKeyboardInterrupt\u001b[0m: "
     ]
    }
   ],
   "source": [
    "guess(8)"
   ]
  },
  {
   "cell_type": "code",
   "execution_count": 20,
   "metadata": {},
   "outputs": [],
   "source": [
    "def guess(number_to_guess):\n",
    "    count = 1\n",
    "    current_guess = 500\n",
    "    while current_guess != number_to_guess:\n",
    "        count += 1\n",
    "        if current_guess - number_to_guess == 1:\n",
    "            current_guess -= 1\n",
    "        elif current_guess - number_to_guess == -1:\n",
    "            current_guess += 1        \n",
    "        elif current_guess < number_to_guess:\n",
    "            current_guess += current_guess//2\n",
    "        else: \n",
    "            current_guess -= current_guess//2\n",
    "    print('I got it right in',count,'tries.')    "
   ]
  },
  {
   "cell_type": "code",
   "execution_count": 27,
   "metadata": {},
   "outputs": [
    {
     "name": "stdout",
     "output_type": "stream",
     "text": [
      "I got it right in 69 tries.\n"
     ]
    }
   ],
   "source": [
    "guess(1000)"
   ]
  },
  {
   "cell_type": "markdown",
   "metadata": {},
   "source": [
    "#### Pair Problem #2\n",
    "\n",
    "[Project Euler](https://projecteuler.net/) is a site with a lot of problems you can solve.\n",
    "\n",
    "The following is [Problem 8](https://projecteuler.net/problem=8):\n",
    "\n",
    "> The four adjacent digits in the 1000-digit number that have the greatest product are 9 × 9 × 8 × 9 = 5832.\n",
    "\n",
    "```\n",
    "73167176531330624919225119674426574742355349194934\n",
    "96983520312774506326239578318016984801869478851843\n",
    "85861560789112949495459501737958331952853208805511\n",
    "12540698747158523863050715693290963295227443043557\n",
    "66896648950445244523161731856403098711121722383113\n",
    "62229893423380308135336276614282806444486645238749\n",
    "30358907296290491560440772390713810515859307960866\n",
    "70172427121883998797908792274921901699720888093776\n",
    "65727333001053367881220235421809751254540594752243\n",
    "52584907711670556013604839586446706324415722155397\n",
    "53697817977846174064955149290862569321978468622482\n",
    "83972241375657056057490261407972968652414535100474\n",
    "82166370484403199890008895243450658541227588666881\n",
    "16427171479924442928230863465674813919123162824586\n",
    "17866458359124566529476545682848912883142607690042\n",
    "24219022671055626321111109370544217506941658960408\n",
    "07198403850962455444362981230987879927244284909188\n",
    "84580156166097919133875499200524063689912560717606\n",
    "05886116467109405077541002256983155200055935729725\n",
    "71636269561882670428252483600823257530420752963450\n",
    "```\n",
    "\n",
    "> Find the thirteen adjacent digits in the 1000-digit number that have the greatest product. What is the value of this product?\n",
    "\n",
    "*I'd recommend writing a function. Something like, max_product(numberString,adjacentDigits).*\n",
    "\n",
    "**What's the complexity of your code? Can you do better?**\n"
   ]
  },
  {
   "cell_type": "code",
   "execution_count": 50,
   "metadata": {},
   "outputs": [],
   "source": [
    "def max_product(numberString, adjacentDigits):\n",
    "    greatest_product = 0\n",
    "    greatest_product_string = ''\n",
    "    for i in range(len(numberString)-adjacentDigits):\n",
    "        product_string = numberString[i:(i+adjacentDigits)]\n",
    "        current_product = product(product_string,adjacentDigits)\n",
    "        if current_product > greatest_product:\n",
    "            greatest_product = current_product\n",
    "            greatest_product_string = product_string\n",
    "    return 'digits = '+ str(greatest_product_string) + ', greatest product =' + str(greatest_product)"
   ]
  },
  {
   "cell_type": "code",
   "execution_count": 51,
   "metadata": {},
   "outputs": [
    {
     "data": {
      "text/plain": [
       "'digits = 9989, greatest product =5832'"
      ]
     },
     "execution_count": 51,
     "metadata": {},
     "output_type": "execute_result"
    }
   ],
   "source": [
    "max_product('7316717653133062491922511967442657474235534919493496983520312774506326239578318016984801869478851843858615607891129494954595017379583319528532088055111254069874715852386305071569329096329522744304355766896648950445244523161731856403098711121722383113622298934233803081353362766142828064444866452387493035890729629049156044077239071381051585930796086670172427121883998797908792274921901699720888093776657273330010533678812202354218097512545405947522435258490771167055601360483958644670632441572215539753697817977846174064955149290862569321978468622482839722413756570560574902614079729686524145351004748216637048440319989000889524345065854122758866688116427171479924442928230863465674813919123162824586178664583591245665294765456828489128831426076900422421902267105562632111110937054421750694165896040807198403850962455444362981230987879927244284909188845801561660979191338754992005240636899125607176060588611646710940507754100225698315520005593572972571636269561882670428252483600823257530420752963450',4)"
   ]
  },
  {
   "cell_type": "code",
   "execution_count": 33,
   "metadata": {
    "collapsed": true
   },
   "outputs": [],
   "source": [
    "def product(string, adjacentDigits):\n",
    "    init_num = int(string[0])\n",
    "    for i in range(1,adjacentDigits):\n",
    "        init_num *= int(string[i])\n",
    "    return init_num"
   ]
  },
  {
   "cell_type": "code",
   "execution_count": 34,
   "metadata": {},
   "outputs": [
    {
     "data": {
      "text/plain": [
       "6"
      ]
     },
     "execution_count": 34,
     "metadata": {},
     "output_type": "execute_result"
    }
   ],
   "source": [
    "product('23',2)"
   ]
  },
  {
   "cell_type": "code",
   "execution_count": null,
   "metadata": {
    "collapsed": true
   },
   "outputs": [],
   "source": []
  }
 ],
 "metadata": {
  "kernelspec": {
   "display_name": "Python 3",
   "language": "python",
   "name": "python3"
  },
  "language_info": {
   "codemirror_mode": {
    "name": "ipython",
    "version": 3
   },
   "file_extension": ".py",
   "mimetype": "text/x-python",
   "name": "python",
   "nbconvert_exporter": "python",
   "pygments_lexer": "ipython3",
   "version": "3.6.3"
  }
 },
 "nbformat": 4,
 "nbformat_minor": 2
}
