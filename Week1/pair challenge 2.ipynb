{
 "cells": [
  {
   "cell_type": "markdown",
   "metadata": {},
   "source": [
    "### Pair Problem #1\n",
    "\n",
    "Given a string, write a function to reverse it. Do this using a loop, if possible.\n",
    "\n",
    "    reverseString('abcdef') will return 'fedcba'\n",
    "    reverseString('moon') will return 'noom'\n",
    "\n"
   ]
  },
  {
   "cell_type": "code",
   "execution_count": 7,
   "metadata": {
    "collapsed": true
   },
   "outputs": [],
   "source": [
    "def reverseString(str):\n",
    "    str2 = ''\n",
    "    for i in range(len(str)):\n",
    "        str2 = str2 + str[-i-1]\n",
    "    print(str2)"
   ]
  },
  {
   "cell_type": "code",
   "execution_count": 8,
   "metadata": {},
   "outputs": [
    {
     "name": "stdout",
     "output_type": "stream",
     "text": [
      "fedcba\n"
     ]
    }
   ],
   "source": [
    "reverseString('abcdef')"
   ]
  },
  {
   "cell_type": "code",
   "execution_count": 9,
   "metadata": {},
   "outputs": [
    {
     "name": "stdout",
     "output_type": "stream",
     "text": [
      "noom\n"
     ]
    }
   ],
   "source": [
    "reverseString('moon')"
   ]
  },
  {
   "cell_type": "markdown",
   "metadata": {},
   "source": [
    "Or:"
   ]
  },
  {
   "cell_type": "code",
   "execution_count": 39,
   "metadata": {
    "collapsed": true
   },
   "outputs": [],
   "source": [
    "def reverseString(s):\n",
    "    return s[::-1]"
   ]
  },
  {
   "cell_type": "code",
   "execution_count": 40,
   "metadata": {
    "collapsed": true
   },
   "outputs": [],
   "source": [
    "def reverseString(s):\n",
    "    r = ''\n",
    "    for c in s:\n",
    "        r = c + r\n",
    "    return r"
   ]
  },
  {
   "cell_type": "markdown",
   "metadata": {},
   "source": [
    "### Pair Problem #2\n",
    "Sal's classroom has a bag of alphabet magnets. She wants to know if she can spell her friend's name using the letters in the bag. Write a function that will take a list of letters and a name and print out yes if the name can be spelled and no otherwise.\n",
    "\n",
    "    CanYouSpell(['y','n','p','g','n','l'],\"lynn\") would print YES\n",
    "    CanYouSpell(['y','n','p','g','l'],\"lynn\") would print NO\n",
    "When you are done, submit to the Slack channel."
   ]
  },
  {
   "cell_type": "code",
   "execution_count": 38,
   "metadata": {},
   "outputs": [],
   "source": [
    "from collections import defaultdict\n",
    "def CanYouSpell(letters, name):\n",
    "    d = defaultdict(int)\n",
    "    for l in letters:\n",
    "        d[l] += 1\n",
    "    for i in name:\n",
    "        if d[i] == 0:\n",
    "            return 'No'\n",
    "        else:\n",
    "            d[i] -= 1\n",
    "    return 'Yes'"
   ]
  },
  {
   "cell_type": "code",
   "execution_count": 36,
   "metadata": {},
   "outputs": [
    {
     "name": "stdout",
     "output_type": "stream",
     "text": [
      "defaultdict(<class 'int'>, {'y': 1, 'n': 2, 'p': 1, 'g': 1, 'l': 0})\n",
      "defaultdict(<class 'int'>, {'y': 0, 'n': 2, 'p': 1, 'g': 1, 'l': 0})\n",
      "defaultdict(<class 'int'>, {'y': 0, 'n': 1, 'p': 1, 'g': 1, 'l': 0})\n",
      "defaultdict(<class 'int'>, {'y': 0, 'n': 0, 'p': 1, 'g': 1, 'l': 0})\n"
     ]
    },
    {
     "data": {
      "text/plain": [
       "'Yes'"
      ]
     },
     "execution_count": 36,
     "metadata": {},
     "output_type": "execute_result"
    }
   ],
   "source": [
    "CanYouSpell(['y','n','p','g','n','l'],\"lynn\")"
   ]
  },
  {
   "cell_type": "code",
   "execution_count": 37,
   "metadata": {},
   "outputs": [
    {
     "name": "stdout",
     "output_type": "stream",
     "text": [
      "defaultdict(<class 'int'>, {'y': 1, 'n': 1, 'p': 1, 'g': 1, 'l': 0})\n",
      "defaultdict(<class 'int'>, {'y': 0, 'n': 1, 'p': 1, 'g': 1, 'l': 0})\n",
      "defaultdict(<class 'int'>, {'y': 0, 'n': 0, 'p': 1, 'g': 1, 'l': 0})\n"
     ]
    },
    {
     "data": {
      "text/plain": [
       "'No'"
      ]
     },
     "execution_count": 37,
     "metadata": {},
     "output_type": "execute_result"
    }
   ],
   "source": [
    "CanYouSpell(['y','n','p','g','l'],\"lynn\")"
   ]
  },
  {
   "cell_type": "markdown",
   "metadata": {},
   "source": [
    "OR"
   ]
  },
  {
   "cell_type": "code",
   "execution_count": 41,
   "metadata": {
    "collapsed": true
   },
   "outputs": [],
   "source": [
    "def CanYouSpell(mylist,word):\n",
    "    for char in word:\n",
    "        if char in mylist:\n",
    "            mylist.remove(char)\n",
    "        else:\n",
    "            return False\n",
    "    return True"
   ]
  },
  {
   "cell_type": "code",
   "execution_count": 42,
   "metadata": {},
   "outputs": [
    {
     "data": {
      "text/plain": [
       "True"
      ]
     },
     "execution_count": 42,
     "metadata": {},
     "output_type": "execute_result"
    }
   ],
   "source": [
    "CanYouSpell(['y','n','p','g','n','l'],\"lynn\")"
   ]
  },
  {
   "cell_type": "code",
   "execution_count": 44,
   "metadata": {
    "collapsed": true
   },
   "outputs": [],
   "source": [
    "l = ['y','n','p','g','n','l']"
   ]
  },
  {
   "cell_type": "code",
   "execution_count": 45,
   "metadata": {},
   "outputs": [
    {
     "data": {
      "text/plain": [
       "True"
      ]
     },
     "execution_count": 45,
     "metadata": {},
     "output_type": "execute_result"
    }
   ],
   "source": [
    "CanYouSpell(l,\"lynn\")\n"
   ]
  },
  {
   "cell_type": "code",
   "execution_count": 46,
   "metadata": {},
   "outputs": [
    {
     "data": {
      "text/plain": [
       "False"
      ]
     },
     "execution_count": 46,
     "metadata": {},
     "output_type": "execute_result"
    }
   ],
   "source": [
    "CanYouSpell(l,\"lynn\")\n"
   ]
  },
  {
   "cell_type": "code",
   "execution_count": 48,
   "metadata": {},
   "outputs": [],
   "source": [
    "def CanYouSpell(mylist,word):\n",
    "    ar = [0]*26\n",
    "    for char in mylist:\n",
    "        ar[ord(char)-97]+=1\n",
    "    for char in word:\n",
    "        ar[ord(char)-97]-=1\n",
    "        if ar[ord(char)-97]<0:\n",
    "            return False \n",
    "        return True\n",
    "            "
   ]
  },
  {
   "cell_type": "code",
   "execution_count": null,
   "metadata": {
    "collapsed": true
   },
   "outputs": [],
   "source": []
  }
 ],
 "metadata": {
  "kernelspec": {
   "display_name": "Python 3",
   "language": "python",
   "name": "python3"
  },
  "language_info": {
   "codemirror_mode": {
    "name": "ipython",
    "version": 3
   },
   "file_extension": ".py",
   "mimetype": "text/x-python",
   "name": "python",
   "nbconvert_exporter": "python",
   "pygments_lexer": "ipython3",
   "version": "3.6.3"
  }
 },
 "nbformat": 4,
 "nbformat_minor": 2
}
