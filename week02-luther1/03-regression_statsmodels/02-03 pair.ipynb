{
 "cells": [
  {
   "cell_type": "markdown",
   "metadata": {},
   "source": [
    "#### Pair Problem\n",
    "\n",
    "The data for this problem are the numbers 2, 7, 1, 5, and 10.\n",
    "\n",
    "We want to know which of the numbers from 0 to 10 (by tenths) gives the smallest result when we do the following:\n",
    "\n",
    "For each of the numbers in the data, subtract the candidate number and then square the result, then add up these numbers.\n",
    "\n",
    "For example, to test the candidate number 8.2, we do the following:\n",
    "\n",
    "```\n",
    "2 - 8.2 = -6.2\n",
    "         (-6.2)**2 = 38.44\n",
    "7 - 8.2 = -1.2\n",
    "         (-1.2)**2 = 1.44\n",
    "1 - 8.2 = -7.2\n",
    "         (-7.2)**2 = 51.84\n",
    "5 - 8.2 = -3.2\n",
    "         (-3.2)**2 = 10.24\n",
    "10 - 8.2 = 1.8\n",
    "           1.8**2  = 3.24\n",
    "\n",
    "38.44 + 1.44 + 51.84 + 10.24 + 3.24 = 105.2\n",
    "```\n",
    "\n",
    "For candidate number 8.2, the result is 105.2. Can we get a smaller result for any of the other candidate numbers? Try them all and find the candidate number that gives the smallest result.\n",
    "\n",
    "You might identify a shortcut to solving this problem. Write the code to try all the candidate numbers anyway.\n",
    "\n",
    "Once you have an answer, also make a plot to show the results for all the candidate numbers.\n",
    "\n",
    "As an extension, consider what class of problem this exercise represents. Can you write a general solution? Can you write a faster general solution?\n"
   ]
  },
  {
   "cell_type": "code",
   "execution_count": 3,
   "metadata": {
    "collapsed": true
   },
   "outputs": [],
   "source": [
    "import numpy as np\n",
    "import matplotlib.pyplot as plt"
   ]
  },
  {
   "cell_type": "code",
   "execution_count": 5,
   "metadata": {
    "collapsed": true
   },
   "outputs": [],
   "source": [
    "data = [2,7,1,5,10]"
   ]
  },
  {
   "cell_type": "code",
   "execution_count": 9,
   "metadata": {},
   "outputs": [
    {
     "name": "stdout",
     "output_type": "stream",
     "text": [
      "5.0 54.0\n"
     ]
    },
    {
     "data": {
      "image/png": "[encoded data removed]",
      "text/plain": [
       "<matplotlib.figure.Figure at 0x11052a5f8>"
      ]
     },
     "metadata": {},
     "output_type": "display_data"
    }
   ],
   "source": [
    "result = {}\n",
    "for c in np.arange(0, 10.1, 0.1):\n",
    "    c_result = []\n",
    "    for n in data:\n",
    "        c_result.append((n - c) ** 2)\n",
    "        result[np.round(c, 1)] = np.sum(c_result)\n",
    "\n",
    "print(min(result, key=result.get), min(result.values()))\n",
    "plt.plot(result.keys(), result.values())\n",
    "plt.show()"
   ]
  },
  {
   "cell_type": "code",
   "execution_count": null,
   "metadata": {
    "collapsed": true
   },
   "outputs": [],
   "source": []
  },
  {
   "cell_type": "code",
   "execution_count": null,
   "metadata": {
    "collapsed": true
   },
   "outputs": [],
   "source": []
  },
  {
   "cell_type": "code",
   "execution_count": null,
   "metadata": {
    "collapsed": true
   },
   "outputs": [],
   "source": []
  },
  {
   "cell_type": "code",
   "execution_count": null,
   "metadata": {
    "collapsed": true
   },
   "outputs": [],
   "source": []
  }
 ],
 "metadata": {
  "kernelspec": {
   "display_name": "Python 3",
   "language": "python",
   "name": "python3"
  },
  "language_info": {
   "codemirror_mode": {
    "name": "ipython",
    "version": 3
   },
   "file_extension": ".py",
   "mimetype": "text/x-python",
   "name": "python",
   "nbconvert_exporter": "python",
   "pygments_lexer": "ipython3",
   "version": "3.6.3"
  }
 },
 "nbformat": 4,
 "nbformat_minor": 2
}
