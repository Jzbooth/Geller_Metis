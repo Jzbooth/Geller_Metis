{
 "cells": [
  {
   "cell_type": "code",
   "execution_count": 74,
   "metadata": {
    "collapsed": true
   },
   "outputs": [],
   "source": [
    "from collections import Counter\n",
    "import re"
   ]
  },
  {
   "cell_type": "code",
   "execution_count": 9,
   "metadata": {
    "collapsed": true
   },
   "outputs": [],
   "source": [
    "strings = ['ABbCcc',\n",
    "'Good luck in the Facebook Hacker Cup this year!',\n",
    "'Ignore punctuation, please :)',\n",
    "'Sometimes test cases are hard to make up.',\n",
    "'So I just go consult Professor Dalves']"
   ]
  },
  {
   "cell_type": "code",
   "execution_count": 13,
   "metadata": {},
   "outputs": [
    {
     "data": {
      "text/plain": [
       "['a', 'b', 'c']"
      ]
     },
     "execution_count": 13,
     "metadata": {},
     "output_type": "execute_result"
    }
   ],
   "source": [
    "s2 = ''\n",
    "for s in strings[0]:\n",
    "    s2 = s2 + s.lower()\n",
    "s2dict = Counter(s2)\n",
    "sorted(s2dict,key = s2dict.get)\n",
    "    "
   ]
  },
  {
   "cell_type": "code",
   "execution_count": 18,
   "metadata": {},
   "outputs": [
    {
     "data": {
      "text/plain": [
       "Counter({'a': 1, 'b': 2, 'c': 3})"
      ]
     },
     "execution_count": 18,
     "metadata": {},
     "output_type": "execute_result"
    }
   ],
   "source": [
    "s2dict"
   ]
  },
  {
   "cell_type": "code",
   "execution_count": 33,
   "metadata": {},
   "outputs": [
    {
     "data": {
      "text/plain": [
       "3"
      ]
     },
     "execution_count": 33,
     "metadata": {},
     "output_type": "execute_result"
    }
   ],
   "source": [
    "s2sort = sorted(((v,k) for (k,v) in s2dict.items()), reverse = True)\n",
    "len(s2sort)"
   ]
  },
  {
   "cell_type": "code",
   "execution_count": 79,
   "metadata": {},
   "outputs": [
    {
     "name": "stdout",
     "output_type": "stream",
     "text": [
      "0 152\n",
      "1 754\n",
      "2 491\n",
      "3 729\n",
      "4 646\n"
     ]
    }
   ],
   "source": [
    "from collections import Counter\n",
    "import re\n",
    "\n",
    "strings = ['ABbCcc',\n",
    "'Good luck in the Facebook Hacker Cup this year!',\n",
    "'Ignore punctuation, please :)',\n",
    "'Sometimes test cases are hard to make up.',\n",
    "'So I just go consult Professor Dalves']\n",
    "\n",
    "def score_string(s):\n",
    "    s2 = ''\n",
    "    \n",
    "    # Make sure s2 is all lowercase\n",
    "    for c in s:\n",
    "        s2 = s2 + c.lower()\n",
    "    \n",
    "    # Get rid of punctuation and spaces\n",
    "    s2 = re.sub(r'[^\\w]','',s2)\n",
    "    #s2 = s2.replace(' ','')\n",
    "    \n",
    "    # Count occurences of each character\n",
    "    s2dict = Counter(s2)\n",
    "    \n",
    "    # Sort by value\n",
    "    s2sort = sorted(((v,k) for (k,v) in s2dict.items()), reverse = True)\n",
    "    \n",
    "    # Scores count down from 26 to give max value\n",
    "    scores = range(26,0,-1)\n",
    "    score = 0\n",
    "    \n",
    "    # Calculate score for string\n",
    "    for i in range(0,len(s2sort)):\n",
    "        score += scores[i]*s2sort[i][0]\n",
    "    return score\n",
    "\n",
    "for i in range(len(strings)):\n",
    "    print(i, score_string(strings[i]))"
   ]
  },
  {
   "cell_type": "code",
   "execution_count": 76,
   "metadata": {},
   "outputs": [
    {
     "name": "stdout",
     "output_type": "stream",
     "text": [
      "0 152\n",
      "1 754\n",
      "2 491\n",
      "3 729\n",
      "4 646\n"
     ]
    }
   ],
   "source": [
    "for i in range(len(strings)):\n",
    "    print(i, score_string(strings[i]))"
   ]
  },
  {
   "cell_type": "code",
   "execution_count": 40,
   "metadata": {},
   "outputs": [
    {
     "ename": "IndexError",
     "evalue": "range object index out of range",
     "output_type": "error",
     "traceback": [
      "\u001b[0;31m---------------------------------------------------------------------------\u001b[0m",
      "\u001b[0;31mIndexError\u001b[0m                                Traceback (most recent call last)",
      "\u001b[0;32m<ipython-input-40-8e6f7e1aca09>\u001b[0m in \u001b[0;36m<module>\u001b[0;34m()\u001b[0m\n\u001b[0;32m----> 1\u001b[0;31m \u001b[0mscore\u001b[0m\u001b[0;34m[\u001b[0m\u001b[0;36m1\u001b[0m\u001b[0;34m]\u001b[0m\u001b[0;34m\u001b[0m\u001b[0m\n\u001b[0m",
      "\u001b[0;31mIndexError\u001b[0m: range object index out of range"
     ]
    }
   ],
   "source": [
    "score[1]"
   ]
  },
  {
   "cell_type": "code",
   "execution_count": null,
   "metadata": {
    "collapsed": true
   },
   "outputs": [],
   "source": []
  }
 ],
 "metadata": {
  "kernelspec": {
   "display_name": "Python 3",
   "language": "python",
   "name": "python3"
  },
  "language_info": {
   "codemirror_mode": {
    "name": "ipython",
    "version": 3
   },
   "file_extension": ".py",
   "mimetype": "text/x-python",
   "name": "python",
   "nbconvert_exporter": "python",
   "pygments_lexer": "ipython3",
   "version": "3.6.3"
  },
  "toc": {
   "nav_menu": {},
   "number_sections": true,
   "sideBar": true,
   "skip_h1_title": false,
   "toc_cell": false,
   "toc_position": {},
   "toc_section_display": "block",
   "toc_window_display": false
  }
 },
 "nbformat": 4,
 "nbformat_minor": 2
}
