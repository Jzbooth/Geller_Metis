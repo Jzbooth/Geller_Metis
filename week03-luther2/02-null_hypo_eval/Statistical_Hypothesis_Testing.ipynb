{
 "cells": [
  {
   "cell_type": "markdown",
   "metadata": {},
   "source": [
    "## Statistical Hypothesis Testing"
   ]
  },
  {
   "cell_type": "markdown",
   "metadata": {},
   "source": [
    "### Null Hypothesis\n",
    "\n",
    "Let's review Null Hypothesis from earlier. Someone says they can predict coin tosses. We toss a coin 100 times and see how many they right. Say they get 57. We check the probability of a neutral coin giving us 57."
   ]
  },
  {
   "cell_type": "code",
   "execution_count": 1,
   "metadata": {
    "ExecuteTime": {
     "end_time": "2017-01-05T16:06:09.531161",
     "start_time": "2017-01-05T16:06:08.700787"
    }
   },
   "outputs": [
    {
     "data": {
      "text/plain": [
       "0.066605309603606777"
      ]
     },
     "execution_count": 1,
     "metadata": {},
     "output_type": "execute_result"
    }
   ],
   "source": [
    "# Python 2 & 3 Compatibility\n",
    "from __future__ import print_function, division\n",
    "\n",
    "from scipy.stats import binom\n",
    "1 - binom.cdf(57, 100, 0.5) # probability of coin being 57 or more extreme. \n",
    "# 0.06 => this is over 0.05, so we wouldn't reject the null hypothesis based on an observation of 57 heads/100"
   ]
  },
  {
   "cell_type": "markdown",
   "metadata": {},
   "source": [
    "This result at over 6% is within our pre-defined 95 percentile. So we reject the claim and say the person has no ability. "
   ]
  },
  {
   "cell_type": "markdown",
   "metadata": {},
   "source": [
    "---"
   ]
  },
  {
   "cell_type": "markdown",
   "metadata": {},
   "source": [
    "### A More Specific Claim\n",
    "\n",
    "So far so good. What if the person said, \"I'm not perfect, but I can predict coin tosses 60% of the time. Which is still good, which is still valuable.\"\n",
    "\n",
    "What do we do in this case. Sure, we can do exactly what we did earlier and when she predict 57 times, we can reject her claim.\n",
    "\n",
    "But what if she says, \"Wait a minute. I said 60 and I got 57, that sounds pretty good to me.\"\n",
    "\n",
    "What do we say to that? The issue here is that, there is no longer a single Null Hypothesis, that we prove or disprove. But two competing hypothesis. A -> there is no predictive power. B -> there is a 60% predictive power.\n",
    "\n",
    "Each is a normal curve, one centered at 50% and the other at 60%."
   ]
  },
  {
   "cell_type": "code",
   "execution_count": 2,
   "metadata": {
    "ExecuteTime": {
     "end_time": "2017-01-05T16:06:15.147186",
     "start_time": "2017-01-05T16:06:14.575820"
    }
   },
   "outputs": [
    {
     "data": {
      "image/png": "[encoded data removed]",
      "text/plain": [
       "<matplotlib.figure.Figure at 0x1a0cd08c88>"
      ]
     },
     "metadata": {},
     "output_type": "display_data"
    }
   ],
   "source": [
    "import matplotlib.pyplot as plt\n",
    "import numpy as np\n",
    "import matplotlib.mlab as mlab\n",
    "import math\n",
    "%matplotlib inline\n",
    "\n",
    "mu = 50\n",
    "variance = 10\n",
    "sigma = math.sqrt(variance)\n",
    "x = np.linspace(1, 100, 100)\n",
    "plt.plot(x,mlab.normpdf(x, mu, sigma))\n",
    "\n",
    "mu = 60\n",
    "variance = 10\n",
    "sigma = math.sqrt(variance)\n",
    "x = np.linspace(1, 100, 100)\n",
    "plt.plot(x,mlab.normpdf(x, mu, sigma))\n",
    "\n",
    "plt.show()\n",
    "#this appears in a/b testing! when trying to figure out if a change in activity is significant based in change of layout"
   ]
  },
  {
   "cell_type": "markdown",
   "metadata": {},
   "source": [
    "**And 57 correct guesses fall within the 95% of both the curves:**"
   ]
  },
  {
   "cell_type": "code",
   "execution_count": 3,
   "metadata": {
    "ExecuteTime": {
     "end_time": "2017-01-05T16:06:16.676730",
     "start_time": "2017-01-05T16:06:16.671287"
    },
    "scrolled": true
   },
   "outputs": [
    {
     "name": "stdout",
     "output_type": "stream",
     "text": [
      "0.0666053096036\n",
      "0.303260129843\n"
     ]
    }
   ],
   "source": [
    "print (1 - binom.cdf(57, 100, 0.5))\n",
    "print (binom.cdf(57, 100, 0.6))"
   ]
  },
  {
   "cell_type": "markdown",
   "metadata": {},
   "source": [
    "What now? There just isn't enough data to achieve a confidence of 95%. There are few things we can do."
   ]
  },
  {
   "cell_type": "markdown",
   "metadata": {},
   "source": [
    "### 1) Decrease confidence\n",
    "\n",
    "\n",
    "Since we have a claim at 50 and 60, we can pick the mid-point, which is 55. We can say if she can predict over 55, then she has predictive power. This would mean that we have decreased our confidence level."
   ]
  },
  {
   "cell_type": "code",
   "execution_count": 11,
   "metadata": {
    "ExecuteTime": {
     "end_time": "2017-01-05T16:06:19.107246",
     "start_time": "2017-01-05T16:06:19.101743"
    }
   },
   "outputs": [
    {
     "name": "stdout",
     "output_type": "stream",
     "text": [
      "0.135626512037\n",
      "0.13109045262\n"
     ]
    }
   ],
   "source": [
    "print (1 - binom.cdf(55, 100, 0.5))\n",
    "print (binom.cdf(54, 100, 0.6))"
   ]
  },
  {
   "cell_type": "markdown",
   "metadata": {},
   "source": [
    "** At 87% percent confidence level, we can say that the person has some predictive power, since she got 57 tosses correct.**"
   ]
  },
  {
   "cell_type": "markdown",
   "metadata": {},
   "source": [
    "### 2) Be Biased\n",
    "\n",
    "But it is not neccessary that we bias the two hypothesis equally and pick the midpoint the way we did. The cut-off point can be anywhere. Currently, our error margins are even. The chance that someone has predictive power and we say no is 13% and the chance that someone has no power and we say they do is also 13%. As we change the cutoff, one error goes down and the other goes way up.\n",
    "\n",
    "For example, if we stuck with the original 95% on a coin being fair:"
   ]
  },
  {
   "cell_type": "code",
   "execution_count": 5,
   "metadata": {
    "ExecuteTime": {
     "end_time": "2017-01-05T16:06:23.664719",
     "start_time": "2017-01-05T16:06:23.654929"
    }
   },
   "outputs": [
    {
     "data": {
      "text/plain": [
       "58.0"
      ]
     },
     "execution_count": 5,
     "metadata": {},
     "output_type": "execute_result"
    }
   ],
   "source": [
    "binom.ppf(0.95, 100, 0.5)"
   ]
  },
  {
   "cell_type": "markdown",
   "metadata": {},
   "source": [
    "Then our cutff is 58. Our two errors will be:"
   ]
  },
  {
   "cell_type": "code",
   "execution_count": 6,
   "metadata": {
    "ExecuteTime": {
     "end_time": "2017-01-05T16:06:25.666664",
     "start_time": "2017-01-05T16:06:25.659487"
    }
   },
   "outputs": [
    {
     "name": "stdout",
     "output_type": "stream",
     "text": [
      "0.044313040057\n",
      "0.377467323878\n"
     ]
    }
   ],
   "source": [
    "print (1-binom.cdf(58, 100, 0.5))\n",
    "print (binom.cdf(58, 100, 0.6))"
   ]
  },
  {
   "cell_type": "markdown",
   "metadata": {},
   "source": [
    "5% chance someone has no power and we say they do. But a 38% chance someone has predictive power and we say no. Which depending on the problem might be exactly what we want. These two types are errors are called Type I and Type II. And we have the choice of baising against one or the other. "
   ]
  },
  {
   "cell_type": "markdown",
   "metadata": {},
   "source": [
    "### 3) Increase Sample Size\n",
    "\n",
    "The best senario though is to increase the sample size. Imagine what happens if instead of 100, we did 1000 tosses."
   ]
  },
  {
   "cell_type": "code",
   "execution_count": 7,
   "metadata": {
    "ExecuteTime": {
     "end_time": "2017-01-05T16:07:23.777643",
     "start_time": "2017-01-05T16:07:23.568055"
    }
   },
   "outputs": [
    {
     "data": {
      "image/png": "[encoded data removed]",
      "text/plain": [
       "<matplotlib.figure.Figure at 0x1a0dd974e0>"
      ]
     },
     "metadata": {},
     "output_type": "display_data"
    }
   ],
   "source": [
    "import matplotlib.pyplot as plt\n",
    "import numpy as np\n",
    "import matplotlib.mlab as mlab\n",
    "import math\n",
    "%matplotlib inline\n",
    "\n",
    "mu = 50\n",
    "variance = 1\n",
    "sigma = math.sqrt(variance)\n",
    "x = np.linspace(1, 100, 100)\n",
    "plt.plot(x,mlab.normpdf(x, mu, sigma))\n",
    "\n",
    "mu = 60\n",
    "variance = 1\n",
    "sigma = math.sqrt(variance)\n",
    "x = np.linspace(1, 100, 100)\n",
    "plt.plot(x,mlab.normpdf(x, mu, sigma))\n",
    "\n",
    "plt.show()"
   ]
  },
  {
   "cell_type": "markdown",
   "metadata": {},
   "source": [
    "The two normal curves are completely seperated now."
   ]
  },
  {
   "cell_type": "code",
   "execution_count": 8,
   "metadata": {
    "ExecuteTime": {
     "end_time": "2017-01-05T16:07:25.100568",
     "start_time": "2017-01-05T16:07:25.093726"
    }
   },
   "outputs": [
    {
     "name": "stdout",
     "output_type": "stream",
     "text": [
      "526.0\n",
      "574.0\n"
     ]
    }
   ],
   "source": [
    "print (binom.ppf(0.95,1000,0.5))\n",
    "print (binom.ppf(0.05,1000,0.6))"
   ]
  },
  {
   "cell_type": "code",
   "execution_count": 9,
   "metadata": {
    "ExecuteTime": {
     "end_time": "2017-01-05T16:07:25.584770",
     "start_time": "2017-01-05T16:07:25.579056"
    }
   },
   "outputs": [
    {
     "name": "stdout",
     "output_type": "stream",
     "text": [
      "0.000695870797211\n",
      "0.000741202899006\n"
     ]
    }
   ],
   "source": [
    "print (1-binom.cdf(550, 1000, 0.5))\n",
    "print (binom.cdf(550, 1000, 0.6))"
   ]
  },
  {
   "cell_type": "markdown",
   "metadata": {},
   "source": [
    "**With a cutoff of 550, both our errors come down to under 0.1%.**"
   ]
  }
 ],
 "metadata": {
  "anaconda-cloud": {},
  "kernelspec": {
   "display_name": "Python 3",
   "language": "python",
   "name": "python3"
  },
  "language_info": {
   "codemirror_mode": {
    "name": "ipython",
    "version": 3
   },
   "file_extension": ".py",
   "mimetype": "text/x-python",
   "name": "python",
   "nbconvert_exporter": "python",
   "pygments_lexer": "ipython3",
   "version": "3.6.3"
  },
  "toc": {
   "nav_menu": {},
   "number_sections": true,
   "sideBar": true,
   "skip_h1_title": false,
   "toc_cell": false,
   "toc_position": {},
   "toc_section_display": "block",
   "toc_window_display": false
  }
 },
 "nbformat": 4,
 "nbformat_minor": 1
}
