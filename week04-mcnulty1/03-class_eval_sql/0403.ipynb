{
 "cells": [
  {
   "cell_type": "markdown",
   "metadata": {},
   "source": [
    "#### Pair Problem\n",
    "\n",
    "This is a classic problem. This particular wording is varition on the text from [Cracking the Coding Interview](http://www.amazon.com/Cracking-Coding-Interview-Programming-Questions/dp/098478280X) (question 9.8):\n",
    "\n",
    "**For questions 1, 2 and 3, you don't need recursion. For question 4, try to see if you can do it without recursion. Then do question 4 with recursion.**\n",
    "\n",
    "1) Given enough pennies (1 cent) and nickels (5 cents), how many ways can you make change for a given amount of cents? Your function will be def ways(cents).\n",
    "\n",
    "    Example: ways(12) will return 3. \n",
    "    (Because there are three ways: 2 nickels and 2 pennies, 1 nickels and 7 pennies, 12 pennies.)\n",
    "\n",
    "2) Given enough pennies (1 cent), nickels (5 cents) and dimes (10 cents), how many ways can you make change?\n",
    "\n",
    "3) Given enough pennies (1 cent), nickels (5 cents), dimes (10 cents) and quarters (25 cents), how many ways can you make change?\n",
    "\n",
    "4) Given an arbitrary set of coin types, how many ways can you make change? Your function will now look like this:\n",
    "\n",
    "    def ways(cents,coinTypes):\n",
    "  \n",
    "  And you will call it this way:\n",
    "  \n",
    "    ways(100,[25, 10, 5, 1])\n",
    "    242\n"
   ]
  },
  {
   "cell_type": "code",
   "execution_count": 25,
   "metadata": {
    "collapsed": true
   },
   "outputs": [],
   "source": [
    "# 1\n",
    "def ways_nickels_pennies(cents):\n",
    "    nickel = 5\n",
    "    max_nickels = cents//nickel\n",
    "    return max_nickels + 1"
   ]
  },
  {
   "cell_type": "code",
   "execution_count": 6,
   "metadata": {},
   "outputs": [
    {
     "data": {
      "text/plain": [
       "3"
      ]
     },
     "execution_count": 6,
     "metadata": {},
     "output_type": "execute_result"
    }
   ],
   "source": [
    "ways(12)"
   ]
  },
  {
   "cell_type": "code",
   "execution_count": 7,
   "metadata": {},
   "outputs": [
    {
     "data": {
      "text/plain": [
       "5"
      ]
     },
     "execution_count": 7,
     "metadata": {},
     "output_type": "execute_result"
    }
   ],
   "source": [
    "ways(20)"
   ]
  },
  {
   "cell_type": "code",
   "execution_count": 24,
   "metadata": {
    "collapsed": true
   },
   "outputs": [],
   "source": [
    "# 2\n",
    "def ways_list(cents):\n",
    "    dimes = 10\n",
    "    nickels = 5\n",
    "    pennies = 1\n",
    "    max_dimes = cents//dimes\n",
    "    max_nickels = cents//nickels\n",
    "    max_pennies = cents//pennies\n",
    "    ways = []\n",
    "    for d in range(max_dimes+1):\n",
    "        for n in range(max_nickels+1):\n",
    "            for p in range(max_pennies+1):\n",
    "                if d*dimes + n * nickels + p * pennies == cents:\n",
    "                    ways.append((d,n,p))\n",
    "                    print(d,n,p)\n",
    "    return len(ways)"
   ]
  },
  {
   "cell_type": "code",
   "execution_count": 23,
   "metadata": {},
   "outputs": [
    {
     "name": "stdout",
     "output_type": "stream",
     "text": [
      "0 0 20\n",
      "0 1 15\n",
      "0 2 10\n",
      "0 3 5\n",
      "0 4 0\n",
      "1 0 10\n",
      "1 1 5\n",
      "1 2 0\n",
      "2 0 0\n"
     ]
    },
    {
     "data": {
      "text/plain": [
       "9"
      ]
     },
     "execution_count": 23,
     "metadata": {},
     "output_type": "execute_result"
    }
   ],
   "source": [
    "ways_list(20)"
   ]
  },
  {
   "cell_type": "code",
   "execution_count": 31,
   "metadata": {
    "collapsed": true
   },
   "outputs": [],
   "source": [
    "# 3\n",
    "def ways_list(cents):\n",
    "    quarters = 25\n",
    "    dimes = 10\n",
    "    nickels = 5\n",
    "    pennies = 1\n",
    "    max_quarters = cents//quarters\n",
    "    max_dimes = cents//dimes\n",
    "    max_nickels = cents//nickels\n",
    "    max_pennies = cents//pennies\n",
    "    ways = []\n",
    "    for q in range(max_quarters + 1):\n",
    "        for d in range(max_dimes+1):\n",
    "            for n in range(max_nickels+1):\n",
    "                for p in range(max_pennies+1):\n",
    "                    if q* quarters + d*dimes + n * nickels + p * pennies == cents:\n",
    "                        ways.append((q,d,n,p))\n",
    "    return len(ways)"
   ]
  },
  {
   "cell_type": "code",
   "execution_count": 32,
   "metadata": {},
   "outputs": [
    {
     "data": {
      "text/plain": [
       "242"
      ]
     },
     "execution_count": 32,
     "metadata": {},
     "output_type": "execute_result"
    }
   ],
   "source": [
    "ways_list(100)"
   ]
  },
  {
   "cell_type": "code",
   "execution_count": 37,
   "metadata": {
    "collapsed": true
   },
   "outputs": [],
   "source": [
    "# 3 better\n",
    "def ways(cents):\n",
    "    quarters = 25\n",
    "    dimes = 10\n",
    "    nickels = 5\n",
    "    pennies = 1\n",
    "    max_quarters = cents//quarters\n",
    "    max_dimes = cents//quarters\n",
    "    max_nickels = cents/nickels\n",
    "    max_pennies = cents//pennies\n",
    "    \n",
    "    ways_quarters = max_quarters + 1\n",
    "    ways_dimes = max_dimes + 1\n",
    "    ways_nickels = max_nickels + 1\n",
    "    ways_pennies = max_pennies\n",
    "    \n",
    "    return ways_quarters + ways_dimes + ways_nickels + ways_pennies\n",
    "    "
   ]
  },
  {
   "cell_type": "code",
   "execution_count": 38,
   "metadata": {},
   "outputs": [
    {
     "data": {
      "text/plain": [
       "131.0"
      ]
     },
     "execution_count": 38,
     "metadata": {},
     "output_type": "execute_result"
    }
   ],
   "source": [
    "ways(100)"
   ]
  },
  {
   "cell_type": "code",
   "execution_count": null,
   "metadata": {
    "collapsed": true
   },
   "outputs": [],
   "source": []
  }
 ],
 "metadata": {
  "kernelspec": {
   "display_name": "Python 3",
   "language": "python",
   "name": "python3"
  },
  "language_info": {
   "codemirror_mode": {
    "name": "ipython",
    "version": 3
   },
   "file_extension": ".py",
   "mimetype": "text/x-python",
   "name": "python",
   "nbconvert_exporter": "python",
   "pygments_lexer": "ipython3",
   "version": "3.6.3"
  },
  "toc": {
   "nav_menu": {},
   "number_sections": true,
   "sideBar": true,
   "skip_h1_title": false,
   "toc_cell": false,
   "toc_position": {},
   "toc_section_display": "block",
   "toc_window_display": false
  }
 },
 "nbformat": 4,
 "nbformat_minor": 2
}
